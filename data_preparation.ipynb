{
 "cells": [
  {
   "cell_type": "markdown",
   "metadata": {},
   "source": [
    "# Финальный ноутбук проекта"
   ]
  },
  {
   "cell_type": "markdown",
   "metadata": {},
   "source": [
    "### Описание данных"
   ]
  },
  {
   "cell_type": "markdown",
   "metadata": {},
   "source": [
    "GA Sessions:\n",
    "###### Одна строка = один визит на сайт.\n",
    "- session_id — ID визита;\n",
    "- client_id — ID посетителя;\n",
    "- visit_date — дата визита;\n",
    "- visit_time — время визита;\n",
    "- visit_number — порядковый номер визита клиента;\n",
    "- utm_source — канал привлечения;\n",
    "- utm_medium — тип привлечения;\n",
    "- utm_campaign — рекламная кампания;\n",
    "- utm_keyword — ключевое слово;\n",
    "- device_category — тип устройства;\n",
    "- device_os — ОС устройства;\n",
    "- device_brand — марка устройства;\n",
    "- device_model — модель устройства;\n",
    "- device_screen_resolution — разрешение экрана;\n",
    "- device_browser — браузер;\n",
    "- geo_country — страна;\n",
    "- geo_city — город\n",
    "\n",
    "GA Hits:\n",
    "###### Одна строка = одно событие в рамках одного визита на сайтv\n",
    "- session_id — ID визита;\n",
    "- hit_date — дата события;\n",
    "- hit_time — время события;\n",
    "- hit_number — порядковый номер события в рамках сессии;\n",
    "- hit_type — тип события;\n",
    "- hit_referer — источник события;\n",
    "- hit_page_path — страница события;\n",
    "- event_category — тип действия;\n",
    "- event_action — действие;\n",
    "- event_label — тег действия;\n",
    "- event_value — значение результата действия"
   ]
  },
  {
   "cell_type": "markdown",
   "metadata": {},
   "source": [
    "### Импорт сторонних библиотек"
   ]
  },
  {
   "cell_type": "code",
   "execution_count": 1,
   "metadata": {},
   "outputs": [],
   "source": [
    "import re\n",
    "import pandas as pd\n",
    "import numpy as np\n",
    "import pickle\n",
    "import matplotlib.pyplot as plt\n",
    "from sklearn.preprocessing import OneHotEncoder, StandardScaler\n",
    "from sklearn.ensemble import RandomForestClassifier\n",
    "from sklearn.linear_model import LogisticRegression\n",
    "from sklearn.neural_network import MLPClassifier\n",
    "from sklearn.model_selection import train_test_split \n",
    "from sklearn.metrics import accuracy_score, confusion_matrix, roc_auc_score\n",
    "from sklearn.model_selection import cross_validate\n",
    "from sklearn.model_selection import cross_val_score\n",
    "from sklearn.utils import resample"
   ]
  },
  {
   "cell_type": "markdown",
   "metadata": {},
   "source": [
    "### Загрузка данных"
   ]
  },
  {
   "cell_type": "code",
   "execution_count": 2,
   "metadata": {},
   "outputs": [],
   "source": [
    "com_df = pd.read_csv('data/df_with_target.csv')"
   ]
  },
  {
   "cell_type": "code",
   "execution_count": 3,
   "metadata": {},
   "outputs": [
    {
     "data": {
      "text/plain": "                                  session_id     client_id  visit_date  \\\n0  9055434745589932991.1637753792.1637753792  2.108383e+09  2021-11-24   \n1   905544597018549464.1636867290.1636867290  2.108385e+08  2021-11-14   \n2  9055446045651783499.1640648526.1640648526  2.108385e+09  2021-12-28   \n3  9055447046360770272.1622255328.1622255328  2.108386e+09  2021-05-29   \n4  9055447046360770272.1622255345.1622255345  2.108386e+09  2021-05-29   \n\n  visit_time  visit_number            utm_source utm_medium  \\\n0   14:36:32             1  ZpYIoDJMcFzVoPFsHGJL     banner   \n1   08:21:30             1  MvfHsxITijuriZxsqZqt        cpm   \n2   02:42:06             1  ZpYIoDJMcFzVoPFsHGJL     banner   \n3   05:00:00             1  kjsLglQLzykiRbcDiGcD        cpc   \n4   05:00:00             2  kjsLglQLzykiRbcDiGcD        cpc   \n\n           utm_campaign         utm_adcontent           utm_keyword  \\\n0  LEoPHuyFvzoNfnzGgfcd  vCIpmpaGBnIQhyYNkXqp  puhZPIYqKXeFPaUviSjo   \n1  FTjNLDyTrXaWYgZymFkV  xhoenQgDQsgfEPYNPwKO  IGUCNvHlhfHpROGclCit   \n2  LEoPHuyFvzoNfnzGgfcd  vCIpmpaGBnIQhyYNkXqp  puhZPIYqKXeFPaUviSjo   \n3                   NaN  NOBKLgtuvqYWkXQHeYWM                   NaN   \n4                   NaN                   NaN                   NaN   \n\n  device_category device_os device_brand device_model  \\\n0          mobile   Android       Huawei          NaN   \n1          mobile   Android      Samsung          NaN   \n2          mobile   Android       Huawei          NaN   \n3          mobile       NaN       Xiaomi          NaN   \n4          mobile       NaN       Xiaomi          NaN   \n\n  device_screen_resolution    device_browser geo_country     geo_city  \\\n0                  360x720            Chrome      Russia     Zlatoust   \n1                  385x854  Samsung Internet      Russia       Moscow   \n2                  360x720            Chrome      Russia  Krasnoyarsk   \n3                  393x786            Chrome      Russia       Moscow   \n4                  393x786            Chrome      Russia       Moscow   \n\n   target_action  \n0              0  \n1              0  \n2              0  \n3              0  \n4              0  ",
      "text/html": "<div>\n<style scoped>\n    .dataframe tbody tr th:only-of-type {\n        vertical-align: middle;\n    }\n\n    .dataframe tbody tr th {\n        vertical-align: top;\n    }\n\n    .dataframe thead th {\n        text-align: right;\n    }\n</style>\n<table border=\"1\" class=\"dataframe\">\n  <thead>\n    <tr style=\"text-align: right;\">\n      <th></th>\n      <th>session_id</th>\n      <th>client_id</th>\n      <th>visit_date</th>\n      <th>visit_time</th>\n      <th>visit_number</th>\n      <th>utm_source</th>\n      <th>utm_medium</th>\n      <th>utm_campaign</th>\n      <th>utm_adcontent</th>\n      <th>utm_keyword</th>\n      <th>device_category</th>\n      <th>device_os</th>\n      <th>device_brand</th>\n      <th>device_model</th>\n      <th>device_screen_resolution</th>\n      <th>device_browser</th>\n      <th>geo_country</th>\n      <th>geo_city</th>\n      <th>target_action</th>\n    </tr>\n  </thead>\n  <tbody>\n    <tr>\n      <th>0</th>\n      <td>9055434745589932991.1637753792.1637753792</td>\n      <td>2.108383e+09</td>\n      <td>2021-11-24</td>\n      <td>14:36:32</td>\n      <td>1</td>\n      <td>ZpYIoDJMcFzVoPFsHGJL</td>\n      <td>banner</td>\n      <td>LEoPHuyFvzoNfnzGgfcd</td>\n      <td>vCIpmpaGBnIQhyYNkXqp</td>\n      <td>puhZPIYqKXeFPaUviSjo</td>\n      <td>mobile</td>\n      <td>Android</td>\n      <td>Huawei</td>\n      <td>NaN</td>\n      <td>360x720</td>\n      <td>Chrome</td>\n      <td>Russia</td>\n      <td>Zlatoust</td>\n      <td>0</td>\n    </tr>\n    <tr>\n      <th>1</th>\n      <td>905544597018549464.1636867290.1636867290</td>\n      <td>2.108385e+08</td>\n      <td>2021-11-14</td>\n      <td>08:21:30</td>\n      <td>1</td>\n      <td>MvfHsxITijuriZxsqZqt</td>\n      <td>cpm</td>\n      <td>FTjNLDyTrXaWYgZymFkV</td>\n      <td>xhoenQgDQsgfEPYNPwKO</td>\n      <td>IGUCNvHlhfHpROGclCit</td>\n      <td>mobile</td>\n      <td>Android</td>\n      <td>Samsung</td>\n      <td>NaN</td>\n      <td>385x854</td>\n      <td>Samsung Internet</td>\n      <td>Russia</td>\n      <td>Moscow</td>\n      <td>0</td>\n    </tr>\n    <tr>\n      <th>2</th>\n      <td>9055446045651783499.1640648526.1640648526</td>\n      <td>2.108385e+09</td>\n      <td>2021-12-28</td>\n      <td>02:42:06</td>\n      <td>1</td>\n      <td>ZpYIoDJMcFzVoPFsHGJL</td>\n      <td>banner</td>\n      <td>LEoPHuyFvzoNfnzGgfcd</td>\n      <td>vCIpmpaGBnIQhyYNkXqp</td>\n      <td>puhZPIYqKXeFPaUviSjo</td>\n      <td>mobile</td>\n      <td>Android</td>\n      <td>Huawei</td>\n      <td>NaN</td>\n      <td>360x720</td>\n      <td>Chrome</td>\n      <td>Russia</td>\n      <td>Krasnoyarsk</td>\n      <td>0</td>\n    </tr>\n    <tr>\n      <th>3</th>\n      <td>9055447046360770272.1622255328.1622255328</td>\n      <td>2.108386e+09</td>\n      <td>2021-05-29</td>\n      <td>05:00:00</td>\n      <td>1</td>\n      <td>kjsLglQLzykiRbcDiGcD</td>\n      <td>cpc</td>\n      <td>NaN</td>\n      <td>NOBKLgtuvqYWkXQHeYWM</td>\n      <td>NaN</td>\n      <td>mobile</td>\n      <td>NaN</td>\n      <td>Xiaomi</td>\n      <td>NaN</td>\n      <td>393x786</td>\n      <td>Chrome</td>\n      <td>Russia</td>\n      <td>Moscow</td>\n      <td>0</td>\n    </tr>\n    <tr>\n      <th>4</th>\n      <td>9055447046360770272.1622255345.1622255345</td>\n      <td>2.108386e+09</td>\n      <td>2021-05-29</td>\n      <td>05:00:00</td>\n      <td>2</td>\n      <td>kjsLglQLzykiRbcDiGcD</td>\n      <td>cpc</td>\n      <td>NaN</td>\n      <td>NaN</td>\n      <td>NaN</td>\n      <td>mobile</td>\n      <td>NaN</td>\n      <td>Xiaomi</td>\n      <td>NaN</td>\n      <td>393x786</td>\n      <td>Chrome</td>\n      <td>Russia</td>\n      <td>Moscow</td>\n      <td>0</td>\n    </tr>\n  </tbody>\n</table>\n</div>"
     },
     "execution_count": 3,
     "metadata": {},
     "output_type": "execute_result"
    }
   ],
   "source": [
    "com_df.head()"
   ]
  },
  {
   "cell_type": "code",
   "execution_count": 4,
   "metadata": {},
   "outputs": [
    {
     "data": {
      "text/plain": "(1732266, 19)"
     },
     "execution_count": 4,
     "metadata": {},
     "output_type": "execute_result"
    }
   ],
   "source": [
    "com_df.shape"
   ]
  },
  {
   "cell_type": "markdown",
   "metadata": {},
   "source": [
    "### Data Preparation"
   ]
  },
  {
   "cell_type": "markdown",
   "metadata": {},
   "source": [
    "##### 1. Список колонок датасета"
   ]
  },
  {
   "cell_type": "code",
   "execution_count": 5,
   "metadata": {},
   "outputs": [
    {
     "data": {
      "text/plain": "Index(['session_id', 'client_id', 'visit_date', 'visit_time', 'visit_number',\n       'utm_source', 'utm_medium', 'utm_campaign', 'utm_adcontent',\n       'utm_keyword', 'device_category', 'device_os', 'device_brand',\n       'device_model', 'device_screen_resolution', 'device_browser',\n       'geo_country', 'geo_city', 'target_action'],\n      dtype='object')"
     },
     "execution_count": 5,
     "metadata": {},
     "output_type": "execute_result"
    }
   ],
   "source": [
    "com_df.columns"
   ]
  },
  {
   "cell_type": "markdown",
   "metadata": {},
   "source": [
    "##### 2. Описательные статистики датасета"
   ]
  },
  {
   "cell_type": "code",
   "execution_count": 6,
   "metadata": {},
   "outputs": [
    {
     "data": {
      "text/plain": "                                       session_id  visit_date visit_time  \\\ncount                                     1732266     1732266    1732266   \nunique                                    1732266         226      85032   \ntop     9055434745589932991.1637753792.1637753792  2021-05-24   13:00:00   \nfreq                                            1       39230      58044   \n\n                  utm_source utm_medium          utm_campaign  \\\ncount                1732190    1732266               1536979   \nunique                   280         55                   406   \ntop     ZpYIoDJMcFzVoPFsHGJL     banner  LTuZkdKfxRGVceoWkVyg   \nfreq                  552555     525206                422992   \n\n               utm_adcontent           utm_keyword device_category device_os  \\\ncount                1428129                711514         1732266    718302   \nunique                   280                  1192               3        13   \ntop     JNHcPlZPxEMWDnRiyoBf  puhZPIYqKXeFPaUviSjo          mobile   Android   \nfreq                  935408                465950         1368679    425520   \n\n       device_brand          device_model device_screen_resolution  \\\ncount       1385070                 15062                  1732266   \nunique          200                   104                     4947   \ntop           Apple  AuMdmADEIoPXiWpTsBEj                  414x896   \nfreq         503533                  9018                   155140   \n\n       device_browser geo_country geo_city  \ncount         1732266     1732266  1732266  \nunique             55         159     2389  \ntop            Chrome      Russia   Moscow  \nfreq           951573     1682423   750928  ",
      "text/html": "<div>\n<style scoped>\n    .dataframe tbody tr th:only-of-type {\n        vertical-align: middle;\n    }\n\n    .dataframe tbody tr th {\n        vertical-align: top;\n    }\n\n    .dataframe thead th {\n        text-align: right;\n    }\n</style>\n<table border=\"1\" class=\"dataframe\">\n  <thead>\n    <tr style=\"text-align: right;\">\n      <th></th>\n      <th>session_id</th>\n      <th>visit_date</th>\n      <th>visit_time</th>\n      <th>utm_source</th>\n      <th>utm_medium</th>\n      <th>utm_campaign</th>\n      <th>utm_adcontent</th>\n      <th>utm_keyword</th>\n      <th>device_category</th>\n      <th>device_os</th>\n      <th>device_brand</th>\n      <th>device_model</th>\n      <th>device_screen_resolution</th>\n      <th>device_browser</th>\n      <th>geo_country</th>\n      <th>geo_city</th>\n    </tr>\n  </thead>\n  <tbody>\n    <tr>\n      <th>count</th>\n      <td>1732266</td>\n      <td>1732266</td>\n      <td>1732266</td>\n      <td>1732190</td>\n      <td>1732266</td>\n      <td>1536979</td>\n      <td>1428129</td>\n      <td>711514</td>\n      <td>1732266</td>\n      <td>718302</td>\n      <td>1385070</td>\n      <td>15062</td>\n      <td>1732266</td>\n      <td>1732266</td>\n      <td>1732266</td>\n      <td>1732266</td>\n    </tr>\n    <tr>\n      <th>unique</th>\n      <td>1732266</td>\n      <td>226</td>\n      <td>85032</td>\n      <td>280</td>\n      <td>55</td>\n      <td>406</td>\n      <td>280</td>\n      <td>1192</td>\n      <td>3</td>\n      <td>13</td>\n      <td>200</td>\n      <td>104</td>\n      <td>4947</td>\n      <td>55</td>\n      <td>159</td>\n      <td>2389</td>\n    </tr>\n    <tr>\n      <th>top</th>\n      <td>9055434745589932991.1637753792.1637753792</td>\n      <td>2021-05-24</td>\n      <td>13:00:00</td>\n      <td>ZpYIoDJMcFzVoPFsHGJL</td>\n      <td>banner</td>\n      <td>LTuZkdKfxRGVceoWkVyg</td>\n      <td>JNHcPlZPxEMWDnRiyoBf</td>\n      <td>puhZPIYqKXeFPaUviSjo</td>\n      <td>mobile</td>\n      <td>Android</td>\n      <td>Apple</td>\n      <td>AuMdmADEIoPXiWpTsBEj</td>\n      <td>414x896</td>\n      <td>Chrome</td>\n      <td>Russia</td>\n      <td>Moscow</td>\n    </tr>\n    <tr>\n      <th>freq</th>\n      <td>1</td>\n      <td>39230</td>\n      <td>58044</td>\n      <td>552555</td>\n      <td>525206</td>\n      <td>422992</td>\n      <td>935408</td>\n      <td>465950</td>\n      <td>1368679</td>\n      <td>425520</td>\n      <td>503533</td>\n      <td>9018</td>\n      <td>155140</td>\n      <td>951573</td>\n      <td>1682423</td>\n      <td>750928</td>\n    </tr>\n  </tbody>\n</table>\n</div>"
     },
     "execution_count": 6,
     "metadata": {},
     "output_type": "execute_result"
    }
   ],
   "source": [
    "com_df.describe(include=[object])"
   ]
  },
  {
   "cell_type": "code",
   "execution_count": 7,
   "metadata": {},
   "outputs": [
    {
     "data": {
      "text/plain": "          client_id  visit_number  target_action\ncount  1.732266e+06  1.732266e+06   1.732266e+06\nmean   1.074577e+09  2.627835e+00   2.904519e-02\nstd    6.201370e+08  1.164260e+01   1.679333e-01\nmin    2.321640e+02  1.000000e+00   0.000000e+00\n25%    5.378943e+08  1.000000e+00   0.000000e+00\n50%    1.074614e+09  1.000000e+00   0.000000e+00\n75%    1.612130e+09  1.000000e+00   0.000000e+00\nmax    2.147483e+09  5.640000e+02   1.000000e+00",
      "text/html": "<div>\n<style scoped>\n    .dataframe tbody tr th:only-of-type {\n        vertical-align: middle;\n    }\n\n    .dataframe tbody tr th {\n        vertical-align: top;\n    }\n\n    .dataframe thead th {\n        text-align: right;\n    }\n</style>\n<table border=\"1\" class=\"dataframe\">\n  <thead>\n    <tr style=\"text-align: right;\">\n      <th></th>\n      <th>client_id</th>\n      <th>visit_number</th>\n      <th>target_action</th>\n    </tr>\n  </thead>\n  <tbody>\n    <tr>\n      <th>count</th>\n      <td>1.732266e+06</td>\n      <td>1.732266e+06</td>\n      <td>1.732266e+06</td>\n    </tr>\n    <tr>\n      <th>mean</th>\n      <td>1.074577e+09</td>\n      <td>2.627835e+00</td>\n      <td>2.904519e-02</td>\n    </tr>\n    <tr>\n      <th>std</th>\n      <td>6.201370e+08</td>\n      <td>1.164260e+01</td>\n      <td>1.679333e-01</td>\n    </tr>\n    <tr>\n      <th>min</th>\n      <td>2.321640e+02</td>\n      <td>1.000000e+00</td>\n      <td>0.000000e+00</td>\n    </tr>\n    <tr>\n      <th>25%</th>\n      <td>5.378943e+08</td>\n      <td>1.000000e+00</td>\n      <td>0.000000e+00</td>\n    </tr>\n    <tr>\n      <th>50%</th>\n      <td>1.074614e+09</td>\n      <td>1.000000e+00</td>\n      <td>0.000000e+00</td>\n    </tr>\n    <tr>\n      <th>75%</th>\n      <td>1.612130e+09</td>\n      <td>1.000000e+00</td>\n      <td>0.000000e+00</td>\n    </tr>\n    <tr>\n      <th>max</th>\n      <td>2.147483e+09</td>\n      <td>5.640000e+02</td>\n      <td>1.000000e+00</td>\n    </tr>\n  </tbody>\n</table>\n</div>"
     },
     "execution_count": 7,
     "metadata": {},
     "output_type": "execute_result"
    }
   ],
   "source": [
    "com_df.describe(exclude=[object])"
   ]
  },
  {
   "cell_type": "code",
   "execution_count": 8,
   "metadata": {},
   "outputs": [
    {
     "name": "stdout",
     "output_type": "stream",
     "text": [
      "<class 'pandas.core.frame.DataFrame'>\n",
      "RangeIndex: 1732266 entries, 0 to 1732265\n",
      "Data columns (total 19 columns):\n",
      " #   Column                    Dtype  \n",
      "---  ------                    -----  \n",
      " 0   session_id                object \n",
      " 1   client_id                 float64\n",
      " 2   visit_date                object \n",
      " 3   visit_time                object \n",
      " 4   visit_number              int64  \n",
      " 5   utm_source                object \n",
      " 6   utm_medium                object \n",
      " 7   utm_campaign              object \n",
      " 8   utm_adcontent             object \n",
      " 9   utm_keyword               object \n",
      " 10  device_category           object \n",
      " 11  device_os                 object \n",
      " 12  device_brand              object \n",
      " 13  device_model              object \n",
      " 14  device_screen_resolution  object \n",
      " 15  device_browser            object \n",
      " 16  geo_country               object \n",
      " 17  geo_city                  object \n",
      " 18  target_action             int64  \n",
      "dtypes: float64(1), int64(2), object(16)\n",
      "memory usage: 251.1+ MB\n"
     ]
    }
   ],
   "source": [
    "com_df.info()"
   ]
  },
  {
   "cell_type": "markdown",
   "metadata": {},
   "source": [
    "Проверка на дубликаты"
   ]
  },
  {
   "cell_type": "code",
   "execution_count": 9,
   "metadata": {},
   "outputs": [
    {
     "data": {
      "text/plain": "Empty DataFrame\nColumns: [session_id, client_id, visit_date, visit_time, visit_number, utm_source, utm_medium, utm_campaign, utm_adcontent, utm_keyword, device_category, device_os, device_brand, device_model, device_screen_resolution, device_browser, geo_country, geo_city, target_action]\nIndex: []",
      "text/html": "<div>\n<style scoped>\n    .dataframe tbody tr th:only-of-type {\n        vertical-align: middle;\n    }\n\n    .dataframe tbody tr th {\n        vertical-align: top;\n    }\n\n    .dataframe thead th {\n        text-align: right;\n    }\n</style>\n<table border=\"1\" class=\"dataframe\">\n  <thead>\n    <tr style=\"text-align: right;\">\n      <th></th>\n      <th>session_id</th>\n      <th>client_id</th>\n      <th>visit_date</th>\n      <th>visit_time</th>\n      <th>visit_number</th>\n      <th>utm_source</th>\n      <th>utm_medium</th>\n      <th>utm_campaign</th>\n      <th>utm_adcontent</th>\n      <th>utm_keyword</th>\n      <th>device_category</th>\n      <th>device_os</th>\n      <th>device_brand</th>\n      <th>device_model</th>\n      <th>device_screen_resolution</th>\n      <th>device_browser</th>\n      <th>geo_country</th>\n      <th>geo_city</th>\n      <th>target_action</th>\n    </tr>\n  </thead>\n  <tbody>\n  </tbody>\n</table>\n</div>"
     },
     "execution_count": 9,
     "metadata": {},
     "output_type": "execute_result"
    }
   ],
   "source": [
    "com_df[com_df.duplicated()]"
   ]
  },
  {
   "cell_type": "markdown",
   "metadata": {},
   "source": [
    "\n",
    "\n",
    "Список всех признаков с пропущенными значениями:"
   ]
  },
  {
   "cell_type": "code",
   "execution_count": 10,
   "metadata": {},
   "outputs": [
    {
     "name": "stdout",
     "output_type": "stream",
     "text": [
      "['device_model', 'utm_keyword', 'device_os', 'device_brand', 'utm_adcontent', 'utm_campaign', 'utm_source']\n"
     ]
    }
   ],
   "source": [
    "missing_values = ((com_df.isna().sum() / len(com_df)) * 100).sort_values(ascending=False)\n",
    "print([column for column in missing_values[missing_values != 0].keys()])"
   ]
  },
  {
   "cell_type": "markdown",
   "metadata": {},
   "source": [
    "Пропуски в device_model"
   ]
  },
  {
   "cell_type": "code",
   "execution_count": 11,
   "metadata": {},
   "outputs": [
    {
     "name": "stdout",
     "output_type": "stream",
     "text": [
      "Количество пропущенных значений: 1717204\n"
     ]
    },
    {
     "data": {
      "text/plain": "                                  session_id     client_id  visit_date  \\\n0  9055434745589932991.1637753792.1637753792  2.108383e+09  2021-11-24   \n1   905544597018549464.1636867290.1636867290  2.108385e+08  2021-11-14   \n2  9055446045651783499.1640648526.1640648526  2.108385e+09  2021-12-28   \n3  9055447046360770272.1622255328.1622255328  2.108386e+09  2021-05-29   \n4  9055447046360770272.1622255345.1622255345  2.108386e+09  2021-05-29   \n\n  visit_time  visit_number            utm_source utm_medium  \\\n0   14:36:32             1  ZpYIoDJMcFzVoPFsHGJL     banner   \n1   08:21:30             1  MvfHsxITijuriZxsqZqt        cpm   \n2   02:42:06             1  ZpYIoDJMcFzVoPFsHGJL     banner   \n3   05:00:00             1  kjsLglQLzykiRbcDiGcD        cpc   \n4   05:00:00             2  kjsLglQLzykiRbcDiGcD        cpc   \n\n           utm_campaign         utm_adcontent           utm_keyword  \\\n0  LEoPHuyFvzoNfnzGgfcd  vCIpmpaGBnIQhyYNkXqp  puhZPIYqKXeFPaUviSjo   \n1  FTjNLDyTrXaWYgZymFkV  xhoenQgDQsgfEPYNPwKO  IGUCNvHlhfHpROGclCit   \n2  LEoPHuyFvzoNfnzGgfcd  vCIpmpaGBnIQhyYNkXqp  puhZPIYqKXeFPaUviSjo   \n3                   NaN  NOBKLgtuvqYWkXQHeYWM                   NaN   \n4                   NaN                   NaN                   NaN   \n\n  device_category device_os device_brand device_model  \\\n0          mobile   Android       Huawei          NaN   \n1          mobile   Android      Samsung          NaN   \n2          mobile   Android       Huawei          NaN   \n3          mobile       NaN       Xiaomi          NaN   \n4          mobile       NaN       Xiaomi          NaN   \n\n  device_screen_resolution    device_browser geo_country     geo_city  \\\n0                  360x720            Chrome      Russia     Zlatoust   \n1                  385x854  Samsung Internet      Russia       Moscow   \n2                  360x720            Chrome      Russia  Krasnoyarsk   \n3                  393x786            Chrome      Russia       Moscow   \n4                  393x786            Chrome      Russia       Moscow   \n\n   target_action  \n0              0  \n1              0  \n2              0  \n3              0  \n4              0  ",
      "text/html": "<div>\n<style scoped>\n    .dataframe tbody tr th:only-of-type {\n        vertical-align: middle;\n    }\n\n    .dataframe tbody tr th {\n        vertical-align: top;\n    }\n\n    .dataframe thead th {\n        text-align: right;\n    }\n</style>\n<table border=\"1\" class=\"dataframe\">\n  <thead>\n    <tr style=\"text-align: right;\">\n      <th></th>\n      <th>session_id</th>\n      <th>client_id</th>\n      <th>visit_date</th>\n      <th>visit_time</th>\n      <th>visit_number</th>\n      <th>utm_source</th>\n      <th>utm_medium</th>\n      <th>utm_campaign</th>\n      <th>utm_adcontent</th>\n      <th>utm_keyword</th>\n      <th>device_category</th>\n      <th>device_os</th>\n      <th>device_brand</th>\n      <th>device_model</th>\n      <th>device_screen_resolution</th>\n      <th>device_browser</th>\n      <th>geo_country</th>\n      <th>geo_city</th>\n      <th>target_action</th>\n    </tr>\n  </thead>\n  <tbody>\n    <tr>\n      <th>0</th>\n      <td>9055434745589932991.1637753792.1637753792</td>\n      <td>2.108383e+09</td>\n      <td>2021-11-24</td>\n      <td>14:36:32</td>\n      <td>1</td>\n      <td>ZpYIoDJMcFzVoPFsHGJL</td>\n      <td>banner</td>\n      <td>LEoPHuyFvzoNfnzGgfcd</td>\n      <td>vCIpmpaGBnIQhyYNkXqp</td>\n      <td>puhZPIYqKXeFPaUviSjo</td>\n      <td>mobile</td>\n      <td>Android</td>\n      <td>Huawei</td>\n      <td>NaN</td>\n      <td>360x720</td>\n      <td>Chrome</td>\n      <td>Russia</td>\n      <td>Zlatoust</td>\n      <td>0</td>\n    </tr>\n    <tr>\n      <th>1</th>\n      <td>905544597018549464.1636867290.1636867290</td>\n      <td>2.108385e+08</td>\n      <td>2021-11-14</td>\n      <td>08:21:30</td>\n      <td>1</td>\n      <td>MvfHsxITijuriZxsqZqt</td>\n      <td>cpm</td>\n      <td>FTjNLDyTrXaWYgZymFkV</td>\n      <td>xhoenQgDQsgfEPYNPwKO</td>\n      <td>IGUCNvHlhfHpROGclCit</td>\n      <td>mobile</td>\n      <td>Android</td>\n      <td>Samsung</td>\n      <td>NaN</td>\n      <td>385x854</td>\n      <td>Samsung Internet</td>\n      <td>Russia</td>\n      <td>Moscow</td>\n      <td>0</td>\n    </tr>\n    <tr>\n      <th>2</th>\n      <td>9055446045651783499.1640648526.1640648526</td>\n      <td>2.108385e+09</td>\n      <td>2021-12-28</td>\n      <td>02:42:06</td>\n      <td>1</td>\n      <td>ZpYIoDJMcFzVoPFsHGJL</td>\n      <td>banner</td>\n      <td>LEoPHuyFvzoNfnzGgfcd</td>\n      <td>vCIpmpaGBnIQhyYNkXqp</td>\n      <td>puhZPIYqKXeFPaUviSjo</td>\n      <td>mobile</td>\n      <td>Android</td>\n      <td>Huawei</td>\n      <td>NaN</td>\n      <td>360x720</td>\n      <td>Chrome</td>\n      <td>Russia</td>\n      <td>Krasnoyarsk</td>\n      <td>0</td>\n    </tr>\n    <tr>\n      <th>3</th>\n      <td>9055447046360770272.1622255328.1622255328</td>\n      <td>2.108386e+09</td>\n      <td>2021-05-29</td>\n      <td>05:00:00</td>\n      <td>1</td>\n      <td>kjsLglQLzykiRbcDiGcD</td>\n      <td>cpc</td>\n      <td>NaN</td>\n      <td>NOBKLgtuvqYWkXQHeYWM</td>\n      <td>NaN</td>\n      <td>mobile</td>\n      <td>NaN</td>\n      <td>Xiaomi</td>\n      <td>NaN</td>\n      <td>393x786</td>\n      <td>Chrome</td>\n      <td>Russia</td>\n      <td>Moscow</td>\n      <td>0</td>\n    </tr>\n    <tr>\n      <th>4</th>\n      <td>9055447046360770272.1622255345.1622255345</td>\n      <td>2.108386e+09</td>\n      <td>2021-05-29</td>\n      <td>05:00:00</td>\n      <td>2</td>\n      <td>kjsLglQLzykiRbcDiGcD</td>\n      <td>cpc</td>\n      <td>NaN</td>\n      <td>NaN</td>\n      <td>NaN</td>\n      <td>mobile</td>\n      <td>NaN</td>\n      <td>Xiaomi</td>\n      <td>NaN</td>\n      <td>393x786</td>\n      <td>Chrome</td>\n      <td>Russia</td>\n      <td>Moscow</td>\n      <td>0</td>\n    </tr>\n  </tbody>\n</table>\n</div>"
     },
     "execution_count": 11,
     "metadata": {},
     "output_type": "execute_result"
    }
   ],
   "source": [
    "print(f\"Количество пропущенных значений: {com_df.device_model.isna().sum()}\")\n",
    "com_df[com_df['device_model'].isna()].head()"
   ]
  },
  {
   "cell_type": "code",
   "execution_count": 12,
   "metadata": {},
   "outputs": [
    {
     "data": {
      "text/plain": "device_model\nNaN                     1717204\nAuMdmADEIoPXiWpTsBEj       9018\ntWBQlsvNfHxRUjaPAfhd        596\ncwMJxNXiWUgMUxGiCTPs        586\npTgAEPipQxDXCjPrJbHo        430\n                         ...   \nOJiWyBKOyDITzXCZRSMH          1\nMBGYWAQSYWUphNxTsAWD          1\nXnjPzKjkHmznVfULanbE          1\nVDidzTqFGxuqiRQJGrwB          1\nqmRODeCJLlmkmwxNYXvp          1\nName: count, Length: 105, dtype: int64"
     },
     "execution_count": 12,
     "metadata": {},
     "output_type": "execute_result"
    }
   ],
   "source": [
    "com_df['device_model'].value_counts(dropna=False)"
   ]
  },
  {
   "cell_type": "code",
   "execution_count": 13,
   "metadata": {},
   "outputs": [
    {
     "data": {
      "text/plain": "                                        session_id     client_id  visit_date  \\\n60       9055656589238457290.1635504877.1635504877  2.108434e+09  2021-10-29   \n63        905565998839028208.1635310063.1635310063  2.108435e+08  2021-10-27   \n64        905565998839028208.1636951969.1636951969  2.108435e+08  2021-11-15   \n157      9056202067269505745.1640092368.1640092368  2.108561e+09  2021-12-21   \n199      9056422519349747445.1638964982.1638964982  2.108613e+09  2021-12-08   \n...                                            ...           ...         ...   \n1731612  9052658994125991465.1638271992.1638271992  2.107736e+09  2021-11-30   \n1731617  9052676375860711226.1639943995.1639943995  2.107740e+09  2021-12-19   \n1731659  9052904464392788371.1638799763.1638799763  2.107794e+09  2021-12-06   \n1731854  9053730012943175107.1640761072.1640761072  2.107986e+09  2021-12-29   \n1731966  9054179214979411516.1637002817.1637002817  2.108090e+09  2021-11-15   \n\n        visit_time  visit_number            utm_source utm_medium  \\\n60        13:54:37             1  ZpYIoDJMcFzVoPFsHGJL     banner   \n63        07:47:43             1  fDLlAcSmythWSCVMvqvL     (none)   \n64        07:52:49             2  ISrKoXQCxqqYvAZICvjs        smm   \n157       16:12:48             1  ZpYIoDJMcFzVoPFsHGJL       push   \n199       15:03:02             1  MvfHsxITijuriZxsqZqt        cpm   \n...            ...           ...                   ...        ...   \n1731612   14:33:12             3  MvfHsxITijuriZxsqZqt        cpm   \n1731617   22:59:55             1  ZpYIoDJMcFzVoPFsHGJL     banner   \n1731659   17:09:23             1  ZpYIoDJMcFzVoPFsHGJL     banner   \n1731854   09:57:52             2  ZpYIoDJMcFzVoPFsHGJL     banner   \n1731966   22:00:17             1  vFcAhRxLfOWKhvxjELkx    organic   \n\n                 utm_campaign         utm_adcontent           utm_keyword  \\\n60       gecBYcKZCPMcVYdSSzKP  JNHcPlZPxEMWDnRiyoBf  puhZPIYqKXeFPaUviSjo   \n63       LTuZkdKfxRGVceoWkVyg  JNHcPlZPxEMWDnRiyoBf  puhZPIYqKXeFPaUviSjo   \n64                        NaN  JNHcPlZPxEMWDnRiyoBf  puhZPIYqKXeFPaUviSjo   \n157      sbJRYgVfvcnqKJNDDYIr  JNHcPlZPxEMWDnRiyoBf  puhZPIYqKXeFPaUviSjo   \n199      FTjNLDyTrXaWYgZymFkV  xhoenQgDQsgfEPYNPwKO  RrhnkuoaqckNtJpAZDzH   \n...                       ...                   ...                   ...   \n1731612  FTjNLDyTrXaWYgZymFkV  xhoenQgDQsgfEPYNPwKO  DBHgBJHOdbPwsRDUbEgX   \n1731617  LEoPHuyFvzoNfnzGgfcd  vCIpmpaGBnIQhyYNkXqp  puhZPIYqKXeFPaUviSjo   \n1731659  LEoPHuyFvzoNfnzGgfcd  vCIpmpaGBnIQhyYNkXqp  puhZPIYqKXeFPaUviSjo   \n1731854  LEoPHuyFvzoNfnzGgfcd  vCIpmpaGBnIQhyYNkXqp  puhZPIYqKXeFPaUviSjo   \n1731966  okTXSMadDkjvntEHzIjp  LLfCasrxQzJIyuldcuWy  aXQzDWsJuGXeBXexNHjc   \n\n        device_category device_os device_brand          device_model  \\\n60               mobile   Android        Meizu  qBRdfuuhOnnqwSqNiPOv   \n63               mobile   Android      OnePlus  AshpvdJdReafUzEMmWGr   \n64               mobile   Android      OnePlus  AshpvdJdReafUzEMmWGr   \n157              mobile   Android    (not set)  AuMdmADEIoPXiWpTsBEj   \n199              mobile   Android    (not set)  AuMdmADEIoPXiWpTsBEj   \n...                 ...       ...          ...                   ...   \n1731612          mobile   Android         Vivo  cwMJxNXiWUgMUxGiCTPs   \n1731617          mobile   Android    (not set)  AuMdmADEIoPXiWpTsBEj   \n1731659          mobile   Android        Nokia  aCLaTVQlHcXbUnQYQvIg   \n1731854          mobile   Android    (not set)  AuMdmADEIoPXiWpTsBEj   \n1731966          mobile   Android    (not set)  AuMdmADEIoPXiWpTsBEj   \n\n        device_screen_resolution   device_browser geo_country  \\\n60                       360x744           Chrome      Russia   \n63                       384x832  Android Webview      Russia   \n64                       384x832  Android Webview      Russia   \n157                      384x854           Chrome      Russia   \n199                      320x640           Chrome      Russia   \n...                          ...              ...         ...   \n1731612                  360x760           Chrome      Russia   \n1731617                  393x873           Chrome      Russia   \n1731659                  412x892           Chrome      Russia   \n1731854                  360x760           Chrome      Russia   \n1731966                  396x858          Firefox      Russia   \n\n                 geo_city  target_action  \n60                 Moscow              0  \n63       Saint Petersburg              0  \n64       Saint Petersburg              0  \n157                Moscow              0  \n199      Saint Petersburg              0  \n...                   ...            ...  \n1731612            Moscow              0  \n1731617           Izhevsk              0  \n1731659       Novosibirsk              0  \n1731854       Vladivostok              0  \n1731966  Saint Petersburg              0  \n\n[15062 rows x 19 columns]",
      "text/html": "<div>\n<style scoped>\n    .dataframe tbody tr th:only-of-type {\n        vertical-align: middle;\n    }\n\n    .dataframe tbody tr th {\n        vertical-align: top;\n    }\n\n    .dataframe thead th {\n        text-align: right;\n    }\n</style>\n<table border=\"1\" class=\"dataframe\">\n  <thead>\n    <tr style=\"text-align: right;\">\n      <th></th>\n      <th>session_id</th>\n      <th>client_id</th>\n      <th>visit_date</th>\n      <th>visit_time</th>\n      <th>visit_number</th>\n      <th>utm_source</th>\n      <th>utm_medium</th>\n      <th>utm_campaign</th>\n      <th>utm_adcontent</th>\n      <th>utm_keyword</th>\n      <th>device_category</th>\n      <th>device_os</th>\n      <th>device_brand</th>\n      <th>device_model</th>\n      <th>device_screen_resolution</th>\n      <th>device_browser</th>\n      <th>geo_country</th>\n      <th>geo_city</th>\n      <th>target_action</th>\n    </tr>\n  </thead>\n  <tbody>\n    <tr>\n      <th>60</th>\n      <td>9055656589238457290.1635504877.1635504877</td>\n      <td>2.108434e+09</td>\n      <td>2021-10-29</td>\n      <td>13:54:37</td>\n      <td>1</td>\n      <td>ZpYIoDJMcFzVoPFsHGJL</td>\n      <td>banner</td>\n      <td>gecBYcKZCPMcVYdSSzKP</td>\n      <td>JNHcPlZPxEMWDnRiyoBf</td>\n      <td>puhZPIYqKXeFPaUviSjo</td>\n      <td>mobile</td>\n      <td>Android</td>\n      <td>Meizu</td>\n      <td>qBRdfuuhOnnqwSqNiPOv</td>\n      <td>360x744</td>\n      <td>Chrome</td>\n      <td>Russia</td>\n      <td>Moscow</td>\n      <td>0</td>\n    </tr>\n    <tr>\n      <th>63</th>\n      <td>905565998839028208.1635310063.1635310063</td>\n      <td>2.108435e+08</td>\n      <td>2021-10-27</td>\n      <td>07:47:43</td>\n      <td>1</td>\n      <td>fDLlAcSmythWSCVMvqvL</td>\n      <td>(none)</td>\n      <td>LTuZkdKfxRGVceoWkVyg</td>\n      <td>JNHcPlZPxEMWDnRiyoBf</td>\n      <td>puhZPIYqKXeFPaUviSjo</td>\n      <td>mobile</td>\n      <td>Android</td>\n      <td>OnePlus</td>\n      <td>AshpvdJdReafUzEMmWGr</td>\n      <td>384x832</td>\n      <td>Android Webview</td>\n      <td>Russia</td>\n      <td>Saint Petersburg</td>\n      <td>0</td>\n    </tr>\n    <tr>\n      <th>64</th>\n      <td>905565998839028208.1636951969.1636951969</td>\n      <td>2.108435e+08</td>\n      <td>2021-11-15</td>\n      <td>07:52:49</td>\n      <td>2</td>\n      <td>ISrKoXQCxqqYvAZICvjs</td>\n      <td>smm</td>\n      <td>NaN</td>\n      <td>JNHcPlZPxEMWDnRiyoBf</td>\n      <td>puhZPIYqKXeFPaUviSjo</td>\n      <td>mobile</td>\n      <td>Android</td>\n      <td>OnePlus</td>\n      <td>AshpvdJdReafUzEMmWGr</td>\n      <td>384x832</td>\n      <td>Android Webview</td>\n      <td>Russia</td>\n      <td>Saint Petersburg</td>\n      <td>0</td>\n    </tr>\n    <tr>\n      <th>157</th>\n      <td>9056202067269505745.1640092368.1640092368</td>\n      <td>2.108561e+09</td>\n      <td>2021-12-21</td>\n      <td>16:12:48</td>\n      <td>1</td>\n      <td>ZpYIoDJMcFzVoPFsHGJL</td>\n      <td>push</td>\n      <td>sbJRYgVfvcnqKJNDDYIr</td>\n      <td>JNHcPlZPxEMWDnRiyoBf</td>\n      <td>puhZPIYqKXeFPaUviSjo</td>\n      <td>mobile</td>\n      <td>Android</td>\n      <td>(not set)</td>\n      <td>AuMdmADEIoPXiWpTsBEj</td>\n      <td>384x854</td>\n      <td>Chrome</td>\n      <td>Russia</td>\n      <td>Moscow</td>\n      <td>0</td>\n    </tr>\n    <tr>\n      <th>199</th>\n      <td>9056422519349747445.1638964982.1638964982</td>\n      <td>2.108613e+09</td>\n      <td>2021-12-08</td>\n      <td>15:03:02</td>\n      <td>1</td>\n      <td>MvfHsxITijuriZxsqZqt</td>\n      <td>cpm</td>\n      <td>FTjNLDyTrXaWYgZymFkV</td>\n      <td>xhoenQgDQsgfEPYNPwKO</td>\n      <td>RrhnkuoaqckNtJpAZDzH</td>\n      <td>mobile</td>\n      <td>Android</td>\n      <td>(not set)</td>\n      <td>AuMdmADEIoPXiWpTsBEj</td>\n      <td>320x640</td>\n      <td>Chrome</td>\n      <td>Russia</td>\n      <td>Saint Petersburg</td>\n      <td>0</td>\n    </tr>\n    <tr>\n      <th>...</th>\n      <td>...</td>\n      <td>...</td>\n      <td>...</td>\n      <td>...</td>\n      <td>...</td>\n      <td>...</td>\n      <td>...</td>\n      <td>...</td>\n      <td>...</td>\n      <td>...</td>\n      <td>...</td>\n      <td>...</td>\n      <td>...</td>\n      <td>...</td>\n      <td>...</td>\n      <td>...</td>\n      <td>...</td>\n      <td>...</td>\n      <td>...</td>\n    </tr>\n    <tr>\n      <th>1731612</th>\n      <td>9052658994125991465.1638271992.1638271992</td>\n      <td>2.107736e+09</td>\n      <td>2021-11-30</td>\n      <td>14:33:12</td>\n      <td>3</td>\n      <td>MvfHsxITijuriZxsqZqt</td>\n      <td>cpm</td>\n      <td>FTjNLDyTrXaWYgZymFkV</td>\n      <td>xhoenQgDQsgfEPYNPwKO</td>\n      <td>DBHgBJHOdbPwsRDUbEgX</td>\n      <td>mobile</td>\n      <td>Android</td>\n      <td>Vivo</td>\n      <td>cwMJxNXiWUgMUxGiCTPs</td>\n      <td>360x760</td>\n      <td>Chrome</td>\n      <td>Russia</td>\n      <td>Moscow</td>\n      <td>0</td>\n    </tr>\n    <tr>\n      <th>1731617</th>\n      <td>9052676375860711226.1639943995.1639943995</td>\n      <td>2.107740e+09</td>\n      <td>2021-12-19</td>\n      <td>22:59:55</td>\n      <td>1</td>\n      <td>ZpYIoDJMcFzVoPFsHGJL</td>\n      <td>banner</td>\n      <td>LEoPHuyFvzoNfnzGgfcd</td>\n      <td>vCIpmpaGBnIQhyYNkXqp</td>\n      <td>puhZPIYqKXeFPaUviSjo</td>\n      <td>mobile</td>\n      <td>Android</td>\n      <td>(not set)</td>\n      <td>AuMdmADEIoPXiWpTsBEj</td>\n      <td>393x873</td>\n      <td>Chrome</td>\n      <td>Russia</td>\n      <td>Izhevsk</td>\n      <td>0</td>\n    </tr>\n    <tr>\n      <th>1731659</th>\n      <td>9052904464392788371.1638799763.1638799763</td>\n      <td>2.107794e+09</td>\n      <td>2021-12-06</td>\n      <td>17:09:23</td>\n      <td>1</td>\n      <td>ZpYIoDJMcFzVoPFsHGJL</td>\n      <td>banner</td>\n      <td>LEoPHuyFvzoNfnzGgfcd</td>\n      <td>vCIpmpaGBnIQhyYNkXqp</td>\n      <td>puhZPIYqKXeFPaUviSjo</td>\n      <td>mobile</td>\n      <td>Android</td>\n      <td>Nokia</td>\n      <td>aCLaTVQlHcXbUnQYQvIg</td>\n      <td>412x892</td>\n      <td>Chrome</td>\n      <td>Russia</td>\n      <td>Novosibirsk</td>\n      <td>0</td>\n    </tr>\n    <tr>\n      <th>1731854</th>\n      <td>9053730012943175107.1640761072.1640761072</td>\n      <td>2.107986e+09</td>\n      <td>2021-12-29</td>\n      <td>09:57:52</td>\n      <td>2</td>\n      <td>ZpYIoDJMcFzVoPFsHGJL</td>\n      <td>banner</td>\n      <td>LEoPHuyFvzoNfnzGgfcd</td>\n      <td>vCIpmpaGBnIQhyYNkXqp</td>\n      <td>puhZPIYqKXeFPaUviSjo</td>\n      <td>mobile</td>\n      <td>Android</td>\n      <td>(not set)</td>\n      <td>AuMdmADEIoPXiWpTsBEj</td>\n      <td>360x760</td>\n      <td>Chrome</td>\n      <td>Russia</td>\n      <td>Vladivostok</td>\n      <td>0</td>\n    </tr>\n    <tr>\n      <th>1731966</th>\n      <td>9054179214979411516.1637002817.1637002817</td>\n      <td>2.108090e+09</td>\n      <td>2021-11-15</td>\n      <td>22:00:17</td>\n      <td>1</td>\n      <td>vFcAhRxLfOWKhvxjELkx</td>\n      <td>organic</td>\n      <td>okTXSMadDkjvntEHzIjp</td>\n      <td>LLfCasrxQzJIyuldcuWy</td>\n      <td>aXQzDWsJuGXeBXexNHjc</td>\n      <td>mobile</td>\n      <td>Android</td>\n      <td>(not set)</td>\n      <td>AuMdmADEIoPXiWpTsBEj</td>\n      <td>396x858</td>\n      <td>Firefox</td>\n      <td>Russia</td>\n      <td>Saint Petersburg</td>\n      <td>0</td>\n    </tr>\n  </tbody>\n</table>\n<p>15062 rows × 19 columns</p>\n</div>"
     },
     "execution_count": 13,
     "metadata": {},
     "output_type": "execute_result"
    }
   ],
   "source": [
    "com_df[\n",
    "    (com_df['device_model'].notna()) & (com_df['device_brand'].notna())\n",
    "    ]"
   ]
  },
  {
   "cell_type": "markdown",
   "metadata": {},
   "source": [
    "В device_model слишком много пропущенных значений, решил просто удалить"
   ]
  },
  {
   "cell_type": "code",
   "execution_count": 14,
   "metadata": {},
   "outputs": [],
   "source": [
    "# com_df.drop(columns=['device_model'], axis=1, inplace=True)\n",
    "# com_df.head()"
   ]
  },
  {
   "cell_type": "code",
   "execution_count": 15,
   "metadata": {},
   "outputs": [
    {
     "data": {
      "text/plain": "target_action\n0    1681952\n1      50314\nName: count, dtype: int64"
     },
     "execution_count": 15,
     "metadata": {},
     "output_type": "execute_result"
    }
   ],
   "source": [
    "com_df['target_action'].value_counts()"
   ]
  },
  {
   "cell_type": "code",
   "execution_count": 16,
   "metadata": {},
   "outputs": [
    {
     "data": {
      "text/plain": "device_os\nNaN              1013964\nAndroid           425520\niOS               182597\nWindows            81740\nMacintosh          23415\nLinux               4616\n(not set)            309\nChrome OS             65\nBlackBerry            24\nTizen                  7\nFirefox OS             3\nNokia                  2\nSamsung                2\nWindows Phone          2\nName: count, dtype: int64"
     },
     "execution_count": 16,
     "metadata": {},
     "output_type": "execute_result"
    }
   ],
   "source": [
    "com_df['device_os'].value_counts(dropna=False)"
   ]
  },
  {
   "cell_type": "code",
   "execution_count": 17,
   "metadata": {},
   "outputs": [
    {
     "data": {
      "text/plain": "device_brand\nApple       503533\nNaN         347196\nSamsung     311641\nXiaomi      269251\nHuawei      173828\n             ...  \nTesla            1\nVodafone         1\nWexler           1\nSmarteo          1\nMaxvi            1\nName: count, Length: 201, dtype: int64"
     },
     "execution_count": 17,
     "metadata": {},
     "output_type": "execute_result"
    }
   ],
   "source": [
    "com_df['device_brand'].value_counts(dropna=False)"
   ]
  },
  {
   "cell_type": "code",
   "execution_count": 18,
   "metadata": {},
   "outputs": [
    {
     "data": {
      "text/plain": "                                        session_id     client_id  visit_date  \\\n28       9055505230298952295.1638478433.1638478433  2.108399e+09  2021-12-02   \n61       9055657327967035032.1629707931.1629707931  2.108435e+09  2021-08-23   \n62        905565977351442956.1622561294.1622561294  2.108435e+08  2021-06-01   \n65       9055678214400253418.1636965866.1636965866  2.108439e+09  2021-11-15   \n71       9055788191321875859.1626006934.1626006934  2.108465e+09  2021-07-11   \n...                                            ...           ...         ...   \n1732250  9055354507009984602.1636829278.1636829278  2.108364e+09  2021-11-13   \n1732252  9055363711117247375.1629176721.1629176721  2.108366e+09  2021-08-17   \n1732254  9055376699099939975.1630766214.1630766214  2.108369e+09  2021-09-04   \n1732261  9055415581448263752.1640159305.1640159305  2.108378e+09  2021-12-22   \n1732265  9055430416266113553.1640968742.1640968742  2.108382e+09  2021-12-31   \n\n        visit_time  visit_number            utm_source utm_medium  \\\n28        23:53:53             1  fDLlAcSmythWSCVMvqvL     (none)   \n61        11:00:00             1  nSReTmyFtbSjlPrTKoaX     banner   \n62        18:00:00             1  fDLlAcSmythWSCVMvqvL     (none)   \n65        11:44:26             1  fDLlAcSmythWSCVMvqvL     (none)   \n71        15:00:00             1  fDLlAcSmythWSCVMvqvL     (none)   \n...            ...           ...                   ...        ...   \n1732250   21:47:58             1  vFcAhRxLfOWKhvxjELkx    organic   \n1732252   08:00:00             1  PlbkrSYoHuZBWfYjYnfw        cpm   \n1732254   17:00:00             1  fDLlAcSmythWSCVMvqvL     (none)   \n1732261   10:48:25             1  BHcvLfOaCWvWTykYqHVe        cpc   \n1732265   19:39:02             1  fgymSoTvjKPEgaIJqsiH        cpm   \n\n                 utm_campaign         utm_adcontent           utm_keyword  \\\n28       LTuZkdKfxRGVceoWkVyg  JNHcPlZPxEMWDnRiyoBf  puhZPIYqKXeFPaUviSjo   \n61       BVKxkCOHKUOvkpbrLMgZ  JNHcPlZPxEMWDnRiyoBf                   NaN   \n62       LTuZkdKfxRGVceoWkVyg  JNHcPlZPxEMWDnRiyoBf                   NaN   \n65       LTuZkdKfxRGVceoWkVyg  JNHcPlZPxEMWDnRiyoBf  puhZPIYqKXeFPaUviSjo   \n71       LTuZkdKfxRGVceoWkVyg  JNHcPlZPxEMWDnRiyoBf                   NaN   \n...                       ...                   ...                   ...   \n1732250  okTXSMadDkjvntEHzIjp  LLfCasrxQzJIyuldcuWy  aXQzDWsJuGXeBXexNHjc   \n1732252  FTjNLDyTrXaWYgZymFkV  TuyPWsGQruPMpKvRxeBF                   NaN   \n1732254  LTuZkdKfxRGVceoWkVyg  JNHcPlZPxEMWDnRiyoBf                   NaN   \n1732261                   NaN                   NaN  VlqBmecIOXWjCWUmQkLd   \n1732265  FTjNLDyTrXaWYgZymFkV  yYdBRbPmBMUZHXwqGxNx  oKjXDUsycmahkgMhGdAR   \n\n        device_category device_os device_brand device_model  \\\n28              desktop   Windows          NaN          NaN   \n61              desktop       NaN          NaN          NaN   \n62              desktop       NaN          NaN          NaN   \n65              desktop   Windows          NaN          NaN   \n71              desktop       NaN          NaN          NaN   \n...                 ...       ...          ...          ...   \n1732250         desktop   Windows          NaN          NaN   \n1732252         desktop       NaN          NaN          NaN   \n1732254         desktop       NaN          NaN          NaN   \n1732261         desktop   Windows          NaN          NaN   \n1732265         desktop     Linux          NaN          NaN   \n\n        device_screen_resolution device_browser geo_country          geo_city  \\\n28                      1536x864         Chrome      Russia        Balashikha   \n61                     1920x1080      YaBrowser      Russia            Moscow   \n62                     1920x1080         Chrome      Russia            Moscow   \n65                     1920x1080         Chrome      Russia  Saint Petersburg   \n71                      1280x720         Chrome      Russia            Moscow   \n...                          ...            ...         ...               ...   \n1732250                 1366x768        Firefox      Russia        Balashikha   \n1732252                1920x1080         Chrome      Russia         (not set)   \n1732254                1920x1080         Chrome      Russia            Khimki   \n1732261                1920x1080         Chrome      Russia            Moscow   \n1732265                 1366x768         Chrome      Russia            Moscow   \n\n         target_action  \n28                   0  \n61                   0  \n62                   0  \n65                   0  \n71                   0  \n...                ...  \n1732250              0  \n1732252              0  \n1732254              1  \n1732261              0  \n1732265              0  \n\n[347196 rows x 19 columns]",
      "text/html": "<div>\n<style scoped>\n    .dataframe tbody tr th:only-of-type {\n        vertical-align: middle;\n    }\n\n    .dataframe tbody tr th {\n        vertical-align: top;\n    }\n\n    .dataframe thead th {\n        text-align: right;\n    }\n</style>\n<table border=\"1\" class=\"dataframe\">\n  <thead>\n    <tr style=\"text-align: right;\">\n      <th></th>\n      <th>session_id</th>\n      <th>client_id</th>\n      <th>visit_date</th>\n      <th>visit_time</th>\n      <th>visit_number</th>\n      <th>utm_source</th>\n      <th>utm_medium</th>\n      <th>utm_campaign</th>\n      <th>utm_adcontent</th>\n      <th>utm_keyword</th>\n      <th>device_category</th>\n      <th>device_os</th>\n      <th>device_brand</th>\n      <th>device_model</th>\n      <th>device_screen_resolution</th>\n      <th>device_browser</th>\n      <th>geo_country</th>\n      <th>geo_city</th>\n      <th>target_action</th>\n    </tr>\n  </thead>\n  <tbody>\n    <tr>\n      <th>28</th>\n      <td>9055505230298952295.1638478433.1638478433</td>\n      <td>2.108399e+09</td>\n      <td>2021-12-02</td>\n      <td>23:53:53</td>\n      <td>1</td>\n      <td>fDLlAcSmythWSCVMvqvL</td>\n      <td>(none)</td>\n      <td>LTuZkdKfxRGVceoWkVyg</td>\n      <td>JNHcPlZPxEMWDnRiyoBf</td>\n      <td>puhZPIYqKXeFPaUviSjo</td>\n      <td>desktop</td>\n      <td>Windows</td>\n      <td>NaN</td>\n      <td>NaN</td>\n      <td>1536x864</td>\n      <td>Chrome</td>\n      <td>Russia</td>\n      <td>Balashikha</td>\n      <td>0</td>\n    </tr>\n    <tr>\n      <th>61</th>\n      <td>9055657327967035032.1629707931.1629707931</td>\n      <td>2.108435e+09</td>\n      <td>2021-08-23</td>\n      <td>11:00:00</td>\n      <td>1</td>\n      <td>nSReTmyFtbSjlPrTKoaX</td>\n      <td>banner</td>\n      <td>BVKxkCOHKUOvkpbrLMgZ</td>\n      <td>JNHcPlZPxEMWDnRiyoBf</td>\n      <td>NaN</td>\n      <td>desktop</td>\n      <td>NaN</td>\n      <td>NaN</td>\n      <td>NaN</td>\n      <td>1920x1080</td>\n      <td>YaBrowser</td>\n      <td>Russia</td>\n      <td>Moscow</td>\n      <td>0</td>\n    </tr>\n    <tr>\n      <th>62</th>\n      <td>905565977351442956.1622561294.1622561294</td>\n      <td>2.108435e+08</td>\n      <td>2021-06-01</td>\n      <td>18:00:00</td>\n      <td>1</td>\n      <td>fDLlAcSmythWSCVMvqvL</td>\n      <td>(none)</td>\n      <td>LTuZkdKfxRGVceoWkVyg</td>\n      <td>JNHcPlZPxEMWDnRiyoBf</td>\n      <td>NaN</td>\n      <td>desktop</td>\n      <td>NaN</td>\n      <td>NaN</td>\n      <td>NaN</td>\n      <td>1920x1080</td>\n      <td>Chrome</td>\n      <td>Russia</td>\n      <td>Moscow</td>\n      <td>0</td>\n    </tr>\n    <tr>\n      <th>65</th>\n      <td>9055678214400253418.1636965866.1636965866</td>\n      <td>2.108439e+09</td>\n      <td>2021-11-15</td>\n      <td>11:44:26</td>\n      <td>1</td>\n      <td>fDLlAcSmythWSCVMvqvL</td>\n      <td>(none)</td>\n      <td>LTuZkdKfxRGVceoWkVyg</td>\n      <td>JNHcPlZPxEMWDnRiyoBf</td>\n      <td>puhZPIYqKXeFPaUviSjo</td>\n      <td>desktop</td>\n      <td>Windows</td>\n      <td>NaN</td>\n      <td>NaN</td>\n      <td>1920x1080</td>\n      <td>Chrome</td>\n      <td>Russia</td>\n      <td>Saint Petersburg</td>\n      <td>0</td>\n    </tr>\n    <tr>\n      <th>71</th>\n      <td>9055788191321875859.1626006934.1626006934</td>\n      <td>2.108465e+09</td>\n      <td>2021-07-11</td>\n      <td>15:00:00</td>\n      <td>1</td>\n      <td>fDLlAcSmythWSCVMvqvL</td>\n      <td>(none)</td>\n      <td>LTuZkdKfxRGVceoWkVyg</td>\n      <td>JNHcPlZPxEMWDnRiyoBf</td>\n      <td>NaN</td>\n      <td>desktop</td>\n      <td>NaN</td>\n      <td>NaN</td>\n      <td>NaN</td>\n      <td>1280x720</td>\n      <td>Chrome</td>\n      <td>Russia</td>\n      <td>Moscow</td>\n      <td>0</td>\n    </tr>\n    <tr>\n      <th>...</th>\n      <td>...</td>\n      <td>...</td>\n      <td>...</td>\n      <td>...</td>\n      <td>...</td>\n      <td>...</td>\n      <td>...</td>\n      <td>...</td>\n      <td>...</td>\n      <td>...</td>\n      <td>...</td>\n      <td>...</td>\n      <td>...</td>\n      <td>...</td>\n      <td>...</td>\n      <td>...</td>\n      <td>...</td>\n      <td>...</td>\n      <td>...</td>\n    </tr>\n    <tr>\n      <th>1732250</th>\n      <td>9055354507009984602.1636829278.1636829278</td>\n      <td>2.108364e+09</td>\n      <td>2021-11-13</td>\n      <td>21:47:58</td>\n      <td>1</td>\n      <td>vFcAhRxLfOWKhvxjELkx</td>\n      <td>organic</td>\n      <td>okTXSMadDkjvntEHzIjp</td>\n      <td>LLfCasrxQzJIyuldcuWy</td>\n      <td>aXQzDWsJuGXeBXexNHjc</td>\n      <td>desktop</td>\n      <td>Windows</td>\n      <td>NaN</td>\n      <td>NaN</td>\n      <td>1366x768</td>\n      <td>Firefox</td>\n      <td>Russia</td>\n      <td>Balashikha</td>\n      <td>0</td>\n    </tr>\n    <tr>\n      <th>1732252</th>\n      <td>9055363711117247375.1629176721.1629176721</td>\n      <td>2.108366e+09</td>\n      <td>2021-08-17</td>\n      <td>08:00:00</td>\n      <td>1</td>\n      <td>PlbkrSYoHuZBWfYjYnfw</td>\n      <td>cpm</td>\n      <td>FTjNLDyTrXaWYgZymFkV</td>\n      <td>TuyPWsGQruPMpKvRxeBF</td>\n      <td>NaN</td>\n      <td>desktop</td>\n      <td>NaN</td>\n      <td>NaN</td>\n      <td>NaN</td>\n      <td>1920x1080</td>\n      <td>Chrome</td>\n      <td>Russia</td>\n      <td>(not set)</td>\n      <td>0</td>\n    </tr>\n    <tr>\n      <th>1732254</th>\n      <td>9055376699099939975.1630766214.1630766214</td>\n      <td>2.108369e+09</td>\n      <td>2021-09-04</td>\n      <td>17:00:00</td>\n      <td>1</td>\n      <td>fDLlAcSmythWSCVMvqvL</td>\n      <td>(none)</td>\n      <td>LTuZkdKfxRGVceoWkVyg</td>\n      <td>JNHcPlZPxEMWDnRiyoBf</td>\n      <td>NaN</td>\n      <td>desktop</td>\n      <td>NaN</td>\n      <td>NaN</td>\n      <td>NaN</td>\n      <td>1920x1080</td>\n      <td>Chrome</td>\n      <td>Russia</td>\n      <td>Khimki</td>\n      <td>1</td>\n    </tr>\n    <tr>\n      <th>1732261</th>\n      <td>9055415581448263752.1640159305.1640159305</td>\n      <td>2.108378e+09</td>\n      <td>2021-12-22</td>\n      <td>10:48:25</td>\n      <td>1</td>\n      <td>BHcvLfOaCWvWTykYqHVe</td>\n      <td>cpc</td>\n      <td>NaN</td>\n      <td>NaN</td>\n      <td>VlqBmecIOXWjCWUmQkLd</td>\n      <td>desktop</td>\n      <td>Windows</td>\n      <td>NaN</td>\n      <td>NaN</td>\n      <td>1920x1080</td>\n      <td>Chrome</td>\n      <td>Russia</td>\n      <td>Moscow</td>\n      <td>0</td>\n    </tr>\n    <tr>\n      <th>1732265</th>\n      <td>9055430416266113553.1640968742.1640968742</td>\n      <td>2.108382e+09</td>\n      <td>2021-12-31</td>\n      <td>19:39:02</td>\n      <td>1</td>\n      <td>fgymSoTvjKPEgaIJqsiH</td>\n      <td>cpm</td>\n      <td>FTjNLDyTrXaWYgZymFkV</td>\n      <td>yYdBRbPmBMUZHXwqGxNx</td>\n      <td>oKjXDUsycmahkgMhGdAR</td>\n      <td>desktop</td>\n      <td>Linux</td>\n      <td>NaN</td>\n      <td>NaN</td>\n      <td>1366x768</td>\n      <td>Chrome</td>\n      <td>Russia</td>\n      <td>Moscow</td>\n      <td>0</td>\n    </tr>\n  </tbody>\n</table>\n<p>347196 rows × 19 columns</p>\n</div>"
     },
     "execution_count": 18,
     "metadata": {},
     "output_type": "execute_result"
    }
   ],
   "source": [
    "com_df[com_df['device_brand'].isna()]"
   ]
  },
  {
   "cell_type": "code",
   "execution_count": 19,
   "metadata": {},
   "outputs": [
    {
     "data": {
      "text/plain": "                                        session_id     client_id  visit_date  \\\n31       9055507467976770564.1638335492.1638335492  2.108400e+09  2021-12-01   \n41       9055541209241593296.1640080849.1640080849  2.108407e+09  2021-12-21   \n58        905565212864092591.1639650867.1639650867  2.108433e+08  2021-12-16   \n59        905565212864092591.1639652819.1639652819  2.108433e+08  2021-12-16   \n68       9055768546153401681.1637944657.1637944657  2.108460e+09  2021-11-26   \n...                                            ...           ...         ...   \n1732232  9055282415982183461.1635091492.1635091492  2.108347e+09  2021-10-24   \n1732237  9055315461464429378.1638961956.1638961956  2.108355e+09  2021-12-08   \n1732248  9055349000865826584.1640744740.1640744740  2.108363e+09  2021-12-29   \n1732251  9055355469082180480.1636350848.1636350848  2.108364e+09  2021-11-08   \n1732264   905543020766873816.1638189404.1638189404  2.108382e+08  2021-11-29   \n\n        visit_time  visit_number            utm_source utm_medium  \\\n31        08:11:32             1  ZpYIoDJMcFzVoPFsHGJL     banner   \n41        13:00:49             1  fDLlAcSmythWSCVMvqvL     (none)   \n58        13:34:27             2  ZpYIoDJMcFzVoPFsHGJL     banner   \n59        14:06:59             3  ZpYIoDJMcFzVoPFsHGJL     banner   \n68        19:37:37             1  ZpYIoDJMcFzVoPFsHGJL     banner   \n...            ...           ...                   ...        ...   \n1732232   19:04:52             1  kjsLglQLzykiRbcDiGcD        cpc   \n1732237   14:12:36             1  ZpYIoDJMcFzVoPFsHGJL     banner   \n1732248   05:25:40             1  TxKUcPpthBDPieTGmVhx        cpc   \n1732251   08:54:08             1  fDLlAcSmythWSCVMvqvL     (none)   \n1732264   15:36:44             1  ZpYIoDJMcFzVoPFsHGJL     banner   \n\n                 utm_campaign         utm_adcontent           utm_keyword  \\\n31       LEoPHuyFvzoNfnzGgfcd  JNHcPlZPxEMWDnRiyoBf  puhZPIYqKXeFPaUviSjo   \n41       LTuZkdKfxRGVceoWkVyg  JNHcPlZPxEMWDnRiyoBf  puhZPIYqKXeFPaUviSjo   \n58       LEoPHuyFvzoNfnzGgfcd  vCIpmpaGBnIQhyYNkXqp  puhZPIYqKXeFPaUviSjo   \n59       LEoPHuyFvzoNfnzGgfcd  vCIpmpaGBnIQhyYNkXqp  puhZPIYqKXeFPaUviSjo   \n68       LEoPHuyFvzoNfnzGgfcd  vCIpmpaGBnIQhyYNkXqp  puhZPIYqKXeFPaUviSjo   \n...                       ...                   ...                   ...   \n1732232  bJJuEXRheRIxXEaYIXqM                   NaN  KCcEkEaKEtUilBVMoCAi   \n1732237  LEoPHuyFvzoNfnzGgfcd  vCIpmpaGBnIQhyYNkXqp  puhZPIYqKXeFPaUviSjo   \n1732248  FTjNLDyTrXaWYgZymFkV  LcGIUNPUAmXtQJaDfFBR  NnplfljjtYPiMnRvogpA   \n1732251  LTuZkdKfxRGVceoWkVyg  JNHcPlZPxEMWDnRiyoBf  puhZPIYqKXeFPaUviSjo   \n1732264  LEoPHuyFvzoNfnzGgfcd  JNHcPlZPxEMWDnRiyoBf  puhZPIYqKXeFPaUviSjo   \n\n        device_category device_os device_brand device_model  \\\n31               mobile   Android       Xiaomi          NaN   \n41               mobile   Android       Xiaomi          NaN   \n58               mobile   Android       Xiaomi          NaN   \n59               mobile   Android       Xiaomi          NaN   \n68               mobile   Android       Xiaomi          NaN   \n...                 ...       ...          ...          ...   \n1732232          mobile   Android       Xiaomi          NaN   \n1732237          mobile   Android       Xiaomi          NaN   \n1732248          mobile   Android       Xiaomi          NaN   \n1732251          mobile   Android       Xiaomi          NaN   \n1732264          mobile   Android       Xiaomi          NaN   \n\n        device_screen_resolution   device_browser geo_country  \\\n31                       393x851           Chrome      Russia   \n41                       393x851  Android Webview      Russia   \n58                       393x851           Chrome      Russia   \n59                       393x851           Chrome      Russia   \n68                       393x851           Chrome      Russia   \n...                          ...              ...         ...   \n1732232                  375x833           Chrome      Russia   \n1732237                  360x800           Chrome      Russia   \n1732248                 464x1123           Chrome      Russia   \n1732251                  393x873           Chrome      Russia   \n1732264                  393x851           Chrome      Russia   \n\n                 geo_city  target_action  \n31       Saint Petersburg              0  \n41           Novorossiysk              0  \n58                   Tula              0  \n59                   Tula              0  \n68          Yekaterinburg              0  \n...                   ...            ...  \n1732232  Saint Petersburg              0  \n1732237       Vladivostok              0  \n1732248            Moscow              0  \n1732251            Moscow              0  \n1732264       Chelyabinsk              0  \n\n[128571 rows x 19 columns]",
      "text/html": "<div>\n<style scoped>\n    .dataframe tbody tr th:only-of-type {\n        vertical-align: middle;\n    }\n\n    .dataframe tbody tr th {\n        vertical-align: top;\n    }\n\n    .dataframe thead th {\n        text-align: right;\n    }\n</style>\n<table border=\"1\" class=\"dataframe\">\n  <thead>\n    <tr style=\"text-align: right;\">\n      <th></th>\n      <th>session_id</th>\n      <th>client_id</th>\n      <th>visit_date</th>\n      <th>visit_time</th>\n      <th>visit_number</th>\n      <th>utm_source</th>\n      <th>utm_medium</th>\n      <th>utm_campaign</th>\n      <th>utm_adcontent</th>\n      <th>utm_keyword</th>\n      <th>device_category</th>\n      <th>device_os</th>\n      <th>device_brand</th>\n      <th>device_model</th>\n      <th>device_screen_resolution</th>\n      <th>device_browser</th>\n      <th>geo_country</th>\n      <th>geo_city</th>\n      <th>target_action</th>\n    </tr>\n  </thead>\n  <tbody>\n    <tr>\n      <th>31</th>\n      <td>9055507467976770564.1638335492.1638335492</td>\n      <td>2.108400e+09</td>\n      <td>2021-12-01</td>\n      <td>08:11:32</td>\n      <td>1</td>\n      <td>ZpYIoDJMcFzVoPFsHGJL</td>\n      <td>banner</td>\n      <td>LEoPHuyFvzoNfnzGgfcd</td>\n      <td>JNHcPlZPxEMWDnRiyoBf</td>\n      <td>puhZPIYqKXeFPaUviSjo</td>\n      <td>mobile</td>\n      <td>Android</td>\n      <td>Xiaomi</td>\n      <td>NaN</td>\n      <td>393x851</td>\n      <td>Chrome</td>\n      <td>Russia</td>\n      <td>Saint Petersburg</td>\n      <td>0</td>\n    </tr>\n    <tr>\n      <th>41</th>\n      <td>9055541209241593296.1640080849.1640080849</td>\n      <td>2.108407e+09</td>\n      <td>2021-12-21</td>\n      <td>13:00:49</td>\n      <td>1</td>\n      <td>fDLlAcSmythWSCVMvqvL</td>\n      <td>(none)</td>\n      <td>LTuZkdKfxRGVceoWkVyg</td>\n      <td>JNHcPlZPxEMWDnRiyoBf</td>\n      <td>puhZPIYqKXeFPaUviSjo</td>\n      <td>mobile</td>\n      <td>Android</td>\n      <td>Xiaomi</td>\n      <td>NaN</td>\n      <td>393x851</td>\n      <td>Android Webview</td>\n      <td>Russia</td>\n      <td>Novorossiysk</td>\n      <td>0</td>\n    </tr>\n    <tr>\n      <th>58</th>\n      <td>905565212864092591.1639650867.1639650867</td>\n      <td>2.108433e+08</td>\n      <td>2021-12-16</td>\n      <td>13:34:27</td>\n      <td>2</td>\n      <td>ZpYIoDJMcFzVoPFsHGJL</td>\n      <td>banner</td>\n      <td>LEoPHuyFvzoNfnzGgfcd</td>\n      <td>vCIpmpaGBnIQhyYNkXqp</td>\n      <td>puhZPIYqKXeFPaUviSjo</td>\n      <td>mobile</td>\n      <td>Android</td>\n      <td>Xiaomi</td>\n      <td>NaN</td>\n      <td>393x851</td>\n      <td>Chrome</td>\n      <td>Russia</td>\n      <td>Tula</td>\n      <td>0</td>\n    </tr>\n    <tr>\n      <th>59</th>\n      <td>905565212864092591.1639652819.1639652819</td>\n      <td>2.108433e+08</td>\n      <td>2021-12-16</td>\n      <td>14:06:59</td>\n      <td>3</td>\n      <td>ZpYIoDJMcFzVoPFsHGJL</td>\n      <td>banner</td>\n      <td>LEoPHuyFvzoNfnzGgfcd</td>\n      <td>vCIpmpaGBnIQhyYNkXqp</td>\n      <td>puhZPIYqKXeFPaUviSjo</td>\n      <td>mobile</td>\n      <td>Android</td>\n      <td>Xiaomi</td>\n      <td>NaN</td>\n      <td>393x851</td>\n      <td>Chrome</td>\n      <td>Russia</td>\n      <td>Tula</td>\n      <td>0</td>\n    </tr>\n    <tr>\n      <th>68</th>\n      <td>9055768546153401681.1637944657.1637944657</td>\n      <td>2.108460e+09</td>\n      <td>2021-11-26</td>\n      <td>19:37:37</td>\n      <td>1</td>\n      <td>ZpYIoDJMcFzVoPFsHGJL</td>\n      <td>banner</td>\n      <td>LEoPHuyFvzoNfnzGgfcd</td>\n      <td>vCIpmpaGBnIQhyYNkXqp</td>\n      <td>puhZPIYqKXeFPaUviSjo</td>\n      <td>mobile</td>\n      <td>Android</td>\n      <td>Xiaomi</td>\n      <td>NaN</td>\n      <td>393x851</td>\n      <td>Chrome</td>\n      <td>Russia</td>\n      <td>Yekaterinburg</td>\n      <td>0</td>\n    </tr>\n    <tr>\n      <th>...</th>\n      <td>...</td>\n      <td>...</td>\n      <td>...</td>\n      <td>...</td>\n      <td>...</td>\n      <td>...</td>\n      <td>...</td>\n      <td>...</td>\n      <td>...</td>\n      <td>...</td>\n      <td>...</td>\n      <td>...</td>\n      <td>...</td>\n      <td>...</td>\n      <td>...</td>\n      <td>...</td>\n      <td>...</td>\n      <td>...</td>\n      <td>...</td>\n    </tr>\n    <tr>\n      <th>1732232</th>\n      <td>9055282415982183461.1635091492.1635091492</td>\n      <td>2.108347e+09</td>\n      <td>2021-10-24</td>\n      <td>19:04:52</td>\n      <td>1</td>\n      <td>kjsLglQLzykiRbcDiGcD</td>\n      <td>cpc</td>\n      <td>bJJuEXRheRIxXEaYIXqM</td>\n      <td>NaN</td>\n      <td>KCcEkEaKEtUilBVMoCAi</td>\n      <td>mobile</td>\n      <td>Android</td>\n      <td>Xiaomi</td>\n      <td>NaN</td>\n      <td>375x833</td>\n      <td>Chrome</td>\n      <td>Russia</td>\n      <td>Saint Petersburg</td>\n      <td>0</td>\n    </tr>\n    <tr>\n      <th>1732237</th>\n      <td>9055315461464429378.1638961956.1638961956</td>\n      <td>2.108355e+09</td>\n      <td>2021-12-08</td>\n      <td>14:12:36</td>\n      <td>1</td>\n      <td>ZpYIoDJMcFzVoPFsHGJL</td>\n      <td>banner</td>\n      <td>LEoPHuyFvzoNfnzGgfcd</td>\n      <td>vCIpmpaGBnIQhyYNkXqp</td>\n      <td>puhZPIYqKXeFPaUviSjo</td>\n      <td>mobile</td>\n      <td>Android</td>\n      <td>Xiaomi</td>\n      <td>NaN</td>\n      <td>360x800</td>\n      <td>Chrome</td>\n      <td>Russia</td>\n      <td>Vladivostok</td>\n      <td>0</td>\n    </tr>\n    <tr>\n      <th>1732248</th>\n      <td>9055349000865826584.1640744740.1640744740</td>\n      <td>2.108363e+09</td>\n      <td>2021-12-29</td>\n      <td>05:25:40</td>\n      <td>1</td>\n      <td>TxKUcPpthBDPieTGmVhx</td>\n      <td>cpc</td>\n      <td>FTjNLDyTrXaWYgZymFkV</td>\n      <td>LcGIUNPUAmXtQJaDfFBR</td>\n      <td>NnplfljjtYPiMnRvogpA</td>\n      <td>mobile</td>\n      <td>Android</td>\n      <td>Xiaomi</td>\n      <td>NaN</td>\n      <td>464x1123</td>\n      <td>Chrome</td>\n      <td>Russia</td>\n      <td>Moscow</td>\n      <td>0</td>\n    </tr>\n    <tr>\n      <th>1732251</th>\n      <td>9055355469082180480.1636350848.1636350848</td>\n      <td>2.108364e+09</td>\n      <td>2021-11-08</td>\n      <td>08:54:08</td>\n      <td>1</td>\n      <td>fDLlAcSmythWSCVMvqvL</td>\n      <td>(none)</td>\n      <td>LTuZkdKfxRGVceoWkVyg</td>\n      <td>JNHcPlZPxEMWDnRiyoBf</td>\n      <td>puhZPIYqKXeFPaUviSjo</td>\n      <td>mobile</td>\n      <td>Android</td>\n      <td>Xiaomi</td>\n      <td>NaN</td>\n      <td>393x873</td>\n      <td>Chrome</td>\n      <td>Russia</td>\n      <td>Moscow</td>\n      <td>0</td>\n    </tr>\n    <tr>\n      <th>1732264</th>\n      <td>905543020766873816.1638189404.1638189404</td>\n      <td>2.108382e+08</td>\n      <td>2021-11-29</td>\n      <td>15:36:44</td>\n      <td>1</td>\n      <td>ZpYIoDJMcFzVoPFsHGJL</td>\n      <td>banner</td>\n      <td>LEoPHuyFvzoNfnzGgfcd</td>\n      <td>JNHcPlZPxEMWDnRiyoBf</td>\n      <td>puhZPIYqKXeFPaUviSjo</td>\n      <td>mobile</td>\n      <td>Android</td>\n      <td>Xiaomi</td>\n      <td>NaN</td>\n      <td>393x851</td>\n      <td>Chrome</td>\n      <td>Russia</td>\n      <td>Chelyabinsk</td>\n      <td>0</td>\n    </tr>\n  </tbody>\n</table>\n<p>128571 rows × 19 columns</p>\n</div>"
     },
     "execution_count": 19,
     "metadata": {},
     "output_type": "execute_result"
    }
   ],
   "source": [
    "devices_xiaomi_notnan = com_df[(com_df['device_brand'] == 'Xiaomi') & (com_df['device_category'] == 'mobile') & (com_df['device_os'].notna())]\n",
    "devices_xiaomi_notnan"
   ]
  },
  {
   "cell_type": "code",
   "execution_count": 20,
   "metadata": {},
   "outputs": [],
   "source": [
    "com_df.loc[(com_df['device_brand'] == 'Xiaomi') & (com_df['device_os'].isna()  & (com_df['device_category'] == 'mobile')), 'device_os'] = 'Android'"
   ]
  },
  {
   "cell_type": "code",
   "execution_count": 21,
   "metadata": {},
   "outputs": [],
   "source": [
    "com_df.loc[(com_df['device_brand'] == 'Xiaomi') & (com_df['device_os'].isna()  & (com_df['device_category'] == 'tablet')), 'device_os'] = 'Android'"
   ]
  },
  {
   "cell_type": "code",
   "execution_count": 22,
   "metadata": {},
   "outputs": [
    {
     "data": {
      "text/plain": "                                       session_id     client_id  visit_date  \\\n121635  1338874692298414890.1630870317.1630870317  3.117311e+08  2021-09-05   \n296343  2179795865415458772.1626611671.1626611671  5.075233e+08  2021-07-18   \n893512  5039119271279276996.1634546629.1634546629  1.173261e+09  2021-10-18   \n893513  5039119271279276996.1634891966.1634891966  1.173261e+09  2021-10-22   \n\n       visit_time  visit_number            utm_source utm_medium  \\\n121635   22:00:00             1  kjsLglQLzykiRbcDiGcD        cpc   \n296343   15:00:00             1  kjsLglQLzykiRbcDiGcD        cpc   \n893512   11:00:00             1  kjsLglQLzykiRbcDiGcD        cpc   \n893513   11:00:00             2  kjsLglQLzykiRbcDiGcD        cpc   \n\n                utm_campaign         utm_adcontent utm_keyword  \\\n121635  XHNUiSKKGTEpSAlaVMFQ                   NaN         NaN   \n296343  XHNUiSKKGTEpSAlaVMFQ                   NaN         NaN   \n893512  XHNUiSKKGTEpSAlaVMFQ  JNHcPlZPxEMWDnRiyoBf         NaN   \n893513  XHNUiSKKGTEpSAlaVMFQ  JNHcPlZPxEMWDnRiyoBf         NaN   \n\n       device_category device_os device_brand device_model  \\\n121635         desktop       NaN       Xiaomi          NaN   \n296343         desktop       NaN       Xiaomi          NaN   \n893512         desktop       NaN       Xiaomi          NaN   \n893513         desktop       NaN       Xiaomi          NaN   \n\n       device_screen_resolution device_browser geo_country      geo_city  \\\n121635                  360x760         Chrome      Russia  Novorossiysk   \n296343                  360x720          Opera      Russia       Saratov   \n893512                  393x873         Chrome      Russia        Moscow   \n893513                  393x873         Chrome      Russia        Moscow   \n\n        target_action  \n121635              0  \n296343              0  \n893512              0  \n893513              0  ",
      "text/html": "<div>\n<style scoped>\n    .dataframe tbody tr th:only-of-type {\n        vertical-align: middle;\n    }\n\n    .dataframe tbody tr th {\n        vertical-align: top;\n    }\n\n    .dataframe thead th {\n        text-align: right;\n    }\n</style>\n<table border=\"1\" class=\"dataframe\">\n  <thead>\n    <tr style=\"text-align: right;\">\n      <th></th>\n      <th>session_id</th>\n      <th>client_id</th>\n      <th>visit_date</th>\n      <th>visit_time</th>\n      <th>visit_number</th>\n      <th>utm_source</th>\n      <th>utm_medium</th>\n      <th>utm_campaign</th>\n      <th>utm_adcontent</th>\n      <th>utm_keyword</th>\n      <th>device_category</th>\n      <th>device_os</th>\n      <th>device_brand</th>\n      <th>device_model</th>\n      <th>device_screen_resolution</th>\n      <th>device_browser</th>\n      <th>geo_country</th>\n      <th>geo_city</th>\n      <th>target_action</th>\n    </tr>\n  </thead>\n  <tbody>\n    <tr>\n      <th>121635</th>\n      <td>1338874692298414890.1630870317.1630870317</td>\n      <td>3.117311e+08</td>\n      <td>2021-09-05</td>\n      <td>22:00:00</td>\n      <td>1</td>\n      <td>kjsLglQLzykiRbcDiGcD</td>\n      <td>cpc</td>\n      <td>XHNUiSKKGTEpSAlaVMFQ</td>\n      <td>NaN</td>\n      <td>NaN</td>\n      <td>desktop</td>\n      <td>NaN</td>\n      <td>Xiaomi</td>\n      <td>NaN</td>\n      <td>360x760</td>\n      <td>Chrome</td>\n      <td>Russia</td>\n      <td>Novorossiysk</td>\n      <td>0</td>\n    </tr>\n    <tr>\n      <th>296343</th>\n      <td>2179795865415458772.1626611671.1626611671</td>\n      <td>5.075233e+08</td>\n      <td>2021-07-18</td>\n      <td>15:00:00</td>\n      <td>1</td>\n      <td>kjsLglQLzykiRbcDiGcD</td>\n      <td>cpc</td>\n      <td>XHNUiSKKGTEpSAlaVMFQ</td>\n      <td>NaN</td>\n      <td>NaN</td>\n      <td>desktop</td>\n      <td>NaN</td>\n      <td>Xiaomi</td>\n      <td>NaN</td>\n      <td>360x720</td>\n      <td>Opera</td>\n      <td>Russia</td>\n      <td>Saratov</td>\n      <td>0</td>\n    </tr>\n    <tr>\n      <th>893512</th>\n      <td>5039119271279276996.1634546629.1634546629</td>\n      <td>1.173261e+09</td>\n      <td>2021-10-18</td>\n      <td>11:00:00</td>\n      <td>1</td>\n      <td>kjsLglQLzykiRbcDiGcD</td>\n      <td>cpc</td>\n      <td>XHNUiSKKGTEpSAlaVMFQ</td>\n      <td>JNHcPlZPxEMWDnRiyoBf</td>\n      <td>NaN</td>\n      <td>desktop</td>\n      <td>NaN</td>\n      <td>Xiaomi</td>\n      <td>NaN</td>\n      <td>393x873</td>\n      <td>Chrome</td>\n      <td>Russia</td>\n      <td>Moscow</td>\n      <td>0</td>\n    </tr>\n    <tr>\n      <th>893513</th>\n      <td>5039119271279276996.1634891966.1634891966</td>\n      <td>1.173261e+09</td>\n      <td>2021-10-22</td>\n      <td>11:00:00</td>\n      <td>2</td>\n      <td>kjsLglQLzykiRbcDiGcD</td>\n      <td>cpc</td>\n      <td>XHNUiSKKGTEpSAlaVMFQ</td>\n      <td>JNHcPlZPxEMWDnRiyoBf</td>\n      <td>NaN</td>\n      <td>desktop</td>\n      <td>NaN</td>\n      <td>Xiaomi</td>\n      <td>NaN</td>\n      <td>393x873</td>\n      <td>Chrome</td>\n      <td>Russia</td>\n      <td>Moscow</td>\n      <td>0</td>\n    </tr>\n  </tbody>\n</table>\n</div>"
     },
     "execution_count": 22,
     "metadata": {},
     "output_type": "execute_result"
    }
   ],
   "source": [
    "xiaomi_na = com_df[(com_df['device_brand'] == 'Xiaomi') & (com_df['device_os'].isna())]\n",
    "xiaomi_na"
   ]
  },
  {
   "cell_type": "code",
   "execution_count": 23,
   "metadata": {},
   "outputs": [
    {
     "data": {
      "text/plain": "                                        session_id     client_id  visit_date  \\\n46       9055578871792078746.1622347676.1622347676  2.108416e+09  2021-05-30   \n69       9055768928391199041.1623652678.1623652678  2.108461e+09  2021-06-14   \n117      9055964456785228161.1631531397.1631531596  2.108506e+09  2021-09-13   \n125        90560185929716668.1629639613.1629639679  2.108519e+07  2021-08-22   \n129      9056044781265769926.1633703370.1633703370  2.108525e+09  2021-10-08   \n...                                            ...           ...         ...   \n1732226  9055248417020050011.1634075504.1634075504  2.108339e+09  2021-10-13   \n1732227  9055248417020050011.1634075541.1634075541  2.108339e+09  2021-10-13   \n1732228  9055248417020050011.1634078104.1634078104  2.108339e+09  2021-10-13   \n1732229  9055248417020050011.1634078414.1634078414  2.108339e+09  2021-10-13   \n1732236  9055310002554923982.1632889807.1632889807  2.108354e+09  2021-09-29   \n\n        visit_time  visit_number            utm_source utm_medium  \\\n46        07:00:00             1  kjsLglQLzykiRbcDiGcD        cpc   \n69        09:00:00             1  ZpYIoDJMcFzVoPFsHGJL     banner   \n117       14:00:00             1  bByPQxmDaMXgpHeypKSM   referral   \n125       16:00:00             1  bByPQxmDaMXgpHeypKSM   referral   \n129       17:00:00             1  ZpYIoDJMcFzVoPFsHGJL     banner   \n...            ...           ...                   ...        ...   \n1732226   00:00:00             2  ZpYIoDJMcFzVoPFsHGJL     banner   \n1732227   00:00:00             3  ZpYIoDJMcFzVoPFsHGJL     banner   \n1732228   01:00:00             4  ZpYIoDJMcFzVoPFsHGJL     banner   \n1732229   01:00:00             5  ZpYIoDJMcFzVoPFsHGJL     banner   \n1732236   07:00:00             1  ZpYIoDJMcFzVoPFsHGJL     banner   \n\n                 utm_campaign         utm_adcontent utm_keyword  \\\n46                        NaN  XKsYZiUFcdkUXQpoLKyS         NaN   \n69       LEoPHuyFvzoNfnzGgfcd  JNHcPlZPxEMWDnRiyoBf         NaN   \n117      LTuZkdKfxRGVceoWkVyg  JNHcPlZPxEMWDnRiyoBf         NaN   \n125      LTuZkdKfxRGVceoWkVyg  JNHcPlZPxEMWDnRiyoBf         NaN   \n129      SgIUDYUKnyWHVowUOqid  JNHcPlZPxEMWDnRiyoBf         NaN   \n...                       ...                   ...         ...   \n1732226  gecBYcKZCPMcVYdSSzKP  JNHcPlZPxEMWDnRiyoBf         NaN   \n1732227  SgIUDYUKnyWHVowUOqid  JNHcPlZPxEMWDnRiyoBf         NaN   \n1732228  SgIUDYUKnyWHVowUOqid  JNHcPlZPxEMWDnRiyoBf         NaN   \n1732229  gecBYcKZCPMcVYdSSzKP  JNHcPlZPxEMWDnRiyoBf         NaN   \n1732236  gecBYcKZCPMcVYdSSzKP  JNHcPlZPxEMWDnRiyoBf         NaN   \n\n        device_category device_os device_brand device_model  \\\n46               mobile       NaN       Huawei          NaN   \n69               mobile       NaN       Huawei          NaN   \n117              mobile       NaN       Huawei          NaN   \n125              mobile       NaN       Huawei          NaN   \n129              mobile       NaN       Huawei          NaN   \n...                 ...       ...          ...          ...   \n1732226          mobile       NaN       Huawei          NaN   \n1732227          mobile       NaN       Huawei          NaN   \n1732228          mobile       NaN       Huawei          NaN   \n1732229          mobile       NaN       Huawei          NaN   \n1732236          mobile       NaN       Huawei          NaN   \n\n        device_screen_resolution device_browser geo_country          geo_city  \\\n46                       360x780          Opera      Russia  Saint Petersburg   \n69                       360x780         Chrome      Russia            Moscow   \n117                      360x780         Chrome      Russia  Saint Petersburg   \n125                      360x800          Opera      Russia            Moscow   \n129                      360x770      YaBrowser      Russia            Moscow   \n...                          ...            ...         ...               ...   \n1732226                  360x780         Chrome      Russia   Nizhny Novgorod   \n1732227                  360x780         Chrome      Russia   Nizhny Novgorod   \n1732228                  360x780         Chrome      Russia   Nizhny Novgorod   \n1732229                  360x780         Chrome      Russia   Nizhny Novgorod   \n1732236                  360x780         Chrome      Russia            Moscow   \n\n         target_action  \n46                   0  \n69                   1  \n117                  0  \n125                  0  \n129                  0  \n...                ...  \n1732226              0  \n1732227              1  \n1732228              0  \n1732229              0  \n1732236              0  \n\n[91618 rows x 19 columns]",
      "text/html": "<div>\n<style scoped>\n    .dataframe tbody tr th:only-of-type {\n        vertical-align: middle;\n    }\n\n    .dataframe tbody tr th {\n        vertical-align: top;\n    }\n\n    .dataframe thead th {\n        text-align: right;\n    }\n</style>\n<table border=\"1\" class=\"dataframe\">\n  <thead>\n    <tr style=\"text-align: right;\">\n      <th></th>\n      <th>session_id</th>\n      <th>client_id</th>\n      <th>visit_date</th>\n      <th>visit_time</th>\n      <th>visit_number</th>\n      <th>utm_source</th>\n      <th>utm_medium</th>\n      <th>utm_campaign</th>\n      <th>utm_adcontent</th>\n      <th>utm_keyword</th>\n      <th>device_category</th>\n      <th>device_os</th>\n      <th>device_brand</th>\n      <th>device_model</th>\n      <th>device_screen_resolution</th>\n      <th>device_browser</th>\n      <th>geo_country</th>\n      <th>geo_city</th>\n      <th>target_action</th>\n    </tr>\n  </thead>\n  <tbody>\n    <tr>\n      <th>46</th>\n      <td>9055578871792078746.1622347676.1622347676</td>\n      <td>2.108416e+09</td>\n      <td>2021-05-30</td>\n      <td>07:00:00</td>\n      <td>1</td>\n      <td>kjsLglQLzykiRbcDiGcD</td>\n      <td>cpc</td>\n      <td>NaN</td>\n      <td>XKsYZiUFcdkUXQpoLKyS</td>\n      <td>NaN</td>\n      <td>mobile</td>\n      <td>NaN</td>\n      <td>Huawei</td>\n      <td>NaN</td>\n      <td>360x780</td>\n      <td>Opera</td>\n      <td>Russia</td>\n      <td>Saint Petersburg</td>\n      <td>0</td>\n    </tr>\n    <tr>\n      <th>69</th>\n      <td>9055768928391199041.1623652678.1623652678</td>\n      <td>2.108461e+09</td>\n      <td>2021-06-14</td>\n      <td>09:00:00</td>\n      <td>1</td>\n      <td>ZpYIoDJMcFzVoPFsHGJL</td>\n      <td>banner</td>\n      <td>LEoPHuyFvzoNfnzGgfcd</td>\n      <td>JNHcPlZPxEMWDnRiyoBf</td>\n      <td>NaN</td>\n      <td>mobile</td>\n      <td>NaN</td>\n      <td>Huawei</td>\n      <td>NaN</td>\n      <td>360x780</td>\n      <td>Chrome</td>\n      <td>Russia</td>\n      <td>Moscow</td>\n      <td>1</td>\n    </tr>\n    <tr>\n      <th>117</th>\n      <td>9055964456785228161.1631531397.1631531596</td>\n      <td>2.108506e+09</td>\n      <td>2021-09-13</td>\n      <td>14:00:00</td>\n      <td>1</td>\n      <td>bByPQxmDaMXgpHeypKSM</td>\n      <td>referral</td>\n      <td>LTuZkdKfxRGVceoWkVyg</td>\n      <td>JNHcPlZPxEMWDnRiyoBf</td>\n      <td>NaN</td>\n      <td>mobile</td>\n      <td>NaN</td>\n      <td>Huawei</td>\n      <td>NaN</td>\n      <td>360x780</td>\n      <td>Chrome</td>\n      <td>Russia</td>\n      <td>Saint Petersburg</td>\n      <td>0</td>\n    </tr>\n    <tr>\n      <th>125</th>\n      <td>90560185929716668.1629639613.1629639679</td>\n      <td>2.108519e+07</td>\n      <td>2021-08-22</td>\n      <td>16:00:00</td>\n      <td>1</td>\n      <td>bByPQxmDaMXgpHeypKSM</td>\n      <td>referral</td>\n      <td>LTuZkdKfxRGVceoWkVyg</td>\n      <td>JNHcPlZPxEMWDnRiyoBf</td>\n      <td>NaN</td>\n      <td>mobile</td>\n      <td>NaN</td>\n      <td>Huawei</td>\n      <td>NaN</td>\n      <td>360x800</td>\n      <td>Opera</td>\n      <td>Russia</td>\n      <td>Moscow</td>\n      <td>0</td>\n    </tr>\n    <tr>\n      <th>129</th>\n      <td>9056044781265769926.1633703370.1633703370</td>\n      <td>2.108525e+09</td>\n      <td>2021-10-08</td>\n      <td>17:00:00</td>\n      <td>1</td>\n      <td>ZpYIoDJMcFzVoPFsHGJL</td>\n      <td>banner</td>\n      <td>SgIUDYUKnyWHVowUOqid</td>\n      <td>JNHcPlZPxEMWDnRiyoBf</td>\n      <td>NaN</td>\n      <td>mobile</td>\n      <td>NaN</td>\n      <td>Huawei</td>\n      <td>NaN</td>\n      <td>360x770</td>\n      <td>YaBrowser</td>\n      <td>Russia</td>\n      <td>Moscow</td>\n      <td>0</td>\n    </tr>\n    <tr>\n      <th>...</th>\n      <td>...</td>\n      <td>...</td>\n      <td>...</td>\n      <td>...</td>\n      <td>...</td>\n      <td>...</td>\n      <td>...</td>\n      <td>...</td>\n      <td>...</td>\n      <td>...</td>\n      <td>...</td>\n      <td>...</td>\n      <td>...</td>\n      <td>...</td>\n      <td>...</td>\n      <td>...</td>\n      <td>...</td>\n      <td>...</td>\n      <td>...</td>\n    </tr>\n    <tr>\n      <th>1732226</th>\n      <td>9055248417020050011.1634075504.1634075504</td>\n      <td>2.108339e+09</td>\n      <td>2021-10-13</td>\n      <td>00:00:00</td>\n      <td>2</td>\n      <td>ZpYIoDJMcFzVoPFsHGJL</td>\n      <td>banner</td>\n      <td>gecBYcKZCPMcVYdSSzKP</td>\n      <td>JNHcPlZPxEMWDnRiyoBf</td>\n      <td>NaN</td>\n      <td>mobile</td>\n      <td>NaN</td>\n      <td>Huawei</td>\n      <td>NaN</td>\n      <td>360x780</td>\n      <td>Chrome</td>\n      <td>Russia</td>\n      <td>Nizhny Novgorod</td>\n      <td>0</td>\n    </tr>\n    <tr>\n      <th>1732227</th>\n      <td>9055248417020050011.1634075541.1634075541</td>\n      <td>2.108339e+09</td>\n      <td>2021-10-13</td>\n      <td>00:00:00</td>\n      <td>3</td>\n      <td>ZpYIoDJMcFzVoPFsHGJL</td>\n      <td>banner</td>\n      <td>SgIUDYUKnyWHVowUOqid</td>\n      <td>JNHcPlZPxEMWDnRiyoBf</td>\n      <td>NaN</td>\n      <td>mobile</td>\n      <td>NaN</td>\n      <td>Huawei</td>\n      <td>NaN</td>\n      <td>360x780</td>\n      <td>Chrome</td>\n      <td>Russia</td>\n      <td>Nizhny Novgorod</td>\n      <td>1</td>\n    </tr>\n    <tr>\n      <th>1732228</th>\n      <td>9055248417020050011.1634078104.1634078104</td>\n      <td>2.108339e+09</td>\n      <td>2021-10-13</td>\n      <td>01:00:00</td>\n      <td>4</td>\n      <td>ZpYIoDJMcFzVoPFsHGJL</td>\n      <td>banner</td>\n      <td>SgIUDYUKnyWHVowUOqid</td>\n      <td>JNHcPlZPxEMWDnRiyoBf</td>\n      <td>NaN</td>\n      <td>mobile</td>\n      <td>NaN</td>\n      <td>Huawei</td>\n      <td>NaN</td>\n      <td>360x780</td>\n      <td>Chrome</td>\n      <td>Russia</td>\n      <td>Nizhny Novgorod</td>\n      <td>0</td>\n    </tr>\n    <tr>\n      <th>1732229</th>\n      <td>9055248417020050011.1634078414.1634078414</td>\n      <td>2.108339e+09</td>\n      <td>2021-10-13</td>\n      <td>01:00:00</td>\n      <td>5</td>\n      <td>ZpYIoDJMcFzVoPFsHGJL</td>\n      <td>banner</td>\n      <td>gecBYcKZCPMcVYdSSzKP</td>\n      <td>JNHcPlZPxEMWDnRiyoBf</td>\n      <td>NaN</td>\n      <td>mobile</td>\n      <td>NaN</td>\n      <td>Huawei</td>\n      <td>NaN</td>\n      <td>360x780</td>\n      <td>Chrome</td>\n      <td>Russia</td>\n      <td>Nizhny Novgorod</td>\n      <td>0</td>\n    </tr>\n    <tr>\n      <th>1732236</th>\n      <td>9055310002554923982.1632889807.1632889807</td>\n      <td>2.108354e+09</td>\n      <td>2021-09-29</td>\n      <td>07:00:00</td>\n      <td>1</td>\n      <td>ZpYIoDJMcFzVoPFsHGJL</td>\n      <td>banner</td>\n      <td>gecBYcKZCPMcVYdSSzKP</td>\n      <td>JNHcPlZPxEMWDnRiyoBf</td>\n      <td>NaN</td>\n      <td>mobile</td>\n      <td>NaN</td>\n      <td>Huawei</td>\n      <td>NaN</td>\n      <td>360x780</td>\n      <td>Chrome</td>\n      <td>Russia</td>\n      <td>Moscow</td>\n      <td>0</td>\n    </tr>\n  </tbody>\n</table>\n<p>91618 rows × 19 columns</p>\n</div>"
     },
     "execution_count": 23,
     "metadata": {},
     "output_type": "execute_result"
    }
   ],
   "source": [
    "devices_huawei_notnan = com_df[(com_df['device_brand'] == 'Huawei') & (com_df['device_os'].isna())]\n",
    "devices_huawei_notnan"
   ]
  },
  {
   "cell_type": "code",
   "execution_count": 24,
   "metadata": {},
   "outputs": [],
   "source": [
    "com_df.loc[(com_df['device_brand'] == 'Huawei') & (com_df['device_category'] == 'desktop'), 'device_category'] = 'mobile'"
   ]
  },
  {
   "cell_type": "code",
   "execution_count": 25,
   "metadata": {},
   "outputs": [],
   "source": [
    "com_df.loc[(com_df['device_brand'] == 'Huawei') & (com_df['device_os'].isna()) & (com_df['device_category'] == 'mobile'), 'device_os'] = 'Android'"
   ]
  },
  {
   "cell_type": "code",
   "execution_count": 26,
   "metadata": {},
   "outputs": [],
   "source": [
    "com_df.loc[(com_df['device_brand'] == 'Huawei') & (com_df['device_os'].isna()) & (com_df['device_category'] == 'tablet'), 'device_os'] = 'Android'"
   ]
  },
  {
   "cell_type": "code",
   "execution_count": 27,
   "metadata": {},
   "outputs": [
    {
     "data": {
      "text/plain": "                                        session_id     client_id  visit_date  \\\n7        9055461992850812764.1626107740.1626107740  2.108389e+09  2021-07-12   \n9        9055466554104774132.1624800757.1624800757  2.108390e+09  2021-06-27   \n10       9055466554104774132.1629442326.1629442326  2.108390e+09  2021-08-20   \n11       9055469620715506713.1628883994.1628883994  2.108391e+09  2021-08-13   \n12       9055469620715506713.1633110583.1633110583  2.108391e+09  2021-10-01   \n...                                            ...           ...         ...   \n1732157   905495157639567035.1626429117.1626429117  2.108270e+08  2021-07-16   \n1732158   905495157639567035.1626429718.1626429718  2.108270e+08  2021-07-16   \n1732203  9055165528442559324.1630427998.1630427998  2.108320e+09  2021-08-31   \n1732257  9055394269810294140.1629912447.1629912447  2.108373e+09  2021-08-25   \n1732260  9055398929844789828.1624891784.1624891784  2.108374e+09  2021-06-28   \n\n        visit_time  visit_number            utm_source utm_medium  \\\n7         19:00:00             1  ZpYIoDJMcFzVoPFsHGJL     banner   \n9         16:00:00             1  ZpYIoDJMcFzVoPFsHGJL     banner   \n10        09:00:00             2  ZpYIoDJMcFzVoPFsHGJL     banner   \n11        22:00:00             1  fDLlAcSmythWSCVMvqvL     (none)   \n12        20:00:00             2  fDLlAcSmythWSCVMvqvL     (none)   \n...            ...           ...                   ...        ...   \n1732157   12:00:00             1  BHcvLfOaCWvWTykYqHVe        cpc   \n1732158   13:00:00             2  BHcvLfOaCWvWTykYqHVe        cpc   \n1732203   19:00:00             1  MvfHsxITijuriZxsqZqt        cpm   \n1732257   20:00:00             1  bByPQxmDaMXgpHeypKSM   referral   \n1732260   17:00:00             1  kjsLglQLzykiRbcDiGcD        cpc   \n\n                 utm_campaign         utm_adcontent utm_keyword  \\\n7        LEoPHuyFvzoNfnzGgfcd  JNHcPlZPxEMWDnRiyoBf         NaN   \n9        LEoPHuyFvzoNfnzGgfcd  JNHcPlZPxEMWDnRiyoBf         NaN   \n10       LEoPHuyFvzoNfnzGgfcd  JNHcPlZPxEMWDnRiyoBf         NaN   \n11       LTuZkdKfxRGVceoWkVyg  JNHcPlZPxEMWDnRiyoBf         NaN   \n12       LTuZkdKfxRGVceoWkVyg  JNHcPlZPxEMWDnRiyoBf         NaN   \n...                       ...                   ...         ...   \n1732157                   NaN                   NaN         NaN   \n1732158                   NaN                   NaN         NaN   \n1732203  FTjNLDyTrXaWYgZymFkV  PkybGvWbaqORmxjNunqZ         NaN   \n1732257  LTuZkdKfxRGVceoWkVyg  JNHcPlZPxEMWDnRiyoBf         NaN   \n1732260  vXsFkagGabkcWKlgLzSg                   NaN         NaN   \n\n        device_category device_os device_brand device_model  \\\n7                mobile       NaN      Samsung          NaN   \n9                mobile       NaN      Samsung          NaN   \n10               mobile       NaN      Samsung          NaN   \n11               mobile       NaN      Samsung          NaN   \n12               mobile       NaN      Samsung          NaN   \n...                 ...       ...          ...          ...   \n1732157          mobile       NaN      Samsung          NaN   \n1732158          mobile       NaN      Samsung          NaN   \n1732203          mobile       NaN      Samsung          NaN   \n1732257          mobile       NaN      Samsung          NaN   \n1732260          mobile       NaN      Samsung          NaN   \n\n        device_screen_resolution   device_browser geo_country  \\\n7                        360x640           Chrome      Russia   \n9                        412x915           Chrome      Russia   \n10                       412x915           Chrome      Russia   \n11                       412x869  Android Webview      Russia   \n12                       412x869  Android Webview      Russia   \n...                          ...              ...         ...   \n1732157                  412x915           Chrome      Russia   \n1732158                  412x915           Chrome      Russia   \n1732203                  412x846           Chrome      Russia   \n1732257                  360x800  Android Webview      Russia   \n1732260                  320x676           Chrome      Russia   \n\n                 geo_city  target_action  \n7        Saint Petersburg              0  \n9                  Moscow              0  \n10                 Moscow              0  \n11       Saint Petersburg              0  \n12       Saint Petersburg              0  \n...                   ...            ...  \n1732157  Saint Petersburg              0  \n1732158  Saint Petersburg              0  \n1732203  Saint Petersburg              0  \n1732257  Saint Petersburg              1  \n1732260      Naro-Fominsk              0  \n\n[159063 rows x 19 columns]",
      "text/html": "<div>\n<style scoped>\n    .dataframe tbody tr th:only-of-type {\n        vertical-align: middle;\n    }\n\n    .dataframe tbody tr th {\n        vertical-align: top;\n    }\n\n    .dataframe thead th {\n        text-align: right;\n    }\n</style>\n<table border=\"1\" class=\"dataframe\">\n  <thead>\n    <tr style=\"text-align: right;\">\n      <th></th>\n      <th>session_id</th>\n      <th>client_id</th>\n      <th>visit_date</th>\n      <th>visit_time</th>\n      <th>visit_number</th>\n      <th>utm_source</th>\n      <th>utm_medium</th>\n      <th>utm_campaign</th>\n      <th>utm_adcontent</th>\n      <th>utm_keyword</th>\n      <th>device_category</th>\n      <th>device_os</th>\n      <th>device_brand</th>\n      <th>device_model</th>\n      <th>device_screen_resolution</th>\n      <th>device_browser</th>\n      <th>geo_country</th>\n      <th>geo_city</th>\n      <th>target_action</th>\n    </tr>\n  </thead>\n  <tbody>\n    <tr>\n      <th>7</th>\n      <td>9055461992850812764.1626107740.1626107740</td>\n      <td>2.108389e+09</td>\n      <td>2021-07-12</td>\n      <td>19:00:00</td>\n      <td>1</td>\n      <td>ZpYIoDJMcFzVoPFsHGJL</td>\n      <td>banner</td>\n      <td>LEoPHuyFvzoNfnzGgfcd</td>\n      <td>JNHcPlZPxEMWDnRiyoBf</td>\n      <td>NaN</td>\n      <td>mobile</td>\n      <td>NaN</td>\n      <td>Samsung</td>\n      <td>NaN</td>\n      <td>360x640</td>\n      <td>Chrome</td>\n      <td>Russia</td>\n      <td>Saint Petersburg</td>\n      <td>0</td>\n    </tr>\n    <tr>\n      <th>9</th>\n      <td>9055466554104774132.1624800757.1624800757</td>\n      <td>2.108390e+09</td>\n      <td>2021-06-27</td>\n      <td>16:00:00</td>\n      <td>1</td>\n      <td>ZpYIoDJMcFzVoPFsHGJL</td>\n      <td>banner</td>\n      <td>LEoPHuyFvzoNfnzGgfcd</td>\n      <td>JNHcPlZPxEMWDnRiyoBf</td>\n      <td>NaN</td>\n      <td>mobile</td>\n      <td>NaN</td>\n      <td>Samsung</td>\n      <td>NaN</td>\n      <td>412x915</td>\n      <td>Chrome</td>\n      <td>Russia</td>\n      <td>Moscow</td>\n      <td>0</td>\n    </tr>\n    <tr>\n      <th>10</th>\n      <td>9055466554104774132.1629442326.1629442326</td>\n      <td>2.108390e+09</td>\n      <td>2021-08-20</td>\n      <td>09:00:00</td>\n      <td>2</td>\n      <td>ZpYIoDJMcFzVoPFsHGJL</td>\n      <td>banner</td>\n      <td>LEoPHuyFvzoNfnzGgfcd</td>\n      <td>JNHcPlZPxEMWDnRiyoBf</td>\n      <td>NaN</td>\n      <td>mobile</td>\n      <td>NaN</td>\n      <td>Samsung</td>\n      <td>NaN</td>\n      <td>412x915</td>\n      <td>Chrome</td>\n      <td>Russia</td>\n      <td>Moscow</td>\n      <td>0</td>\n    </tr>\n    <tr>\n      <th>11</th>\n      <td>9055469620715506713.1628883994.1628883994</td>\n      <td>2.108391e+09</td>\n      <td>2021-08-13</td>\n      <td>22:00:00</td>\n      <td>1</td>\n      <td>fDLlAcSmythWSCVMvqvL</td>\n      <td>(none)</td>\n      <td>LTuZkdKfxRGVceoWkVyg</td>\n      <td>JNHcPlZPxEMWDnRiyoBf</td>\n      <td>NaN</td>\n      <td>mobile</td>\n      <td>NaN</td>\n      <td>Samsung</td>\n      <td>NaN</td>\n      <td>412x869</td>\n      <td>Android Webview</td>\n      <td>Russia</td>\n      <td>Saint Petersburg</td>\n      <td>0</td>\n    </tr>\n    <tr>\n      <th>12</th>\n      <td>9055469620715506713.1633110583.1633110583</td>\n      <td>2.108391e+09</td>\n      <td>2021-10-01</td>\n      <td>20:00:00</td>\n      <td>2</td>\n      <td>fDLlAcSmythWSCVMvqvL</td>\n      <td>(none)</td>\n      <td>LTuZkdKfxRGVceoWkVyg</td>\n      <td>JNHcPlZPxEMWDnRiyoBf</td>\n      <td>NaN</td>\n      <td>mobile</td>\n      <td>NaN</td>\n      <td>Samsung</td>\n      <td>NaN</td>\n      <td>412x869</td>\n      <td>Android Webview</td>\n      <td>Russia</td>\n      <td>Saint Petersburg</td>\n      <td>0</td>\n    </tr>\n    <tr>\n      <th>...</th>\n      <td>...</td>\n      <td>...</td>\n      <td>...</td>\n      <td>...</td>\n      <td>...</td>\n      <td>...</td>\n      <td>...</td>\n      <td>...</td>\n      <td>...</td>\n      <td>...</td>\n      <td>...</td>\n      <td>...</td>\n      <td>...</td>\n      <td>...</td>\n      <td>...</td>\n      <td>...</td>\n      <td>...</td>\n      <td>...</td>\n      <td>...</td>\n    </tr>\n    <tr>\n      <th>1732157</th>\n      <td>905495157639567035.1626429117.1626429117</td>\n      <td>2.108270e+08</td>\n      <td>2021-07-16</td>\n      <td>12:00:00</td>\n      <td>1</td>\n      <td>BHcvLfOaCWvWTykYqHVe</td>\n      <td>cpc</td>\n      <td>NaN</td>\n      <td>NaN</td>\n      <td>NaN</td>\n      <td>mobile</td>\n      <td>NaN</td>\n      <td>Samsung</td>\n      <td>NaN</td>\n      <td>412x915</td>\n      <td>Chrome</td>\n      <td>Russia</td>\n      <td>Saint Petersburg</td>\n      <td>0</td>\n    </tr>\n    <tr>\n      <th>1732158</th>\n      <td>905495157639567035.1626429718.1626429718</td>\n      <td>2.108270e+08</td>\n      <td>2021-07-16</td>\n      <td>13:00:00</td>\n      <td>2</td>\n      <td>BHcvLfOaCWvWTykYqHVe</td>\n      <td>cpc</td>\n      <td>NaN</td>\n      <td>NaN</td>\n      <td>NaN</td>\n      <td>mobile</td>\n      <td>NaN</td>\n      <td>Samsung</td>\n      <td>NaN</td>\n      <td>412x915</td>\n      <td>Chrome</td>\n      <td>Russia</td>\n      <td>Saint Petersburg</td>\n      <td>0</td>\n    </tr>\n    <tr>\n      <th>1732203</th>\n      <td>9055165528442559324.1630427998.1630427998</td>\n      <td>2.108320e+09</td>\n      <td>2021-08-31</td>\n      <td>19:00:00</td>\n      <td>1</td>\n      <td>MvfHsxITijuriZxsqZqt</td>\n      <td>cpm</td>\n      <td>FTjNLDyTrXaWYgZymFkV</td>\n      <td>PkybGvWbaqORmxjNunqZ</td>\n      <td>NaN</td>\n      <td>mobile</td>\n      <td>NaN</td>\n      <td>Samsung</td>\n      <td>NaN</td>\n      <td>412x846</td>\n      <td>Chrome</td>\n      <td>Russia</td>\n      <td>Saint Petersburg</td>\n      <td>0</td>\n    </tr>\n    <tr>\n      <th>1732257</th>\n      <td>9055394269810294140.1629912447.1629912447</td>\n      <td>2.108373e+09</td>\n      <td>2021-08-25</td>\n      <td>20:00:00</td>\n      <td>1</td>\n      <td>bByPQxmDaMXgpHeypKSM</td>\n      <td>referral</td>\n      <td>LTuZkdKfxRGVceoWkVyg</td>\n      <td>JNHcPlZPxEMWDnRiyoBf</td>\n      <td>NaN</td>\n      <td>mobile</td>\n      <td>NaN</td>\n      <td>Samsung</td>\n      <td>NaN</td>\n      <td>360x800</td>\n      <td>Android Webview</td>\n      <td>Russia</td>\n      <td>Saint Petersburg</td>\n      <td>1</td>\n    </tr>\n    <tr>\n      <th>1732260</th>\n      <td>9055398929844789828.1624891784.1624891784</td>\n      <td>2.108374e+09</td>\n      <td>2021-06-28</td>\n      <td>17:00:00</td>\n      <td>1</td>\n      <td>kjsLglQLzykiRbcDiGcD</td>\n      <td>cpc</td>\n      <td>vXsFkagGabkcWKlgLzSg</td>\n      <td>NaN</td>\n      <td>NaN</td>\n      <td>mobile</td>\n      <td>NaN</td>\n      <td>Samsung</td>\n      <td>NaN</td>\n      <td>320x676</td>\n      <td>Chrome</td>\n      <td>Russia</td>\n      <td>Naro-Fominsk</td>\n      <td>0</td>\n    </tr>\n  </tbody>\n</table>\n<p>159063 rows × 19 columns</p>\n</div>"
     },
     "execution_count": 27,
     "metadata": {},
     "output_type": "execute_result"
    }
   ],
   "source": [
    "samsung_na = com_df[(com_df['device_brand'] == 'Samsung') & (com_df['device_os'].isna())]\n",
    "samsung_na"
   ]
  },
  {
   "cell_type": "code",
   "execution_count": 28,
   "metadata": {},
   "outputs": [],
   "source": [
    "com_df.loc[(com_df['device_brand'] == 'Samsung') & (com_df['device_category'] == 'desktop'), 'device_category'] = 'mobile'"
   ]
  },
  {
   "cell_type": "code",
   "execution_count": 29,
   "metadata": {},
   "outputs": [],
   "source": [
    "com_df.loc[(com_df['device_brand'] == 'Samsung') & (com_df['device_os'].isna()) & (com_df['device_category'] == 'mobile'), 'device_os'] = 'Android'"
   ]
  },
  {
   "cell_type": "code",
   "execution_count": 30,
   "metadata": {},
   "outputs": [],
   "source": [
    "com_df.loc[(com_df['device_brand'] == 'Samsung') & (com_df['device_os'].isna()) & (com_df['device_category'] == 'tablet'), 'device_os'] = 'Android'"
   ]
  },
  {
   "cell_type": "code",
   "execution_count": 31,
   "metadata": {},
   "outputs": [
    {
     "data": {
      "text/plain": "                                        session_id     client_id  visit_date  \\\n5        9055447192389856083.1622453074.1622453074  2.108386e+09  2021-05-31   \n32       9055511191703531814.1628451110.1628451110  2.108400e+09  2021-08-08   \n33       9055511191703531814.1628451239.1628451239  2.108400e+09  2021-08-08   \n34         90555135045918912.1627381953.1627381953  2.108401e+07  2021-07-27   \n44       9055561545897976496.1626317488.1626317488  2.108412e+09  2021-07-15   \n...                                            ...           ...         ...   \n1732241   905532652706692816.1629060816.1629060816  2.108358e+08  2021-08-15   \n1732242   905532652706692816.1629091708.1629091708  2.108358e+08  2021-08-16   \n1732249  9055349030922605117.1632752193.1632752193  2.108363e+09  2021-09-27   \n1732259  9055397194683347295.1630237022.1630237022  2.108374e+09  2021-08-29   \n1732262  9055421130527858185.1622007305.1622007305  2.108380e+09  2021-05-26   \n\n        visit_time  visit_number            utm_source       utm_medium  \\\n5         12:00:00             1  kjsLglQLzykiRbcDiGcD          organic   \n32        22:00:00             1  fDLlAcSmythWSCVMvqvL           (none)   \n33        22:00:00             2  klTrhUaShgnjIbaPmqjc         referral   \n34        13:00:00             1  ghoaGAksqhKomdFrxgyJ              cpm   \n44        05:00:00             1  ZpYIoDJMcFzVoPFsHGJL           banner   \n...            ...           ...                   ...              ...   \n1732241   23:00:00             1  fDLlAcSmythWSCVMvqvL           (none)   \n1732242   08:00:00             2  fDLlAcSmythWSCVMvqvL           (none)   \n1732249   17:00:00             1  MvfHsxITijuriZxsqZqt              cpm   \n1732259   14:00:00             1  ISrKoXQCxqqYvAZICvjs  blogger_stories   \n1732262   08:00:00             1  fDLlAcSmythWSCVMvqvL           (none)   \n\n                 utm_campaign         utm_adcontent utm_keyword  \\\n5        LTuZkdKfxRGVceoWkVyg  JNHcPlZPxEMWDnRiyoBf         NaN   \n32       LTuZkdKfxRGVceoWkVyg  JNHcPlZPxEMWDnRiyoBf         NaN   \n33       LTuZkdKfxRGVceoWkVyg  JNHcPlZPxEMWDnRiyoBf         NaN   \n34       FTjNLDyTrXaWYgZymFkV  NhvfEqcSTGEZKxxvUZlj         NaN   \n44       MXqmDyetMTICSSitTjWV  JNHcPlZPxEMWDnRiyoBf         NaN   \n...                       ...                   ...         ...   \n1732241  LTuZkdKfxRGVceoWkVyg  JNHcPlZPxEMWDnRiyoBf         NaN   \n1732242  LTuZkdKfxRGVceoWkVyg  JNHcPlZPxEMWDnRiyoBf         NaN   \n1732249  FTjNLDyTrXaWYgZymFkV  PkybGvWbaqORmxjNunqZ         NaN   \n1732259  zfwIehuEfWYdYrEZgRLo  JNHcPlZPxEMWDnRiyoBf         NaN   \n1732262  LTuZkdKfxRGVceoWkVyg  JNHcPlZPxEMWDnRiyoBf         NaN   \n\n        device_category device_os device_brand device_model  \\\n5                mobile       NaN        Apple          NaN   \n32               tablet       NaN        Apple          NaN   \n33               tablet       NaN        Apple          NaN   \n34               mobile       NaN        Apple          NaN   \n44               mobile       NaN        Apple          NaN   \n...                 ...       ...          ...          ...   \n1732241          mobile       NaN        Apple          NaN   \n1732242          mobile       NaN        Apple          NaN   \n1732249          mobile       NaN           BQ          NaN   \n1732259          mobile       NaN        Apple          NaN   \n1732262          mobile       NaN        Apple          NaN   \n\n        device_screen_resolution   device_browser    geo_country  \\\n5                        375x812           Safari         Russia   \n32                       375x667  Safari (in-app)         Russia   \n33                       375x667  Safari (in-app)         Russia   \n34                       375x812  Safari (in-app)         Russia   \n44                       428x926           Safari  United States   \n...                          ...              ...            ...   \n1732241                  428x926  Safari (in-app)         Russia   \n1732242                  428x926  Safari (in-app)         Russia   \n1732249                  640x360        YaBrowser         Russia   \n1732259                  414x896           Safari         Russia   \n1732262                  390x844           Safari         Russia   \n\n                  geo_city  target_action  \n5         Saint Petersburg              0  \n32                  Moscow              0  \n33                  Moscow              0  \n34             Vladivostok              0  \n44       Sunny Isles Beach              0  \n...                    ...            ...  \n1732241             Moscow              0  \n1732242             Moscow              0  \n1732249   Saint Petersburg              0  \n1732259   Zheleznodorozhny              0  \n1732262          Stavropol              0  \n\n[385631 rows x 19 columns]",
      "text/html": "<div>\n<style scoped>\n    .dataframe tbody tr th:only-of-type {\n        vertical-align: middle;\n    }\n\n    .dataframe tbody tr th {\n        vertical-align: top;\n    }\n\n    .dataframe thead th {\n        text-align: right;\n    }\n</style>\n<table border=\"1\" class=\"dataframe\">\n  <thead>\n    <tr style=\"text-align: right;\">\n      <th></th>\n      <th>session_id</th>\n      <th>client_id</th>\n      <th>visit_date</th>\n      <th>visit_time</th>\n      <th>visit_number</th>\n      <th>utm_source</th>\n      <th>utm_medium</th>\n      <th>utm_campaign</th>\n      <th>utm_adcontent</th>\n      <th>utm_keyword</th>\n      <th>device_category</th>\n      <th>device_os</th>\n      <th>device_brand</th>\n      <th>device_model</th>\n      <th>device_screen_resolution</th>\n      <th>device_browser</th>\n      <th>geo_country</th>\n      <th>geo_city</th>\n      <th>target_action</th>\n    </tr>\n  </thead>\n  <tbody>\n    <tr>\n      <th>5</th>\n      <td>9055447192389856083.1622453074.1622453074</td>\n      <td>2.108386e+09</td>\n      <td>2021-05-31</td>\n      <td>12:00:00</td>\n      <td>1</td>\n      <td>kjsLglQLzykiRbcDiGcD</td>\n      <td>organic</td>\n      <td>LTuZkdKfxRGVceoWkVyg</td>\n      <td>JNHcPlZPxEMWDnRiyoBf</td>\n      <td>NaN</td>\n      <td>mobile</td>\n      <td>NaN</td>\n      <td>Apple</td>\n      <td>NaN</td>\n      <td>375x812</td>\n      <td>Safari</td>\n      <td>Russia</td>\n      <td>Saint Petersburg</td>\n      <td>0</td>\n    </tr>\n    <tr>\n      <th>32</th>\n      <td>9055511191703531814.1628451110.1628451110</td>\n      <td>2.108400e+09</td>\n      <td>2021-08-08</td>\n      <td>22:00:00</td>\n      <td>1</td>\n      <td>fDLlAcSmythWSCVMvqvL</td>\n      <td>(none)</td>\n      <td>LTuZkdKfxRGVceoWkVyg</td>\n      <td>JNHcPlZPxEMWDnRiyoBf</td>\n      <td>NaN</td>\n      <td>tablet</td>\n      <td>NaN</td>\n      <td>Apple</td>\n      <td>NaN</td>\n      <td>375x667</td>\n      <td>Safari (in-app)</td>\n      <td>Russia</td>\n      <td>Moscow</td>\n      <td>0</td>\n    </tr>\n    <tr>\n      <th>33</th>\n      <td>9055511191703531814.1628451239.1628451239</td>\n      <td>2.108400e+09</td>\n      <td>2021-08-08</td>\n      <td>22:00:00</td>\n      <td>2</td>\n      <td>klTrhUaShgnjIbaPmqjc</td>\n      <td>referral</td>\n      <td>LTuZkdKfxRGVceoWkVyg</td>\n      <td>JNHcPlZPxEMWDnRiyoBf</td>\n      <td>NaN</td>\n      <td>tablet</td>\n      <td>NaN</td>\n      <td>Apple</td>\n      <td>NaN</td>\n      <td>375x667</td>\n      <td>Safari (in-app)</td>\n      <td>Russia</td>\n      <td>Moscow</td>\n      <td>0</td>\n    </tr>\n    <tr>\n      <th>34</th>\n      <td>90555135045918912.1627381953.1627381953</td>\n      <td>2.108401e+07</td>\n      <td>2021-07-27</td>\n      <td>13:00:00</td>\n      <td>1</td>\n      <td>ghoaGAksqhKomdFrxgyJ</td>\n      <td>cpm</td>\n      <td>FTjNLDyTrXaWYgZymFkV</td>\n      <td>NhvfEqcSTGEZKxxvUZlj</td>\n      <td>NaN</td>\n      <td>mobile</td>\n      <td>NaN</td>\n      <td>Apple</td>\n      <td>NaN</td>\n      <td>375x812</td>\n      <td>Safari (in-app)</td>\n      <td>Russia</td>\n      <td>Vladivostok</td>\n      <td>0</td>\n    </tr>\n    <tr>\n      <th>44</th>\n      <td>9055561545897976496.1626317488.1626317488</td>\n      <td>2.108412e+09</td>\n      <td>2021-07-15</td>\n      <td>05:00:00</td>\n      <td>1</td>\n      <td>ZpYIoDJMcFzVoPFsHGJL</td>\n      <td>banner</td>\n      <td>MXqmDyetMTICSSitTjWV</td>\n      <td>JNHcPlZPxEMWDnRiyoBf</td>\n      <td>NaN</td>\n      <td>mobile</td>\n      <td>NaN</td>\n      <td>Apple</td>\n      <td>NaN</td>\n      <td>428x926</td>\n      <td>Safari</td>\n      <td>United States</td>\n      <td>Sunny Isles Beach</td>\n      <td>0</td>\n    </tr>\n    <tr>\n      <th>...</th>\n      <td>...</td>\n      <td>...</td>\n      <td>...</td>\n      <td>...</td>\n      <td>...</td>\n      <td>...</td>\n      <td>...</td>\n      <td>...</td>\n      <td>...</td>\n      <td>...</td>\n      <td>...</td>\n      <td>...</td>\n      <td>...</td>\n      <td>...</td>\n      <td>...</td>\n      <td>...</td>\n      <td>...</td>\n      <td>...</td>\n      <td>...</td>\n    </tr>\n    <tr>\n      <th>1732241</th>\n      <td>905532652706692816.1629060816.1629060816</td>\n      <td>2.108358e+08</td>\n      <td>2021-08-15</td>\n      <td>23:00:00</td>\n      <td>1</td>\n      <td>fDLlAcSmythWSCVMvqvL</td>\n      <td>(none)</td>\n      <td>LTuZkdKfxRGVceoWkVyg</td>\n      <td>JNHcPlZPxEMWDnRiyoBf</td>\n      <td>NaN</td>\n      <td>mobile</td>\n      <td>NaN</td>\n      <td>Apple</td>\n      <td>NaN</td>\n      <td>428x926</td>\n      <td>Safari (in-app)</td>\n      <td>Russia</td>\n      <td>Moscow</td>\n      <td>0</td>\n    </tr>\n    <tr>\n      <th>1732242</th>\n      <td>905532652706692816.1629091708.1629091708</td>\n      <td>2.108358e+08</td>\n      <td>2021-08-16</td>\n      <td>08:00:00</td>\n      <td>2</td>\n      <td>fDLlAcSmythWSCVMvqvL</td>\n      <td>(none)</td>\n      <td>LTuZkdKfxRGVceoWkVyg</td>\n      <td>JNHcPlZPxEMWDnRiyoBf</td>\n      <td>NaN</td>\n      <td>mobile</td>\n      <td>NaN</td>\n      <td>Apple</td>\n      <td>NaN</td>\n      <td>428x926</td>\n      <td>Safari (in-app)</td>\n      <td>Russia</td>\n      <td>Moscow</td>\n      <td>0</td>\n    </tr>\n    <tr>\n      <th>1732249</th>\n      <td>9055349030922605117.1632752193.1632752193</td>\n      <td>2.108363e+09</td>\n      <td>2021-09-27</td>\n      <td>17:00:00</td>\n      <td>1</td>\n      <td>MvfHsxITijuriZxsqZqt</td>\n      <td>cpm</td>\n      <td>FTjNLDyTrXaWYgZymFkV</td>\n      <td>PkybGvWbaqORmxjNunqZ</td>\n      <td>NaN</td>\n      <td>mobile</td>\n      <td>NaN</td>\n      <td>BQ</td>\n      <td>NaN</td>\n      <td>640x360</td>\n      <td>YaBrowser</td>\n      <td>Russia</td>\n      <td>Saint Petersburg</td>\n      <td>0</td>\n    </tr>\n    <tr>\n      <th>1732259</th>\n      <td>9055397194683347295.1630237022.1630237022</td>\n      <td>2.108374e+09</td>\n      <td>2021-08-29</td>\n      <td>14:00:00</td>\n      <td>1</td>\n      <td>ISrKoXQCxqqYvAZICvjs</td>\n      <td>blogger_stories</td>\n      <td>zfwIehuEfWYdYrEZgRLo</td>\n      <td>JNHcPlZPxEMWDnRiyoBf</td>\n      <td>NaN</td>\n      <td>mobile</td>\n      <td>NaN</td>\n      <td>Apple</td>\n      <td>NaN</td>\n      <td>414x896</td>\n      <td>Safari</td>\n      <td>Russia</td>\n      <td>Zheleznodorozhny</td>\n      <td>0</td>\n    </tr>\n    <tr>\n      <th>1732262</th>\n      <td>9055421130527858185.1622007305.1622007305</td>\n      <td>2.108380e+09</td>\n      <td>2021-05-26</td>\n      <td>08:00:00</td>\n      <td>1</td>\n      <td>fDLlAcSmythWSCVMvqvL</td>\n      <td>(none)</td>\n      <td>LTuZkdKfxRGVceoWkVyg</td>\n      <td>JNHcPlZPxEMWDnRiyoBf</td>\n      <td>NaN</td>\n      <td>mobile</td>\n      <td>NaN</td>\n      <td>Apple</td>\n      <td>NaN</td>\n      <td>390x844</td>\n      <td>Safari</td>\n      <td>Russia</td>\n      <td>Stavropol</td>\n      <td>0</td>\n    </tr>\n  </tbody>\n</table>\n<p>385631 rows × 19 columns</p>\n</div>"
     },
     "execution_count": 31,
     "metadata": {},
     "output_type": "execute_result"
    }
   ],
   "source": [
    "com_df[(com_df['device_brand'].notna()) & (com_df['device_os'].isna())]"
   ]
  },
  {
   "cell_type": "code",
   "execution_count": 32,
   "metadata": {},
   "outputs": [],
   "source": [
    "com_df.loc[(com_df['device_brand'] == 'Apple') & (com_df['device_category'].isin(['mobile', 'tablet'])) & (com_df['device_os'].isna()), 'device_os'] = 'iOS'"
   ]
  },
  {
   "cell_type": "code",
   "execution_count": 33,
   "metadata": {},
   "outputs": [],
   "source": [
    "com_df.loc[(com_df['device_brand'] == 'Apple') & (com_df['device_category'] == 'desktop') & (com_df['device_os'].isna()), 'device_os'] = 'Macintosh'"
   ]
  },
  {
   "cell_type": "code",
   "execution_count": 34,
   "metadata": {},
   "outputs": [
    {
     "data": {
      "text/plain": "device_os\nAndroid          816795\niOS              503499\nNaN              301748\nWindows           81740\nMacintosh         23454\nLinux              4616\n(not set)           309\nChrome OS            65\nBlackBerry           24\nTizen                 7\nFirefox OS            3\nNokia                 2\nSamsung               2\nWindows Phone         2\nName: count, dtype: int64"
     },
     "execution_count": 34,
     "metadata": {},
     "output_type": "execute_result"
    }
   ],
   "source": [
    "com_df['device_os'].value_counts(dropna=False)"
   ]
  },
  {
   "cell_type": "code",
   "execution_count": 35,
   "metadata": {},
   "outputs": [
    {
     "data": {
      "text/plain": "device_brand\nApple       503533\nNaN         347196\nSamsung     311641\nXiaomi      269251\nHuawei      173828\n             ...  \nTesla            1\nVodafone         1\nWexler           1\nSmarteo          1\nMaxvi            1\nName: count, Length: 201, dtype: int64"
     },
     "execution_count": 35,
     "metadata": {},
     "output_type": "execute_result"
    }
   ],
   "source": [
    "com_df['device_brand'].value_counts(dropna=False)"
   ]
  },
  {
   "cell_type": "code",
   "execution_count": 36,
   "metadata": {},
   "outputs": [
    {
     "data": {
      "text/plain": "                                        session_id     client_id  visit_date  \\\n28       9055505230298952295.1638478433.1638478433  2.108399e+09  2021-12-02   \n65       9055678214400253418.1636965866.1636965866  2.108439e+09  2021-11-15   \n77       9055795561498027164.1638278300.1638278300  2.108467e+09  2021-11-30   \n86       9055853019573035768.1640801016.1640801016  2.108480e+09  2021-12-29   \n96       9055873197324118026.1635526668.1635526668  2.108485e+09  2021-10-29   \n...                                            ...           ...         ...   \n1732210  9055207816701080345.1640952603.1640952603  2.108330e+09  2021-12-31   \n1732224  9055247549438461124.1635878086.1635878086  2.108339e+09  2021-11-02   \n1732233  9055283330814105899.1638979884.1638979890  2.108347e+09  2021-12-08   \n1732250  9055354507009984602.1636829278.1636829278  2.108364e+09  2021-11-13   \n1732261  9055415581448263752.1640159305.1640159305  2.108378e+09  2021-12-22   \n\n        visit_time  visit_number            utm_source utm_medium  \\\n28        23:53:53             1  fDLlAcSmythWSCVMvqvL     (none)   \n65        11:44:26             1  fDLlAcSmythWSCVMvqvL     (none)   \n77        16:18:20             1  MvfHsxITijuriZxsqZqt        cpm   \n86        21:03:36             1  fDLlAcSmythWSCVMvqvL     (none)   \n96        19:57:48             1  jaSOmLICuBzCFqHfBdRg      email   \n...            ...           ...                   ...        ...   \n1732210   15:10:03             1  nSReTmyFtbSjlPrTKoaX     banner   \n1732224   21:34:46             1  fDLlAcSmythWSCVMvqvL     (none)   \n1732233   19:11:30             1  bByPQxmDaMXgpHeypKSM   referral   \n1732250   21:47:58             1  vFcAhRxLfOWKhvxjELkx    organic   \n1732261   10:48:25             1  BHcvLfOaCWvWTykYqHVe        cpc   \n\n                 utm_campaign         utm_adcontent           utm_keyword  \\\n28       LTuZkdKfxRGVceoWkVyg  JNHcPlZPxEMWDnRiyoBf  puhZPIYqKXeFPaUviSjo   \n65       LTuZkdKfxRGVceoWkVyg  JNHcPlZPxEMWDnRiyoBf  puhZPIYqKXeFPaUviSjo   \n77       FTjNLDyTrXaWYgZymFkV  xhoenQgDQsgfEPYNPwKO  jpZoxCaowxXvglZVUJyq   \n86       LTuZkdKfxRGVceoWkVyg  JNHcPlZPxEMWDnRiyoBf  puhZPIYqKXeFPaUviSjo   \n96       bxOTvPtyGSdUrbwoXCPO  JNHcPlZPxEMWDnRiyoBf  puhZPIYqKXeFPaUviSjo   \n...                       ...                   ...                   ...   \n1732210  BVKxkCOHKUOvkpbrLMgZ  JNHcPlZPxEMWDnRiyoBf  puhZPIYqKXeFPaUviSjo   \n1732224  LTuZkdKfxRGVceoWkVyg  JNHcPlZPxEMWDnRiyoBf  puhZPIYqKXeFPaUviSjo   \n1732233  QdLfySaGXolfTBSNVfHn  SOkCdPxfUcZUzzOdgGES  puhZPIYqKXeFPaUviSjo   \n1732250  okTXSMadDkjvntEHzIjp  LLfCasrxQzJIyuldcuWy  aXQzDWsJuGXeBXexNHjc   \n1732261                   NaN                   NaN  VlqBmecIOXWjCWUmQkLd   \n\n        device_category device_os device_brand device_model  \\\n28              desktop   Windows          NaN          NaN   \n65              desktop   Windows          NaN          NaN   \n77              desktop   Windows          NaN          NaN   \n86              desktop   Windows          NaN          NaN   \n96              desktop   Windows          NaN          NaN   \n...                 ...       ...          ...          ...   \n1732210         desktop   Windows          NaN          NaN   \n1732224         desktop   Windows          NaN          NaN   \n1732233         desktop   Windows          NaN          NaN   \n1732250         desktop   Windows          NaN          NaN   \n1732261         desktop   Windows          NaN          NaN   \n\n        device_screen_resolution device_browser geo_country          geo_city  \\\n28                      1536x864         Chrome      Russia        Balashikha   \n65                     1920x1080         Chrome      Russia  Saint Petersburg   \n77                     1680x1050         Chrome      Russia            Moscow   \n86                      1024x820      YaBrowser      Russia            Moscow   \n96                     1920x1080      YaBrowser      Russia            Moscow   \n...                          ...            ...         ...               ...   \n1732210                1280x1024          Opera      Russia            Samara   \n1732224                 1366x768         Chrome      Russia             Kazan   \n1732233                1920x1080         Chrome      Russia         Krasnodar   \n1732250                 1366x768        Firefox      Russia        Balashikha   \n1732261                1920x1080         Chrome      Russia            Moscow   \n\n         target_action  \n28                   0  \n65                   0  \n77                   0  \n86                   0  \n96                   0  \n...                ...  \n1732210              0  \n1732224              0  \n1732233              0  \n1732250              0  \n1732261              0  \n\n[81740 rows x 19 columns]",
      "text/html": "<div>\n<style scoped>\n    .dataframe tbody tr th:only-of-type {\n        vertical-align: middle;\n    }\n\n    .dataframe tbody tr th {\n        vertical-align: top;\n    }\n\n    .dataframe thead th {\n        text-align: right;\n    }\n</style>\n<table border=\"1\" class=\"dataframe\">\n  <thead>\n    <tr style=\"text-align: right;\">\n      <th></th>\n      <th>session_id</th>\n      <th>client_id</th>\n      <th>visit_date</th>\n      <th>visit_time</th>\n      <th>visit_number</th>\n      <th>utm_source</th>\n      <th>utm_medium</th>\n      <th>utm_campaign</th>\n      <th>utm_adcontent</th>\n      <th>utm_keyword</th>\n      <th>device_category</th>\n      <th>device_os</th>\n      <th>device_brand</th>\n      <th>device_model</th>\n      <th>device_screen_resolution</th>\n      <th>device_browser</th>\n      <th>geo_country</th>\n      <th>geo_city</th>\n      <th>target_action</th>\n    </tr>\n  </thead>\n  <tbody>\n    <tr>\n      <th>28</th>\n      <td>9055505230298952295.1638478433.1638478433</td>\n      <td>2.108399e+09</td>\n      <td>2021-12-02</td>\n      <td>23:53:53</td>\n      <td>1</td>\n      <td>fDLlAcSmythWSCVMvqvL</td>\n      <td>(none)</td>\n      <td>LTuZkdKfxRGVceoWkVyg</td>\n      <td>JNHcPlZPxEMWDnRiyoBf</td>\n      <td>puhZPIYqKXeFPaUviSjo</td>\n      <td>desktop</td>\n      <td>Windows</td>\n      <td>NaN</td>\n      <td>NaN</td>\n      <td>1536x864</td>\n      <td>Chrome</td>\n      <td>Russia</td>\n      <td>Balashikha</td>\n      <td>0</td>\n    </tr>\n    <tr>\n      <th>65</th>\n      <td>9055678214400253418.1636965866.1636965866</td>\n      <td>2.108439e+09</td>\n      <td>2021-11-15</td>\n      <td>11:44:26</td>\n      <td>1</td>\n      <td>fDLlAcSmythWSCVMvqvL</td>\n      <td>(none)</td>\n      <td>LTuZkdKfxRGVceoWkVyg</td>\n      <td>JNHcPlZPxEMWDnRiyoBf</td>\n      <td>puhZPIYqKXeFPaUviSjo</td>\n      <td>desktop</td>\n      <td>Windows</td>\n      <td>NaN</td>\n      <td>NaN</td>\n      <td>1920x1080</td>\n      <td>Chrome</td>\n      <td>Russia</td>\n      <td>Saint Petersburg</td>\n      <td>0</td>\n    </tr>\n    <tr>\n      <th>77</th>\n      <td>9055795561498027164.1638278300.1638278300</td>\n      <td>2.108467e+09</td>\n      <td>2021-11-30</td>\n      <td>16:18:20</td>\n      <td>1</td>\n      <td>MvfHsxITijuriZxsqZqt</td>\n      <td>cpm</td>\n      <td>FTjNLDyTrXaWYgZymFkV</td>\n      <td>xhoenQgDQsgfEPYNPwKO</td>\n      <td>jpZoxCaowxXvglZVUJyq</td>\n      <td>desktop</td>\n      <td>Windows</td>\n      <td>NaN</td>\n      <td>NaN</td>\n      <td>1680x1050</td>\n      <td>Chrome</td>\n      <td>Russia</td>\n      <td>Moscow</td>\n      <td>0</td>\n    </tr>\n    <tr>\n      <th>86</th>\n      <td>9055853019573035768.1640801016.1640801016</td>\n      <td>2.108480e+09</td>\n      <td>2021-12-29</td>\n      <td>21:03:36</td>\n      <td>1</td>\n      <td>fDLlAcSmythWSCVMvqvL</td>\n      <td>(none)</td>\n      <td>LTuZkdKfxRGVceoWkVyg</td>\n      <td>JNHcPlZPxEMWDnRiyoBf</td>\n      <td>puhZPIYqKXeFPaUviSjo</td>\n      <td>desktop</td>\n      <td>Windows</td>\n      <td>NaN</td>\n      <td>NaN</td>\n      <td>1024x820</td>\n      <td>YaBrowser</td>\n      <td>Russia</td>\n      <td>Moscow</td>\n      <td>0</td>\n    </tr>\n    <tr>\n      <th>96</th>\n      <td>9055873197324118026.1635526668.1635526668</td>\n      <td>2.108485e+09</td>\n      <td>2021-10-29</td>\n      <td>19:57:48</td>\n      <td>1</td>\n      <td>jaSOmLICuBzCFqHfBdRg</td>\n      <td>email</td>\n      <td>bxOTvPtyGSdUrbwoXCPO</td>\n      <td>JNHcPlZPxEMWDnRiyoBf</td>\n      <td>puhZPIYqKXeFPaUviSjo</td>\n      <td>desktop</td>\n      <td>Windows</td>\n      <td>NaN</td>\n      <td>NaN</td>\n      <td>1920x1080</td>\n      <td>YaBrowser</td>\n      <td>Russia</td>\n      <td>Moscow</td>\n      <td>0</td>\n    </tr>\n    <tr>\n      <th>...</th>\n      <td>...</td>\n      <td>...</td>\n      <td>...</td>\n      <td>...</td>\n      <td>...</td>\n      <td>...</td>\n      <td>...</td>\n      <td>...</td>\n      <td>...</td>\n      <td>...</td>\n      <td>...</td>\n      <td>...</td>\n      <td>...</td>\n      <td>...</td>\n      <td>...</td>\n      <td>...</td>\n      <td>...</td>\n      <td>...</td>\n      <td>...</td>\n    </tr>\n    <tr>\n      <th>1732210</th>\n      <td>9055207816701080345.1640952603.1640952603</td>\n      <td>2.108330e+09</td>\n      <td>2021-12-31</td>\n      <td>15:10:03</td>\n      <td>1</td>\n      <td>nSReTmyFtbSjlPrTKoaX</td>\n      <td>banner</td>\n      <td>BVKxkCOHKUOvkpbrLMgZ</td>\n      <td>JNHcPlZPxEMWDnRiyoBf</td>\n      <td>puhZPIYqKXeFPaUviSjo</td>\n      <td>desktop</td>\n      <td>Windows</td>\n      <td>NaN</td>\n      <td>NaN</td>\n      <td>1280x1024</td>\n      <td>Opera</td>\n      <td>Russia</td>\n      <td>Samara</td>\n      <td>0</td>\n    </tr>\n    <tr>\n      <th>1732224</th>\n      <td>9055247549438461124.1635878086.1635878086</td>\n      <td>2.108339e+09</td>\n      <td>2021-11-02</td>\n      <td>21:34:46</td>\n      <td>1</td>\n      <td>fDLlAcSmythWSCVMvqvL</td>\n      <td>(none)</td>\n      <td>LTuZkdKfxRGVceoWkVyg</td>\n      <td>JNHcPlZPxEMWDnRiyoBf</td>\n      <td>puhZPIYqKXeFPaUviSjo</td>\n      <td>desktop</td>\n      <td>Windows</td>\n      <td>NaN</td>\n      <td>NaN</td>\n      <td>1366x768</td>\n      <td>Chrome</td>\n      <td>Russia</td>\n      <td>Kazan</td>\n      <td>0</td>\n    </tr>\n    <tr>\n      <th>1732233</th>\n      <td>9055283330814105899.1638979884.1638979890</td>\n      <td>2.108347e+09</td>\n      <td>2021-12-08</td>\n      <td>19:11:30</td>\n      <td>1</td>\n      <td>bByPQxmDaMXgpHeypKSM</td>\n      <td>referral</td>\n      <td>QdLfySaGXolfTBSNVfHn</td>\n      <td>SOkCdPxfUcZUzzOdgGES</td>\n      <td>puhZPIYqKXeFPaUviSjo</td>\n      <td>desktop</td>\n      <td>Windows</td>\n      <td>NaN</td>\n      <td>NaN</td>\n      <td>1920x1080</td>\n      <td>Chrome</td>\n      <td>Russia</td>\n      <td>Krasnodar</td>\n      <td>0</td>\n    </tr>\n    <tr>\n      <th>1732250</th>\n      <td>9055354507009984602.1636829278.1636829278</td>\n      <td>2.108364e+09</td>\n      <td>2021-11-13</td>\n      <td>21:47:58</td>\n      <td>1</td>\n      <td>vFcAhRxLfOWKhvxjELkx</td>\n      <td>organic</td>\n      <td>okTXSMadDkjvntEHzIjp</td>\n      <td>LLfCasrxQzJIyuldcuWy</td>\n      <td>aXQzDWsJuGXeBXexNHjc</td>\n      <td>desktop</td>\n      <td>Windows</td>\n      <td>NaN</td>\n      <td>NaN</td>\n      <td>1366x768</td>\n      <td>Firefox</td>\n      <td>Russia</td>\n      <td>Balashikha</td>\n      <td>0</td>\n    </tr>\n    <tr>\n      <th>1732261</th>\n      <td>9055415581448263752.1640159305.1640159305</td>\n      <td>2.108378e+09</td>\n      <td>2021-12-22</td>\n      <td>10:48:25</td>\n      <td>1</td>\n      <td>BHcvLfOaCWvWTykYqHVe</td>\n      <td>cpc</td>\n      <td>NaN</td>\n      <td>NaN</td>\n      <td>VlqBmecIOXWjCWUmQkLd</td>\n      <td>desktop</td>\n      <td>Windows</td>\n      <td>NaN</td>\n      <td>NaN</td>\n      <td>1920x1080</td>\n      <td>Chrome</td>\n      <td>Russia</td>\n      <td>Moscow</td>\n      <td>0</td>\n    </tr>\n  </tbody>\n</table>\n<p>81740 rows × 19 columns</p>\n</div>"
     },
     "execution_count": 36,
     "metadata": {},
     "output_type": "execute_result"
    }
   ],
   "source": [
    "com_df[(com_df['device_brand'].isna()) & (com_df['device_os'] == 'Windows')]"
   ]
  },
  {
   "cell_type": "code",
   "execution_count": 37,
   "metadata": {},
   "outputs": [],
   "source": [
    "com_df.loc[(com_df['device_brand'].isna()) & (com_df['device_os'] == 'Windows'), 'device_brand'] = 'other_brand'"
   ]
  },
  {
   "cell_type": "code",
   "execution_count": 38,
   "metadata": {},
   "outputs": [
    {
     "data": {
      "text/plain": "                                        session_id     client_id  visit_date  \\\n61       9055657327967035032.1629707931.1629707931  2.108435e+09  2021-08-23   \n62        905565977351442956.1622561294.1622561294  2.108435e+08  2021-06-01   \n71       9055788191321875859.1626006934.1626006934  2.108465e+09  2021-07-11   \n72       9055788191321875859.1627377569.1627377569  2.108465e+09  2021-07-27   \n76       9055794766915104430.1624305327.1624305327  2.108467e+09  2021-06-21   \n...                                            ...           ...         ...   \n1732245  9055329372850890545.1629287172.1629287172  2.108358e+09  2021-08-18   \n1732246  9055343778173115129.1628265209.1628265209  2.108362e+09  2021-08-06   \n1732247  9055345397369530035.1622009529.1622009529  2.108362e+09  2021-05-26   \n1732252  9055363711117247375.1629176721.1629176721  2.108366e+09  2021-08-17   \n1732254  9055376699099939975.1630766214.1630766214  2.108369e+09  2021-09-04   \n\n        visit_time  visit_number            utm_source utm_medium  \\\n61        11:00:00             1  nSReTmyFtbSjlPrTKoaX     banner   \n62        18:00:00             1  fDLlAcSmythWSCVMvqvL     (none)   \n71        15:00:00             1  fDLlAcSmythWSCVMvqvL     (none)   \n72        12:00:00             2  kjsLglQLzykiRbcDiGcD        cpc   \n76        22:00:00             1  BHcvLfOaCWvWTykYqHVe        cpc   \n...            ...           ...                   ...        ...   \n1732245   14:00:00             3  BHcvLfOaCWvWTykYqHVe        cpc   \n1732246   18:00:00             1  kjsLglQLzykiRbcDiGcD    organic   \n1732247   09:00:00             1  fDLlAcSmythWSCVMvqvL     (none)   \n1732252   08:00:00             1  PlbkrSYoHuZBWfYjYnfw        cpm   \n1732254   17:00:00             1  fDLlAcSmythWSCVMvqvL     (none)   \n\n                 utm_campaign         utm_adcontent utm_keyword  \\\n61       BVKxkCOHKUOvkpbrLMgZ  JNHcPlZPxEMWDnRiyoBf         NaN   \n62       LTuZkdKfxRGVceoWkVyg  JNHcPlZPxEMWDnRiyoBf         NaN   \n71       LTuZkdKfxRGVceoWkVyg  JNHcPlZPxEMWDnRiyoBf         NaN   \n72       nSReTmyFtbSjlPrTKoaX  JNHcPlZPxEMWDnRiyoBf         NaN   \n76                        NaN                   NaN         NaN   \n...                       ...                   ...         ...   \n1732245                   NaN                   NaN         NaN   \n1732246  LTuZkdKfxRGVceoWkVyg  JNHcPlZPxEMWDnRiyoBf         NaN   \n1732247  LTuZkdKfxRGVceoWkVyg  JNHcPlZPxEMWDnRiyoBf         NaN   \n1732252  FTjNLDyTrXaWYgZymFkV  TuyPWsGQruPMpKvRxeBF         NaN   \n1732254  LTuZkdKfxRGVceoWkVyg  JNHcPlZPxEMWDnRiyoBf         NaN   \n\n        device_category device_os device_brand device_model  \\\n61              desktop       NaN          NaN          NaN   \n62              desktop       NaN          NaN          NaN   \n71              desktop       NaN          NaN          NaN   \n72              desktop       NaN          NaN          NaN   \n76              desktop       NaN          NaN          NaN   \n...                 ...       ...          ...          ...   \n1732245         desktop       NaN          NaN          NaN   \n1732246         desktop       NaN          NaN          NaN   \n1732247         desktop       NaN          NaN          NaN   \n1732252         desktop       NaN          NaN          NaN   \n1732254         desktop       NaN          NaN          NaN   \n\n        device_screen_resolution device_browser geo_country    geo_city  \\\n61                     1920x1080      YaBrowser      Russia      Moscow   \n62                     1920x1080         Chrome      Russia      Moscow   \n71                      1280x720         Chrome      Russia      Moscow   \n72                     1920x1080         Chrome      Russia      Moscow   \n76                      834x1112         Safari      Russia  Domodedovo   \n...                          ...            ...         ...         ...   \n1732245                1920x1080      YaBrowser      Russia      Moscow   \n1732246                1920x1080        Firefox      Russia      Moscow   \n1732247                 1536x864        Firefox      Russia   (not set)   \n1732252                1920x1080         Chrome      Russia   (not set)   \n1732254                1920x1080         Chrome      Russia      Khimki   \n\n         target_action  \n61                   0  \n62                   0  \n71                   0  \n72                   0  \n76                   1  \n...                ...  \n1732245              0  \n1732246              0  \n1732247              0  \n1732252              0  \n1732254              1  \n\n[236704 rows x 19 columns]",
      "text/html": "<div>\n<style scoped>\n    .dataframe tbody tr th:only-of-type {\n        vertical-align: middle;\n    }\n\n    .dataframe tbody tr th {\n        vertical-align: top;\n    }\n\n    .dataframe thead th {\n        text-align: right;\n    }\n</style>\n<table border=\"1\" class=\"dataframe\">\n  <thead>\n    <tr style=\"text-align: right;\">\n      <th></th>\n      <th>session_id</th>\n      <th>client_id</th>\n      <th>visit_date</th>\n      <th>visit_time</th>\n      <th>visit_number</th>\n      <th>utm_source</th>\n      <th>utm_medium</th>\n      <th>utm_campaign</th>\n      <th>utm_adcontent</th>\n      <th>utm_keyword</th>\n      <th>device_category</th>\n      <th>device_os</th>\n      <th>device_brand</th>\n      <th>device_model</th>\n      <th>device_screen_resolution</th>\n      <th>device_browser</th>\n      <th>geo_country</th>\n      <th>geo_city</th>\n      <th>target_action</th>\n    </tr>\n  </thead>\n  <tbody>\n    <tr>\n      <th>61</th>\n      <td>9055657327967035032.1629707931.1629707931</td>\n      <td>2.108435e+09</td>\n      <td>2021-08-23</td>\n      <td>11:00:00</td>\n      <td>1</td>\n      <td>nSReTmyFtbSjlPrTKoaX</td>\n      <td>banner</td>\n      <td>BVKxkCOHKUOvkpbrLMgZ</td>\n      <td>JNHcPlZPxEMWDnRiyoBf</td>\n      <td>NaN</td>\n      <td>desktop</td>\n      <td>NaN</td>\n      <td>NaN</td>\n      <td>NaN</td>\n      <td>1920x1080</td>\n      <td>YaBrowser</td>\n      <td>Russia</td>\n      <td>Moscow</td>\n      <td>0</td>\n    </tr>\n    <tr>\n      <th>62</th>\n      <td>905565977351442956.1622561294.1622561294</td>\n      <td>2.108435e+08</td>\n      <td>2021-06-01</td>\n      <td>18:00:00</td>\n      <td>1</td>\n      <td>fDLlAcSmythWSCVMvqvL</td>\n      <td>(none)</td>\n      <td>LTuZkdKfxRGVceoWkVyg</td>\n      <td>JNHcPlZPxEMWDnRiyoBf</td>\n      <td>NaN</td>\n      <td>desktop</td>\n      <td>NaN</td>\n      <td>NaN</td>\n      <td>NaN</td>\n      <td>1920x1080</td>\n      <td>Chrome</td>\n      <td>Russia</td>\n      <td>Moscow</td>\n      <td>0</td>\n    </tr>\n    <tr>\n      <th>71</th>\n      <td>9055788191321875859.1626006934.1626006934</td>\n      <td>2.108465e+09</td>\n      <td>2021-07-11</td>\n      <td>15:00:00</td>\n      <td>1</td>\n      <td>fDLlAcSmythWSCVMvqvL</td>\n      <td>(none)</td>\n      <td>LTuZkdKfxRGVceoWkVyg</td>\n      <td>JNHcPlZPxEMWDnRiyoBf</td>\n      <td>NaN</td>\n      <td>desktop</td>\n      <td>NaN</td>\n      <td>NaN</td>\n      <td>NaN</td>\n      <td>1280x720</td>\n      <td>Chrome</td>\n      <td>Russia</td>\n      <td>Moscow</td>\n      <td>0</td>\n    </tr>\n    <tr>\n      <th>72</th>\n      <td>9055788191321875859.1627377569.1627377569</td>\n      <td>2.108465e+09</td>\n      <td>2021-07-27</td>\n      <td>12:00:00</td>\n      <td>2</td>\n      <td>kjsLglQLzykiRbcDiGcD</td>\n      <td>cpc</td>\n      <td>nSReTmyFtbSjlPrTKoaX</td>\n      <td>JNHcPlZPxEMWDnRiyoBf</td>\n      <td>NaN</td>\n      <td>desktop</td>\n      <td>NaN</td>\n      <td>NaN</td>\n      <td>NaN</td>\n      <td>1920x1080</td>\n      <td>Chrome</td>\n      <td>Russia</td>\n      <td>Moscow</td>\n      <td>0</td>\n    </tr>\n    <tr>\n      <th>76</th>\n      <td>9055794766915104430.1624305327.1624305327</td>\n      <td>2.108467e+09</td>\n      <td>2021-06-21</td>\n      <td>22:00:00</td>\n      <td>1</td>\n      <td>BHcvLfOaCWvWTykYqHVe</td>\n      <td>cpc</td>\n      <td>NaN</td>\n      <td>NaN</td>\n      <td>NaN</td>\n      <td>desktop</td>\n      <td>NaN</td>\n      <td>NaN</td>\n      <td>NaN</td>\n      <td>834x1112</td>\n      <td>Safari</td>\n      <td>Russia</td>\n      <td>Domodedovo</td>\n      <td>1</td>\n    </tr>\n    <tr>\n      <th>...</th>\n      <td>...</td>\n      <td>...</td>\n      <td>...</td>\n      <td>...</td>\n      <td>...</td>\n      <td>...</td>\n      <td>...</td>\n      <td>...</td>\n      <td>...</td>\n      <td>...</td>\n      <td>...</td>\n      <td>...</td>\n      <td>...</td>\n      <td>...</td>\n      <td>...</td>\n      <td>...</td>\n      <td>...</td>\n      <td>...</td>\n      <td>...</td>\n    </tr>\n    <tr>\n      <th>1732245</th>\n      <td>9055329372850890545.1629287172.1629287172</td>\n      <td>2.108358e+09</td>\n      <td>2021-08-18</td>\n      <td>14:00:00</td>\n      <td>3</td>\n      <td>BHcvLfOaCWvWTykYqHVe</td>\n      <td>cpc</td>\n      <td>NaN</td>\n      <td>NaN</td>\n      <td>NaN</td>\n      <td>desktop</td>\n      <td>NaN</td>\n      <td>NaN</td>\n      <td>NaN</td>\n      <td>1920x1080</td>\n      <td>YaBrowser</td>\n      <td>Russia</td>\n      <td>Moscow</td>\n      <td>0</td>\n    </tr>\n    <tr>\n      <th>1732246</th>\n      <td>9055343778173115129.1628265209.1628265209</td>\n      <td>2.108362e+09</td>\n      <td>2021-08-06</td>\n      <td>18:00:00</td>\n      <td>1</td>\n      <td>kjsLglQLzykiRbcDiGcD</td>\n      <td>organic</td>\n      <td>LTuZkdKfxRGVceoWkVyg</td>\n      <td>JNHcPlZPxEMWDnRiyoBf</td>\n      <td>NaN</td>\n      <td>desktop</td>\n      <td>NaN</td>\n      <td>NaN</td>\n      <td>NaN</td>\n      <td>1920x1080</td>\n      <td>Firefox</td>\n      <td>Russia</td>\n      <td>Moscow</td>\n      <td>0</td>\n    </tr>\n    <tr>\n      <th>1732247</th>\n      <td>9055345397369530035.1622009529.1622009529</td>\n      <td>2.108362e+09</td>\n      <td>2021-05-26</td>\n      <td>09:00:00</td>\n      <td>1</td>\n      <td>fDLlAcSmythWSCVMvqvL</td>\n      <td>(none)</td>\n      <td>LTuZkdKfxRGVceoWkVyg</td>\n      <td>JNHcPlZPxEMWDnRiyoBf</td>\n      <td>NaN</td>\n      <td>desktop</td>\n      <td>NaN</td>\n      <td>NaN</td>\n      <td>NaN</td>\n      <td>1536x864</td>\n      <td>Firefox</td>\n      <td>Russia</td>\n      <td>(not set)</td>\n      <td>0</td>\n    </tr>\n    <tr>\n      <th>1732252</th>\n      <td>9055363711117247375.1629176721.1629176721</td>\n      <td>2.108366e+09</td>\n      <td>2021-08-17</td>\n      <td>08:00:00</td>\n      <td>1</td>\n      <td>PlbkrSYoHuZBWfYjYnfw</td>\n      <td>cpm</td>\n      <td>FTjNLDyTrXaWYgZymFkV</td>\n      <td>TuyPWsGQruPMpKvRxeBF</td>\n      <td>NaN</td>\n      <td>desktop</td>\n      <td>NaN</td>\n      <td>NaN</td>\n      <td>NaN</td>\n      <td>1920x1080</td>\n      <td>Chrome</td>\n      <td>Russia</td>\n      <td>(not set)</td>\n      <td>0</td>\n    </tr>\n    <tr>\n      <th>1732254</th>\n      <td>9055376699099939975.1630766214.1630766214</td>\n      <td>2.108369e+09</td>\n      <td>2021-09-04</td>\n      <td>17:00:00</td>\n      <td>1</td>\n      <td>fDLlAcSmythWSCVMvqvL</td>\n      <td>(none)</td>\n      <td>LTuZkdKfxRGVceoWkVyg</td>\n      <td>JNHcPlZPxEMWDnRiyoBf</td>\n      <td>NaN</td>\n      <td>desktop</td>\n      <td>NaN</td>\n      <td>NaN</td>\n      <td>NaN</td>\n      <td>1920x1080</td>\n      <td>Chrome</td>\n      <td>Russia</td>\n      <td>Khimki</td>\n      <td>1</td>\n    </tr>\n  </tbody>\n</table>\n<p>236704 rows × 19 columns</p>\n</div>"
     },
     "execution_count": 38,
     "metadata": {},
     "output_type": "execute_result"
    }
   ],
   "source": [
    "com_df[(com_df['device_brand'].isna()) & (com_df['device_os'].isna()) & (com_df['device_category'] == 'desktop')]"
   ]
  },
  {
   "cell_type": "code",
   "execution_count": 39,
   "metadata": {},
   "outputs": [],
   "source": [
    "com_df.loc[(com_df['device_brand'].isna()) & (com_df['device_os'].isna()) & (com_df['device_category'] == 'desktop'), 'device_os'] = 'Windows'"
   ]
  },
  {
   "cell_type": "code",
   "execution_count": 40,
   "metadata": {},
   "outputs": [
    {
     "data": {
      "text/plain": "                                        session_id     client_id  visit_date  \\\n61       9055657327967035032.1629707931.1629707931  2.108435e+09  2021-08-23   \n62        905565977351442956.1622561294.1622561294  2.108435e+08  2021-06-01   \n71       9055788191321875859.1626006934.1626006934  2.108465e+09  2021-07-11   \n72       9055788191321875859.1627377569.1627377569  2.108465e+09  2021-07-27   \n76       9055794766915104430.1624305327.1624305327  2.108467e+09  2021-06-21   \n...                                            ...           ...         ...   \n1732246  9055343778173115129.1628265209.1628265209  2.108362e+09  2021-08-06   \n1732247  9055345397369530035.1622009529.1622009529  2.108362e+09  2021-05-26   \n1732252  9055363711117247375.1629176721.1629176721  2.108366e+09  2021-08-17   \n1732254  9055376699099939975.1630766214.1630766214  2.108369e+09  2021-09-04   \n1732265  9055430416266113553.1640968742.1640968742  2.108382e+09  2021-12-31   \n\n        visit_time  visit_number            utm_source utm_medium  \\\n61        11:00:00             1  nSReTmyFtbSjlPrTKoaX     banner   \n62        18:00:00             1  fDLlAcSmythWSCVMvqvL     (none)   \n71        15:00:00             1  fDLlAcSmythWSCVMvqvL     (none)   \n72        12:00:00             2  kjsLglQLzykiRbcDiGcD        cpc   \n76        22:00:00             1  BHcvLfOaCWvWTykYqHVe        cpc   \n...            ...           ...                   ...        ...   \n1732246   18:00:00             1  kjsLglQLzykiRbcDiGcD    organic   \n1732247   09:00:00             1  fDLlAcSmythWSCVMvqvL     (none)   \n1732252   08:00:00             1  PlbkrSYoHuZBWfYjYnfw        cpm   \n1732254   17:00:00             1  fDLlAcSmythWSCVMvqvL     (none)   \n1732265   19:39:02             1  fgymSoTvjKPEgaIJqsiH        cpm   \n\n                 utm_campaign         utm_adcontent           utm_keyword  \\\n61       BVKxkCOHKUOvkpbrLMgZ  JNHcPlZPxEMWDnRiyoBf                   NaN   \n62       LTuZkdKfxRGVceoWkVyg  JNHcPlZPxEMWDnRiyoBf                   NaN   \n71       LTuZkdKfxRGVceoWkVyg  JNHcPlZPxEMWDnRiyoBf                   NaN   \n72       nSReTmyFtbSjlPrTKoaX  JNHcPlZPxEMWDnRiyoBf                   NaN   \n76                        NaN                   NaN                   NaN   \n...                       ...                   ...                   ...   \n1732246  LTuZkdKfxRGVceoWkVyg  JNHcPlZPxEMWDnRiyoBf                   NaN   \n1732247  LTuZkdKfxRGVceoWkVyg  JNHcPlZPxEMWDnRiyoBf                   NaN   \n1732252  FTjNLDyTrXaWYgZymFkV  TuyPWsGQruPMpKvRxeBF                   NaN   \n1732254  LTuZkdKfxRGVceoWkVyg  JNHcPlZPxEMWDnRiyoBf                   NaN   \n1732265  FTjNLDyTrXaWYgZymFkV  yYdBRbPmBMUZHXwqGxNx  oKjXDUsycmahkgMhGdAR   \n\n        device_category device_os device_brand device_model  \\\n61              desktop   Windows          NaN          NaN   \n62              desktop   Windows          NaN          NaN   \n71              desktop   Windows          NaN          NaN   \n72              desktop   Windows          NaN          NaN   \n76              desktop   Windows          NaN          NaN   \n...                 ...       ...          ...          ...   \n1732246         desktop   Windows          NaN          NaN   \n1732247         desktop   Windows          NaN          NaN   \n1732252         desktop   Windows          NaN          NaN   \n1732254         desktop   Windows          NaN          NaN   \n1732265         desktop     Linux          NaN          NaN   \n\n        device_screen_resolution device_browser geo_country    geo_city  \\\n61                     1920x1080      YaBrowser      Russia      Moscow   \n62                     1920x1080         Chrome      Russia      Moscow   \n71                      1280x720         Chrome      Russia      Moscow   \n72                     1920x1080         Chrome      Russia      Moscow   \n76                      834x1112         Safari      Russia  Domodedovo   \n...                          ...            ...         ...         ...   \n1732246                1920x1080        Firefox      Russia      Moscow   \n1732247                 1536x864        Firefox      Russia   (not set)   \n1732252                1920x1080         Chrome      Russia   (not set)   \n1732254                1920x1080         Chrome      Russia      Khimki   \n1732265                 1366x768         Chrome      Russia      Moscow   \n\n         target_action  \n61                   0  \n62                   0  \n71                   0  \n72                   0  \n76                   1  \n...                ...  \n1732246              0  \n1732247              0  \n1732252              0  \n1732254              1  \n1732265              0  \n\n[265102 rows x 19 columns]",
      "text/html": "<div>\n<style scoped>\n    .dataframe tbody tr th:only-of-type {\n        vertical-align: middle;\n    }\n\n    .dataframe tbody tr th {\n        vertical-align: top;\n    }\n\n    .dataframe thead th {\n        text-align: right;\n    }\n</style>\n<table border=\"1\" class=\"dataframe\">\n  <thead>\n    <tr style=\"text-align: right;\">\n      <th></th>\n      <th>session_id</th>\n      <th>client_id</th>\n      <th>visit_date</th>\n      <th>visit_time</th>\n      <th>visit_number</th>\n      <th>utm_source</th>\n      <th>utm_medium</th>\n      <th>utm_campaign</th>\n      <th>utm_adcontent</th>\n      <th>utm_keyword</th>\n      <th>device_category</th>\n      <th>device_os</th>\n      <th>device_brand</th>\n      <th>device_model</th>\n      <th>device_screen_resolution</th>\n      <th>device_browser</th>\n      <th>geo_country</th>\n      <th>geo_city</th>\n      <th>target_action</th>\n    </tr>\n  </thead>\n  <tbody>\n    <tr>\n      <th>61</th>\n      <td>9055657327967035032.1629707931.1629707931</td>\n      <td>2.108435e+09</td>\n      <td>2021-08-23</td>\n      <td>11:00:00</td>\n      <td>1</td>\n      <td>nSReTmyFtbSjlPrTKoaX</td>\n      <td>banner</td>\n      <td>BVKxkCOHKUOvkpbrLMgZ</td>\n      <td>JNHcPlZPxEMWDnRiyoBf</td>\n      <td>NaN</td>\n      <td>desktop</td>\n      <td>Windows</td>\n      <td>NaN</td>\n      <td>NaN</td>\n      <td>1920x1080</td>\n      <td>YaBrowser</td>\n      <td>Russia</td>\n      <td>Moscow</td>\n      <td>0</td>\n    </tr>\n    <tr>\n      <th>62</th>\n      <td>905565977351442956.1622561294.1622561294</td>\n      <td>2.108435e+08</td>\n      <td>2021-06-01</td>\n      <td>18:00:00</td>\n      <td>1</td>\n      <td>fDLlAcSmythWSCVMvqvL</td>\n      <td>(none)</td>\n      <td>LTuZkdKfxRGVceoWkVyg</td>\n      <td>JNHcPlZPxEMWDnRiyoBf</td>\n      <td>NaN</td>\n      <td>desktop</td>\n      <td>Windows</td>\n      <td>NaN</td>\n      <td>NaN</td>\n      <td>1920x1080</td>\n      <td>Chrome</td>\n      <td>Russia</td>\n      <td>Moscow</td>\n      <td>0</td>\n    </tr>\n    <tr>\n      <th>71</th>\n      <td>9055788191321875859.1626006934.1626006934</td>\n      <td>2.108465e+09</td>\n      <td>2021-07-11</td>\n      <td>15:00:00</td>\n      <td>1</td>\n      <td>fDLlAcSmythWSCVMvqvL</td>\n      <td>(none)</td>\n      <td>LTuZkdKfxRGVceoWkVyg</td>\n      <td>JNHcPlZPxEMWDnRiyoBf</td>\n      <td>NaN</td>\n      <td>desktop</td>\n      <td>Windows</td>\n      <td>NaN</td>\n      <td>NaN</td>\n      <td>1280x720</td>\n      <td>Chrome</td>\n      <td>Russia</td>\n      <td>Moscow</td>\n      <td>0</td>\n    </tr>\n    <tr>\n      <th>72</th>\n      <td>9055788191321875859.1627377569.1627377569</td>\n      <td>2.108465e+09</td>\n      <td>2021-07-27</td>\n      <td>12:00:00</td>\n      <td>2</td>\n      <td>kjsLglQLzykiRbcDiGcD</td>\n      <td>cpc</td>\n      <td>nSReTmyFtbSjlPrTKoaX</td>\n      <td>JNHcPlZPxEMWDnRiyoBf</td>\n      <td>NaN</td>\n      <td>desktop</td>\n      <td>Windows</td>\n      <td>NaN</td>\n      <td>NaN</td>\n      <td>1920x1080</td>\n      <td>Chrome</td>\n      <td>Russia</td>\n      <td>Moscow</td>\n      <td>0</td>\n    </tr>\n    <tr>\n      <th>76</th>\n      <td>9055794766915104430.1624305327.1624305327</td>\n      <td>2.108467e+09</td>\n      <td>2021-06-21</td>\n      <td>22:00:00</td>\n      <td>1</td>\n      <td>BHcvLfOaCWvWTykYqHVe</td>\n      <td>cpc</td>\n      <td>NaN</td>\n      <td>NaN</td>\n      <td>NaN</td>\n      <td>desktop</td>\n      <td>Windows</td>\n      <td>NaN</td>\n      <td>NaN</td>\n      <td>834x1112</td>\n      <td>Safari</td>\n      <td>Russia</td>\n      <td>Domodedovo</td>\n      <td>1</td>\n    </tr>\n    <tr>\n      <th>...</th>\n      <td>...</td>\n      <td>...</td>\n      <td>...</td>\n      <td>...</td>\n      <td>...</td>\n      <td>...</td>\n      <td>...</td>\n      <td>...</td>\n      <td>...</td>\n      <td>...</td>\n      <td>...</td>\n      <td>...</td>\n      <td>...</td>\n      <td>...</td>\n      <td>...</td>\n      <td>...</td>\n      <td>...</td>\n      <td>...</td>\n      <td>...</td>\n    </tr>\n    <tr>\n      <th>1732246</th>\n      <td>9055343778173115129.1628265209.1628265209</td>\n      <td>2.108362e+09</td>\n      <td>2021-08-06</td>\n      <td>18:00:00</td>\n      <td>1</td>\n      <td>kjsLglQLzykiRbcDiGcD</td>\n      <td>organic</td>\n      <td>LTuZkdKfxRGVceoWkVyg</td>\n      <td>JNHcPlZPxEMWDnRiyoBf</td>\n      <td>NaN</td>\n      <td>desktop</td>\n      <td>Windows</td>\n      <td>NaN</td>\n      <td>NaN</td>\n      <td>1920x1080</td>\n      <td>Firefox</td>\n      <td>Russia</td>\n      <td>Moscow</td>\n      <td>0</td>\n    </tr>\n    <tr>\n      <th>1732247</th>\n      <td>9055345397369530035.1622009529.1622009529</td>\n      <td>2.108362e+09</td>\n      <td>2021-05-26</td>\n      <td>09:00:00</td>\n      <td>1</td>\n      <td>fDLlAcSmythWSCVMvqvL</td>\n      <td>(none)</td>\n      <td>LTuZkdKfxRGVceoWkVyg</td>\n      <td>JNHcPlZPxEMWDnRiyoBf</td>\n      <td>NaN</td>\n      <td>desktop</td>\n      <td>Windows</td>\n      <td>NaN</td>\n      <td>NaN</td>\n      <td>1536x864</td>\n      <td>Firefox</td>\n      <td>Russia</td>\n      <td>(not set)</td>\n      <td>0</td>\n    </tr>\n    <tr>\n      <th>1732252</th>\n      <td>9055363711117247375.1629176721.1629176721</td>\n      <td>2.108366e+09</td>\n      <td>2021-08-17</td>\n      <td>08:00:00</td>\n      <td>1</td>\n      <td>PlbkrSYoHuZBWfYjYnfw</td>\n      <td>cpm</td>\n      <td>FTjNLDyTrXaWYgZymFkV</td>\n      <td>TuyPWsGQruPMpKvRxeBF</td>\n      <td>NaN</td>\n      <td>desktop</td>\n      <td>Windows</td>\n      <td>NaN</td>\n      <td>NaN</td>\n      <td>1920x1080</td>\n      <td>Chrome</td>\n      <td>Russia</td>\n      <td>(not set)</td>\n      <td>0</td>\n    </tr>\n    <tr>\n      <th>1732254</th>\n      <td>9055376699099939975.1630766214.1630766214</td>\n      <td>2.108369e+09</td>\n      <td>2021-09-04</td>\n      <td>17:00:00</td>\n      <td>1</td>\n      <td>fDLlAcSmythWSCVMvqvL</td>\n      <td>(none)</td>\n      <td>LTuZkdKfxRGVceoWkVyg</td>\n      <td>JNHcPlZPxEMWDnRiyoBf</td>\n      <td>NaN</td>\n      <td>desktop</td>\n      <td>Windows</td>\n      <td>NaN</td>\n      <td>NaN</td>\n      <td>1920x1080</td>\n      <td>Chrome</td>\n      <td>Russia</td>\n      <td>Khimki</td>\n      <td>1</td>\n    </tr>\n    <tr>\n      <th>1732265</th>\n      <td>9055430416266113553.1640968742.1640968742</td>\n      <td>2.108382e+09</td>\n      <td>2021-12-31</td>\n      <td>19:39:02</td>\n      <td>1</td>\n      <td>fgymSoTvjKPEgaIJqsiH</td>\n      <td>cpm</td>\n      <td>FTjNLDyTrXaWYgZymFkV</td>\n      <td>yYdBRbPmBMUZHXwqGxNx</td>\n      <td>oKjXDUsycmahkgMhGdAR</td>\n      <td>desktop</td>\n      <td>Linux</td>\n      <td>NaN</td>\n      <td>NaN</td>\n      <td>1366x768</td>\n      <td>Chrome</td>\n      <td>Russia</td>\n      <td>Moscow</td>\n      <td>0</td>\n    </tr>\n  </tbody>\n</table>\n<p>265102 rows × 19 columns</p>\n</div>"
     },
     "execution_count": 40,
     "metadata": {},
     "output_type": "execute_result"
    }
   ],
   "source": [
    "com_df[(com_df['device_brand'].isna()) & (com_df['device_os'].notna())]"
   ]
  },
  {
   "cell_type": "code",
   "execution_count": 41,
   "metadata": {},
   "outputs": [],
   "source": [
    "com_df.loc[(com_df['device_brand'].isna()) & (com_df['device_os'] == 'Macintosh'), 'device_brand'] = 'Apple'"
   ]
  },
  {
   "cell_type": "code",
   "execution_count": 42,
   "metadata": {},
   "outputs": [],
   "source": [
    "com_df.loc[(com_df['device_brand'].isna()) & (com_df['device_os'] == '(not set)') & (com_df['device_category'] == 'desktop'), 'device_brand'] = 'other_brand'"
   ]
  },
  {
   "cell_type": "code",
   "execution_count": 43,
   "metadata": {},
   "outputs": [],
   "source": [
    "com_df.loc[(com_df['device_brand'].isna()) & (com_df['device_os'] == 'Chrome OS') & (com_df['device_category'] == 'desktop'), 'device_brand'] = 'other_brand'"
   ]
  },
  {
   "cell_type": "code",
   "execution_count": 44,
   "metadata": {},
   "outputs": [
    {
     "data": {
      "text/plain": "                                        session_id     client_id  visit_date  \\\n52       9055627555247652641.1623621462.1623621462  2.108428e+09  2021-06-14   \n80       9055834796008808950.1622811129.1622811129  2.108476e+09  2021-06-04   \n83       9055848638691110934.1625518111.1625518111  2.108479e+09  2021-07-05   \n122      9056013556852379550.1632554912.1632554912  2.108517e+09  2021-09-25   \n165       905625488421903154.1626168114.1626168114  2.108574e+08  2021-07-13   \n...                                            ...           ...         ...   \n1732183  9055095340088981199.1632401048.1632401048  2.108304e+09  2021-09-23   \n1732211  9055214413762615190.1632720617.1632720617  2.108331e+09  2021-09-27   \n1732212  9055214413762615190.1632723136.1632723136  2.108331e+09  2021-09-27   \n1732216  9055219700864907993.1630272218.1630272218  2.108333e+09  2021-08-30   \n1732249  9055349030922605117.1632752193.1632752193  2.108363e+09  2021-09-27   \n\n        visit_time  visit_number            utm_source utm_medium  \\\n52        00:00:00             1  ZpYIoDJMcFzVoPFsHGJL     banner   \n80        15:00:00             1  fDLlAcSmythWSCVMvqvL     (none)   \n83        23:00:00             1  MvfHsxITijuriZxsqZqt        cpm   \n122       10:00:00             1  RmEBuqrriAfAVsLQQmhk        cpc   \n165       12:00:00             1  fDLlAcSmythWSCVMvqvL     (none)   \n...            ...           ...                   ...        ...   \n1732183   15:00:00             1  MvfHsxITijuriZxsqZqt        cpm   \n1732211   08:00:00             1  kjsLglQLzykiRbcDiGcD        cpc   \n1732212   09:00:00             2  kjsLglQLzykiRbcDiGcD        cpc   \n1732216   00:00:00             1  ISrKoXQCxqqYvAZICvjs       post   \n1732249   17:00:00             1  MvfHsxITijuriZxsqZqt        cpm   \n\n                 utm_campaign         utm_adcontent utm_keyword  \\\n52       LEoPHuyFvzoNfnzGgfcd  JNHcPlZPxEMWDnRiyoBf         NaN   \n80       LTuZkdKfxRGVceoWkVyg  JNHcPlZPxEMWDnRiyoBf         NaN   \n83       FTjNLDyTrXaWYgZymFkV  dUuXlWzvmhDSyclWRhNP         NaN   \n122      VBmazutCflYumtDHrQYe  JNHcPlZPxEMWDnRiyoBf         NaN   \n165      LTuZkdKfxRGVceoWkVyg  JNHcPlZPxEMWDnRiyoBf         NaN   \n...                       ...                   ...         ...   \n1732183  FTjNLDyTrXaWYgZymFkV  PkybGvWbaqORmxjNunqZ         NaN   \n1732211  LwJZxKuWmvOhPsaCeRjG                   NaN         NaN   \n1732212  LwJZxKuWmvOhPsaCeRjG                   NaN         NaN   \n1732216  ESphyUeLTPINiYALHWrO  JNHcPlZPxEMWDnRiyoBf         NaN   \n1732249  FTjNLDyTrXaWYgZymFkV  PkybGvWbaqORmxjNunqZ         NaN   \n\n        device_category device_os device_brand device_model  \\\n52               mobile       NaN         Vivo          NaN   \n80               mobile       NaN    (not set)          NaN   \n83               mobile       NaN           BQ          NaN   \n122              mobile       NaN    (not set)          NaN   \n165              mobile       NaN      OnePlus          NaN   \n...                 ...       ...          ...          ...   \n1732183          mobile       NaN       Lenovo          NaN   \n1732211          mobile       NaN         Vivo          NaN   \n1732212          mobile       NaN         Vivo          NaN   \n1732216          mobile       NaN         Sony          NaN   \n1732249          mobile       NaN           BQ          NaN   \n\n        device_screen_resolution   device_browser geo_country  \\\n52                       393x873           Chrome      Russia   \n80                       360x640           Chrome      Russia   \n83                       360x760           Chrome      Russia   \n122                      342x741          Firefox      Russia   \n165                      385x833           Chrome      Russia   \n...                          ...              ...         ...   \n1732183                  347x791           Chrome      Russia   \n1732211                  393x876           Chrome      Russia   \n1732212                  393x876           Chrome      Russia   \n1732216                  360x640  Android Webview      Russia   \n1732249                  640x360        YaBrowser      Russia   \n\n                 geo_city  target_action  \n52                  Kazan              0  \n80            Chelyabinsk              0  \n83       Saint Petersburg              0  \n122                 Kazan              0  \n165                Moscow              0  \n...                   ...            ...  \n1732183  Saint Petersburg              0  \n1732211            Khimki              0  \n1732212            Khimki              0  \n1732216            Moscow              0  \n1732249  Saint Petersburg              0  \n\n[64690 rows x 19 columns]",
      "text/html": "<div>\n<style scoped>\n    .dataframe tbody tr th:only-of-type {\n        vertical-align: middle;\n    }\n\n    .dataframe tbody tr th {\n        vertical-align: top;\n    }\n\n    .dataframe thead th {\n        text-align: right;\n    }\n</style>\n<table border=\"1\" class=\"dataframe\">\n  <thead>\n    <tr style=\"text-align: right;\">\n      <th></th>\n      <th>session_id</th>\n      <th>client_id</th>\n      <th>visit_date</th>\n      <th>visit_time</th>\n      <th>visit_number</th>\n      <th>utm_source</th>\n      <th>utm_medium</th>\n      <th>utm_campaign</th>\n      <th>utm_adcontent</th>\n      <th>utm_keyword</th>\n      <th>device_category</th>\n      <th>device_os</th>\n      <th>device_brand</th>\n      <th>device_model</th>\n      <th>device_screen_resolution</th>\n      <th>device_browser</th>\n      <th>geo_country</th>\n      <th>geo_city</th>\n      <th>target_action</th>\n    </tr>\n  </thead>\n  <tbody>\n    <tr>\n      <th>52</th>\n      <td>9055627555247652641.1623621462.1623621462</td>\n      <td>2.108428e+09</td>\n      <td>2021-06-14</td>\n      <td>00:00:00</td>\n      <td>1</td>\n      <td>ZpYIoDJMcFzVoPFsHGJL</td>\n      <td>banner</td>\n      <td>LEoPHuyFvzoNfnzGgfcd</td>\n      <td>JNHcPlZPxEMWDnRiyoBf</td>\n      <td>NaN</td>\n      <td>mobile</td>\n      <td>NaN</td>\n      <td>Vivo</td>\n      <td>NaN</td>\n      <td>393x873</td>\n      <td>Chrome</td>\n      <td>Russia</td>\n      <td>Kazan</td>\n      <td>0</td>\n    </tr>\n    <tr>\n      <th>80</th>\n      <td>9055834796008808950.1622811129.1622811129</td>\n      <td>2.108476e+09</td>\n      <td>2021-06-04</td>\n      <td>15:00:00</td>\n      <td>1</td>\n      <td>fDLlAcSmythWSCVMvqvL</td>\n      <td>(none)</td>\n      <td>LTuZkdKfxRGVceoWkVyg</td>\n      <td>JNHcPlZPxEMWDnRiyoBf</td>\n      <td>NaN</td>\n      <td>mobile</td>\n      <td>NaN</td>\n      <td>(not set)</td>\n      <td>NaN</td>\n      <td>360x640</td>\n      <td>Chrome</td>\n      <td>Russia</td>\n      <td>Chelyabinsk</td>\n      <td>0</td>\n    </tr>\n    <tr>\n      <th>83</th>\n      <td>9055848638691110934.1625518111.1625518111</td>\n      <td>2.108479e+09</td>\n      <td>2021-07-05</td>\n      <td>23:00:00</td>\n      <td>1</td>\n      <td>MvfHsxITijuriZxsqZqt</td>\n      <td>cpm</td>\n      <td>FTjNLDyTrXaWYgZymFkV</td>\n      <td>dUuXlWzvmhDSyclWRhNP</td>\n      <td>NaN</td>\n      <td>mobile</td>\n      <td>NaN</td>\n      <td>BQ</td>\n      <td>NaN</td>\n      <td>360x760</td>\n      <td>Chrome</td>\n      <td>Russia</td>\n      <td>Saint Petersburg</td>\n      <td>0</td>\n    </tr>\n    <tr>\n      <th>122</th>\n      <td>9056013556852379550.1632554912.1632554912</td>\n      <td>2.108517e+09</td>\n      <td>2021-09-25</td>\n      <td>10:00:00</td>\n      <td>1</td>\n      <td>RmEBuqrriAfAVsLQQmhk</td>\n      <td>cpc</td>\n      <td>VBmazutCflYumtDHrQYe</td>\n      <td>JNHcPlZPxEMWDnRiyoBf</td>\n      <td>NaN</td>\n      <td>mobile</td>\n      <td>NaN</td>\n      <td>(not set)</td>\n      <td>NaN</td>\n      <td>342x741</td>\n      <td>Firefox</td>\n      <td>Russia</td>\n      <td>Kazan</td>\n      <td>0</td>\n    </tr>\n    <tr>\n      <th>165</th>\n      <td>905625488421903154.1626168114.1626168114</td>\n      <td>2.108574e+08</td>\n      <td>2021-07-13</td>\n      <td>12:00:00</td>\n      <td>1</td>\n      <td>fDLlAcSmythWSCVMvqvL</td>\n      <td>(none)</td>\n      <td>LTuZkdKfxRGVceoWkVyg</td>\n      <td>JNHcPlZPxEMWDnRiyoBf</td>\n      <td>NaN</td>\n      <td>mobile</td>\n      <td>NaN</td>\n      <td>OnePlus</td>\n      <td>NaN</td>\n      <td>385x833</td>\n      <td>Chrome</td>\n      <td>Russia</td>\n      <td>Moscow</td>\n      <td>0</td>\n    </tr>\n    <tr>\n      <th>...</th>\n      <td>...</td>\n      <td>...</td>\n      <td>...</td>\n      <td>...</td>\n      <td>...</td>\n      <td>...</td>\n      <td>...</td>\n      <td>...</td>\n      <td>...</td>\n      <td>...</td>\n      <td>...</td>\n      <td>...</td>\n      <td>...</td>\n      <td>...</td>\n      <td>...</td>\n      <td>...</td>\n      <td>...</td>\n      <td>...</td>\n      <td>...</td>\n    </tr>\n    <tr>\n      <th>1732183</th>\n      <td>9055095340088981199.1632401048.1632401048</td>\n      <td>2.108304e+09</td>\n      <td>2021-09-23</td>\n      <td>15:00:00</td>\n      <td>1</td>\n      <td>MvfHsxITijuriZxsqZqt</td>\n      <td>cpm</td>\n      <td>FTjNLDyTrXaWYgZymFkV</td>\n      <td>PkybGvWbaqORmxjNunqZ</td>\n      <td>NaN</td>\n      <td>mobile</td>\n      <td>NaN</td>\n      <td>Lenovo</td>\n      <td>NaN</td>\n      <td>347x791</td>\n      <td>Chrome</td>\n      <td>Russia</td>\n      <td>Saint Petersburg</td>\n      <td>0</td>\n    </tr>\n    <tr>\n      <th>1732211</th>\n      <td>9055214413762615190.1632720617.1632720617</td>\n      <td>2.108331e+09</td>\n      <td>2021-09-27</td>\n      <td>08:00:00</td>\n      <td>1</td>\n      <td>kjsLglQLzykiRbcDiGcD</td>\n      <td>cpc</td>\n      <td>LwJZxKuWmvOhPsaCeRjG</td>\n      <td>NaN</td>\n      <td>NaN</td>\n      <td>mobile</td>\n      <td>NaN</td>\n      <td>Vivo</td>\n      <td>NaN</td>\n      <td>393x876</td>\n      <td>Chrome</td>\n      <td>Russia</td>\n      <td>Khimki</td>\n      <td>0</td>\n    </tr>\n    <tr>\n      <th>1732212</th>\n      <td>9055214413762615190.1632723136.1632723136</td>\n      <td>2.108331e+09</td>\n      <td>2021-09-27</td>\n      <td>09:00:00</td>\n      <td>2</td>\n      <td>kjsLglQLzykiRbcDiGcD</td>\n      <td>cpc</td>\n      <td>LwJZxKuWmvOhPsaCeRjG</td>\n      <td>NaN</td>\n      <td>NaN</td>\n      <td>mobile</td>\n      <td>NaN</td>\n      <td>Vivo</td>\n      <td>NaN</td>\n      <td>393x876</td>\n      <td>Chrome</td>\n      <td>Russia</td>\n      <td>Khimki</td>\n      <td>0</td>\n    </tr>\n    <tr>\n      <th>1732216</th>\n      <td>9055219700864907993.1630272218.1630272218</td>\n      <td>2.108333e+09</td>\n      <td>2021-08-30</td>\n      <td>00:00:00</td>\n      <td>1</td>\n      <td>ISrKoXQCxqqYvAZICvjs</td>\n      <td>post</td>\n      <td>ESphyUeLTPINiYALHWrO</td>\n      <td>JNHcPlZPxEMWDnRiyoBf</td>\n      <td>NaN</td>\n      <td>mobile</td>\n      <td>NaN</td>\n      <td>Sony</td>\n      <td>NaN</td>\n      <td>360x640</td>\n      <td>Android Webview</td>\n      <td>Russia</td>\n      <td>Moscow</td>\n      <td>0</td>\n    </tr>\n    <tr>\n      <th>1732249</th>\n      <td>9055349030922605117.1632752193.1632752193</td>\n      <td>2.108363e+09</td>\n      <td>2021-09-27</td>\n      <td>17:00:00</td>\n      <td>1</td>\n      <td>MvfHsxITijuriZxsqZqt</td>\n      <td>cpm</td>\n      <td>FTjNLDyTrXaWYgZymFkV</td>\n      <td>PkybGvWbaqORmxjNunqZ</td>\n      <td>NaN</td>\n      <td>mobile</td>\n      <td>NaN</td>\n      <td>BQ</td>\n      <td>NaN</td>\n      <td>640x360</td>\n      <td>YaBrowser</td>\n      <td>Russia</td>\n      <td>Saint Petersburg</td>\n      <td>0</td>\n    </tr>\n  </tbody>\n</table>\n<p>64690 rows × 19 columns</p>\n</div>"
     },
     "execution_count": 44,
     "metadata": {},
     "output_type": "execute_result"
    }
   ],
   "source": [
    "com_df[(com_df['device_brand'].notna()) & (com_df['device_os'].isna())]"
   ]
  },
  {
   "cell_type": "code",
   "execution_count": 45,
   "metadata": {},
   "outputs": [],
   "source": [
    "com_df.loc[(com_df['device_brand'].notna()) & (com_df['device_os'] == '(not set)') & (com_df['device_category'] == 'mobile'), 'device_os'] = 'Android'"
   ]
  },
  {
   "cell_type": "code",
   "execution_count": 46,
   "metadata": {},
   "outputs": [],
   "source": [
    "com_df.loc[(com_df['device_brand'].notna()) & (com_df['device_os'].isna()) & (com_df['device_category'] == 'mobile'), 'device_os'] = 'Android'"
   ]
  },
  {
   "cell_type": "code",
   "execution_count": 47,
   "metadata": {},
   "outputs": [],
   "source": [
    "com_df.loc[(com_df['device_brand'].notna()) & (com_df['device_os'].isna()) & (com_df['device_category'] == 'tablet'), 'device_os'] = 'Android'"
   ]
  },
  {
   "cell_type": "code",
   "execution_count": 48,
   "metadata": {},
   "outputs": [],
   "source": [
    "com_df.loc[(com_df['device_brand'].notna()) & (com_df['device_os'].isna()) & (com_df['device_category'] == 'desktop'), 'device_os'] = 'Windows'"
   ]
  },
  {
   "cell_type": "code",
   "execution_count": 49,
   "metadata": {},
   "outputs": [
    {
     "data": {
      "text/plain": "354"
     },
     "execution_count": 49,
     "metadata": {},
     "output_type": "execute_result"
    }
   ],
   "source": [
    "notset_data = com_df[(com_df['device_brand'].isna()) & (com_df['device_os'].isna())]\n",
    "len(notset_data)"
   ]
  },
  {
   "cell_type": "markdown",
   "metadata": {},
   "source": [
    "Удалил где бренд и ос пустые"
   ]
  },
  {
   "cell_type": "code",
   "execution_count": 50,
   "metadata": {},
   "outputs": [],
   "source": [
    "# com_df = com_df[(com_df['device_brand'].notna()) & (com_df['device_os'].notna())]"
   ]
  },
  {
   "cell_type": "code",
   "execution_count": 51,
   "metadata": {},
   "outputs": [
    {
     "data": {
      "text/plain": "Empty DataFrame\nColumns: [session_id, client_id, visit_date, visit_time, visit_number, utm_source, utm_medium, utm_campaign, utm_adcontent, utm_keyword, device_category, device_os, device_brand, device_model, device_screen_resolution, device_browser, geo_country, geo_city, target_action]\nIndex: []",
      "text/html": "<div>\n<style scoped>\n    .dataframe tbody tr th:only-of-type {\n        vertical-align: middle;\n    }\n\n    .dataframe tbody tr th {\n        vertical-align: top;\n    }\n\n    .dataframe thead th {\n        text-align: right;\n    }\n</style>\n<table border=\"1\" class=\"dataframe\">\n  <thead>\n    <tr style=\"text-align: right;\">\n      <th></th>\n      <th>session_id</th>\n      <th>client_id</th>\n      <th>visit_date</th>\n      <th>visit_time</th>\n      <th>visit_number</th>\n      <th>utm_source</th>\n      <th>utm_medium</th>\n      <th>utm_campaign</th>\n      <th>utm_adcontent</th>\n      <th>utm_keyword</th>\n      <th>device_category</th>\n      <th>device_os</th>\n      <th>device_brand</th>\n      <th>device_model</th>\n      <th>device_screen_resolution</th>\n      <th>device_browser</th>\n      <th>geo_country</th>\n      <th>geo_city</th>\n      <th>target_action</th>\n    </tr>\n  </thead>\n  <tbody>\n  </tbody>\n</table>\n</div>"
     },
     "execution_count": 51,
     "metadata": {},
     "output_type": "execute_result"
    }
   ],
   "source": [
    "com_df[(com_df['device_brand'].notna()) & (com_df['device_os'].isna())]"
   ]
  },
  {
   "cell_type": "code",
   "execution_count": 52,
   "metadata": {},
   "outputs": [],
   "source": [
    "com_df.loc[(com_df['device_brand'].notna()) & (com_df['device_os'].isna()), 'device_os'] = 'Android'"
   ]
  },
  {
   "cell_type": "code",
   "execution_count": 53,
   "metadata": {},
   "outputs": [
    {
     "data": {
      "text/plain": "device_os\nAndroid          881466\niOS              503499\nWindows          318470\nMacintosh         23454\nLinux              4616\nNaN                 354\n(not set)           302\nChrome OS            65\nBlackBerry           24\nTizen                 7\nFirefox OS            3\nNokia                 2\nSamsung               2\nWindows Phone         2\nName: count, dtype: int64"
     },
     "execution_count": 53,
     "metadata": {},
     "output_type": "execute_result"
    }
   ],
   "source": [
    "com_df['device_os'].value_counts(dropna=False)"
   ]
  },
  {
   "cell_type": "code",
   "execution_count": 54,
   "metadata": {},
   "outputs": [
    {
     "data": {
      "text/plain": "device_brand\nApple       526948\nSamsung     311641\nXiaomi      269251\nNaN         241674\nHuawei      173828\n             ...  \nTesla            1\nVodafone         1\nWexler           1\nSmarteo          1\nMaxvi            1\nName: count, Length: 202, dtype: int64"
     },
     "execution_count": 54,
     "metadata": {},
     "output_type": "execute_result"
    }
   ],
   "source": [
    "com_df['device_brand'].value_counts(dropna=False)"
   ]
  },
  {
   "cell_type": "code",
   "execution_count": 57,
   "metadata": {},
   "outputs": [
    {
     "data": {
      "text/plain": "device_os\nAndroid      881466\niOS          503499\nWindows      318470\nMacintosh     23454\nLinux          4616\nother_os        761\nName: count, dtype: int64"
     },
     "execution_count": 55,
     "metadata": {},
     "output_type": "execute_result"
    },
    {
     "data": {
      "text/plain": "device_os\nAndroid      881466\niOS          503499\nWindows      318470\nMacintosh     23454\nLinux          4616\nother_os        761\nName: count, dtype: int64"
     },
     "execution_count": 57,
     "metadata": {},
     "output_type": "execute_result"
    }
   ],
   "source": [
    "basic_os = [\n",
    "    'Android',\n",
    "    'iOS',\n",
    "    'Windows',\n",
    "    'Macintosh',\n",
    "    'Linux',\n",
    "    'other_os'\n",
    "]\n",
    "\n",
    "other_os_list = [i_os for i_os in com_df['device_os'].values if i_os not in basic_os]\n",
    "other_os_list\n",
    "com_df['device_os'] = com_df['device_os'].replace(other_os_list, 'other_os')\n",
    "com_df['device_os'].value_counts(dropna=False)"
   ]
  },
  {
   "cell_type": "code",
   "execution_count": 56,
   "metadata": {},
   "outputs": [
    {
     "data": {
      "text/plain": "                                        session_id     client_id  visit_date  \\\n215       905648595358313255.1638525736.1638525736  2.108627e+08  2021-12-03   \n216       905648595358313255.1638525739.1638525739  2.108627e+08  2021-12-03   \n469      9057620093667786277.1635925543.1635925543  2.108892e+09  2021-11-03   \n470      9057620093667786277.1635960751.1635960751  2.108892e+09  2021-11-03   \n471      9057620093667786277.1636022422.1636022422  2.108892e+09  2021-11-04   \n...                                            ...           ...         ...   \n1731890  9053933615865089375.1637567841.1637567841  2.108033e+09  2021-11-22   \n1731930  9054082268976121089.1635517699.1635517699  2.108068e+09  2021-10-29   \n1731976  9054215168154192730.1640549210.1640549217  2.108099e+09  2021-12-26   \n1732043  9054511349090867625.1632491945.1632491945  2.108168e+09  2021-09-24   \n1732150  9054901997843689431.1636581990.1636581990  2.108259e+09  2021-11-11   \n\n        visit_time  visit_number            utm_source utm_medium  \\\n215       13:02:16             1  kjsLglQLzykiRbcDiGcD        cpc   \n216       13:02:19             2  kjsLglQLzykiRbcDiGcD        cpc   \n469       10:45:43             1  kjsLglQLzykiRbcDiGcD        cpc   \n470       20:32:31             2  kjsLglQLzykiRbcDiGcD        cpc   \n471       13:40:22             3  kjsLglQLzykiRbcDiGcD        cpc   \n...            ...           ...                   ...        ...   \n1731890   10:57:21             1  vFcAhRxLfOWKhvxjELkx    organic   \n1731930   17:28:19             1  jaSOmLICuBzCFqHfBdRg      email   \n1731976   23:06:57             1  bByPQxmDaMXgpHeypKSM   referral   \n1732043   16:59:05             1  jaSOmLICuBzCFqHfBdRg      email   \n1732150   01:06:30             2  MvfHsxITijuriZxsqZqt        cpm   \n\n                 utm_campaign         utm_adcontent           utm_keyword  \\\n215      XHNUiSKKGTEpSAlaVMFQ  JNHcPlZPxEMWDnRiyoBf  nSReTmyFtbSjlPrTKoaX   \n216                       NaN                   NaN  nSReTmyFtbSjlPrTKoaX   \n469      RoDitORHdzGfGhNCyEMy                   NaN  QRSrGMRlRfLHqzjtnKsP   \n470      RoDitORHdzGfGhNCyEMy                   NaN  QRSrGMRlRfLHqzjtnKsP   \n471      RoDitORHdzGfGhNCyEMy                   NaN  QRSrGMRlRfLHqzjtnKsP   \n...                       ...                   ...                   ...   \n1731890  okTXSMadDkjvntEHzIjp  LLfCasrxQzJIyuldcuWy  aXQzDWsJuGXeBXexNHjc   \n1731930  bxOTvPtyGSdUrbwoXCPO  JNHcPlZPxEMWDnRiyoBf  puhZPIYqKXeFPaUviSjo   \n1731976  LTuZkdKfxRGVceoWkVyg  JNHcPlZPxEMWDnRiyoBf  UKNBOHebRIIsQRsjNKay   \n1732043  YCKgTzTDywjcWyQudGch  nNqUcgFgcqQbTVSvgaHr  puhZPIYqKXeFPaUviSjo   \n1732150  FTjNLDyTrXaWYgZymFkV  xhoenQgDQsgfEPYNPwKO  AOIxUCLuCjwgydJkOLWI   \n\n        device_category  device_os device_brand device_model  \\\n215             desktop  Macintosh        Apple          NaN   \n216             desktop  Macintosh        Apple          NaN   \n469             desktop  Macintosh        Apple          NaN   \n470             desktop  Macintosh        Apple          NaN   \n471             desktop  Macintosh        Apple          NaN   \n...                 ...        ...          ...          ...   \n1731890         desktop  Macintosh        Apple          NaN   \n1731930         desktop  Macintosh        Apple          NaN   \n1731976         desktop  Macintosh        Apple          NaN   \n1732043         desktop  Macintosh        Apple          NaN   \n1732150         desktop  Macintosh        Apple          NaN   \n\n        device_screen_resolution device_browser geo_country          geo_city  \\\n215                     1440x900         Safari      Russia            Moscow   \n216                     1440x900         Safari      Russia            Moscow   \n469                     1440x900         Chrome      Russia         (not set)   \n470                     1440x900         Chrome      Russia         (not set)   \n471                     1440x900         Chrome      Russia         (not set)   \n...                          ...            ...         ...               ...   \n1731890                1920x1080         Chrome      Russia  Saint Petersburg   \n1731930                 1280x800         Chrome      Russia          Voronezh   \n1731976                1792x1120         Safari      Russia             Kursk   \n1732043                1792x1120         Safari      Russia            Moscow   \n1732150                 1440x900         Chrome      Russia  Saint Petersburg   \n\n         target_action  \n215                  0  \n216                  0  \n469                  1  \n470                  0  \n471                  0  \n...                ...  \n1731890              0  \n1731930              0  \n1731976              0  \n1732043              0  \n1732150              0  \n\n[23454 rows x 19 columns]",
      "text/html": "<div>\n<style scoped>\n    .dataframe tbody tr th:only-of-type {\n        vertical-align: middle;\n    }\n\n    .dataframe tbody tr th {\n        vertical-align: top;\n    }\n\n    .dataframe thead th {\n        text-align: right;\n    }\n</style>\n<table border=\"1\" class=\"dataframe\">\n  <thead>\n    <tr style=\"text-align: right;\">\n      <th></th>\n      <th>session_id</th>\n      <th>client_id</th>\n      <th>visit_date</th>\n      <th>visit_time</th>\n      <th>visit_number</th>\n      <th>utm_source</th>\n      <th>utm_medium</th>\n      <th>utm_campaign</th>\n      <th>utm_adcontent</th>\n      <th>utm_keyword</th>\n      <th>device_category</th>\n      <th>device_os</th>\n      <th>device_brand</th>\n      <th>device_model</th>\n      <th>device_screen_resolution</th>\n      <th>device_browser</th>\n      <th>geo_country</th>\n      <th>geo_city</th>\n      <th>target_action</th>\n    </tr>\n  </thead>\n  <tbody>\n    <tr>\n      <th>215</th>\n      <td>905648595358313255.1638525736.1638525736</td>\n      <td>2.108627e+08</td>\n      <td>2021-12-03</td>\n      <td>13:02:16</td>\n      <td>1</td>\n      <td>kjsLglQLzykiRbcDiGcD</td>\n      <td>cpc</td>\n      <td>XHNUiSKKGTEpSAlaVMFQ</td>\n      <td>JNHcPlZPxEMWDnRiyoBf</td>\n      <td>nSReTmyFtbSjlPrTKoaX</td>\n      <td>desktop</td>\n      <td>Macintosh</td>\n      <td>Apple</td>\n      <td>NaN</td>\n      <td>1440x900</td>\n      <td>Safari</td>\n      <td>Russia</td>\n      <td>Moscow</td>\n      <td>0</td>\n    </tr>\n    <tr>\n      <th>216</th>\n      <td>905648595358313255.1638525739.1638525739</td>\n      <td>2.108627e+08</td>\n      <td>2021-12-03</td>\n      <td>13:02:19</td>\n      <td>2</td>\n      <td>kjsLglQLzykiRbcDiGcD</td>\n      <td>cpc</td>\n      <td>NaN</td>\n      <td>NaN</td>\n      <td>nSReTmyFtbSjlPrTKoaX</td>\n      <td>desktop</td>\n      <td>Macintosh</td>\n      <td>Apple</td>\n      <td>NaN</td>\n      <td>1440x900</td>\n      <td>Safari</td>\n      <td>Russia</td>\n      <td>Moscow</td>\n      <td>0</td>\n    </tr>\n    <tr>\n      <th>469</th>\n      <td>9057620093667786277.1635925543.1635925543</td>\n      <td>2.108892e+09</td>\n      <td>2021-11-03</td>\n      <td>10:45:43</td>\n      <td>1</td>\n      <td>kjsLglQLzykiRbcDiGcD</td>\n      <td>cpc</td>\n      <td>RoDitORHdzGfGhNCyEMy</td>\n      <td>NaN</td>\n      <td>QRSrGMRlRfLHqzjtnKsP</td>\n      <td>desktop</td>\n      <td>Macintosh</td>\n      <td>Apple</td>\n      <td>NaN</td>\n      <td>1440x900</td>\n      <td>Chrome</td>\n      <td>Russia</td>\n      <td>(not set)</td>\n      <td>1</td>\n    </tr>\n    <tr>\n      <th>470</th>\n      <td>9057620093667786277.1635960751.1635960751</td>\n      <td>2.108892e+09</td>\n      <td>2021-11-03</td>\n      <td>20:32:31</td>\n      <td>2</td>\n      <td>kjsLglQLzykiRbcDiGcD</td>\n      <td>cpc</td>\n      <td>RoDitORHdzGfGhNCyEMy</td>\n      <td>NaN</td>\n      <td>QRSrGMRlRfLHqzjtnKsP</td>\n      <td>desktop</td>\n      <td>Macintosh</td>\n      <td>Apple</td>\n      <td>NaN</td>\n      <td>1440x900</td>\n      <td>Chrome</td>\n      <td>Russia</td>\n      <td>(not set)</td>\n      <td>0</td>\n    </tr>\n    <tr>\n      <th>471</th>\n      <td>9057620093667786277.1636022422.1636022422</td>\n      <td>2.108892e+09</td>\n      <td>2021-11-04</td>\n      <td>13:40:22</td>\n      <td>3</td>\n      <td>kjsLglQLzykiRbcDiGcD</td>\n      <td>cpc</td>\n      <td>RoDitORHdzGfGhNCyEMy</td>\n      <td>NaN</td>\n      <td>QRSrGMRlRfLHqzjtnKsP</td>\n      <td>desktop</td>\n      <td>Macintosh</td>\n      <td>Apple</td>\n      <td>NaN</td>\n      <td>1440x900</td>\n      <td>Chrome</td>\n      <td>Russia</td>\n      <td>(not set)</td>\n      <td>0</td>\n    </tr>\n    <tr>\n      <th>...</th>\n      <td>...</td>\n      <td>...</td>\n      <td>...</td>\n      <td>...</td>\n      <td>...</td>\n      <td>...</td>\n      <td>...</td>\n      <td>...</td>\n      <td>...</td>\n      <td>...</td>\n      <td>...</td>\n      <td>...</td>\n      <td>...</td>\n      <td>...</td>\n      <td>...</td>\n      <td>...</td>\n      <td>...</td>\n      <td>...</td>\n      <td>...</td>\n    </tr>\n    <tr>\n      <th>1731890</th>\n      <td>9053933615865089375.1637567841.1637567841</td>\n      <td>2.108033e+09</td>\n      <td>2021-11-22</td>\n      <td>10:57:21</td>\n      <td>1</td>\n      <td>vFcAhRxLfOWKhvxjELkx</td>\n      <td>organic</td>\n      <td>okTXSMadDkjvntEHzIjp</td>\n      <td>LLfCasrxQzJIyuldcuWy</td>\n      <td>aXQzDWsJuGXeBXexNHjc</td>\n      <td>desktop</td>\n      <td>Macintosh</td>\n      <td>Apple</td>\n      <td>NaN</td>\n      <td>1920x1080</td>\n      <td>Chrome</td>\n      <td>Russia</td>\n      <td>Saint Petersburg</td>\n      <td>0</td>\n    </tr>\n    <tr>\n      <th>1731930</th>\n      <td>9054082268976121089.1635517699.1635517699</td>\n      <td>2.108068e+09</td>\n      <td>2021-10-29</td>\n      <td>17:28:19</td>\n      <td>1</td>\n      <td>jaSOmLICuBzCFqHfBdRg</td>\n      <td>email</td>\n      <td>bxOTvPtyGSdUrbwoXCPO</td>\n      <td>JNHcPlZPxEMWDnRiyoBf</td>\n      <td>puhZPIYqKXeFPaUviSjo</td>\n      <td>desktop</td>\n      <td>Macintosh</td>\n      <td>Apple</td>\n      <td>NaN</td>\n      <td>1280x800</td>\n      <td>Chrome</td>\n      <td>Russia</td>\n      <td>Voronezh</td>\n      <td>0</td>\n    </tr>\n    <tr>\n      <th>1731976</th>\n      <td>9054215168154192730.1640549210.1640549217</td>\n      <td>2.108099e+09</td>\n      <td>2021-12-26</td>\n      <td>23:06:57</td>\n      <td>1</td>\n      <td>bByPQxmDaMXgpHeypKSM</td>\n      <td>referral</td>\n      <td>LTuZkdKfxRGVceoWkVyg</td>\n      <td>JNHcPlZPxEMWDnRiyoBf</td>\n      <td>UKNBOHebRIIsQRsjNKay</td>\n      <td>desktop</td>\n      <td>Macintosh</td>\n      <td>Apple</td>\n      <td>NaN</td>\n      <td>1792x1120</td>\n      <td>Safari</td>\n      <td>Russia</td>\n      <td>Kursk</td>\n      <td>0</td>\n    </tr>\n    <tr>\n      <th>1732043</th>\n      <td>9054511349090867625.1632491945.1632491945</td>\n      <td>2.108168e+09</td>\n      <td>2021-09-24</td>\n      <td>16:59:05</td>\n      <td>1</td>\n      <td>jaSOmLICuBzCFqHfBdRg</td>\n      <td>email</td>\n      <td>YCKgTzTDywjcWyQudGch</td>\n      <td>nNqUcgFgcqQbTVSvgaHr</td>\n      <td>puhZPIYqKXeFPaUviSjo</td>\n      <td>desktop</td>\n      <td>Macintosh</td>\n      <td>Apple</td>\n      <td>NaN</td>\n      <td>1792x1120</td>\n      <td>Safari</td>\n      <td>Russia</td>\n      <td>Moscow</td>\n      <td>0</td>\n    </tr>\n    <tr>\n      <th>1732150</th>\n      <td>9054901997843689431.1636581990.1636581990</td>\n      <td>2.108259e+09</td>\n      <td>2021-11-11</td>\n      <td>01:06:30</td>\n      <td>2</td>\n      <td>MvfHsxITijuriZxsqZqt</td>\n      <td>cpm</td>\n      <td>FTjNLDyTrXaWYgZymFkV</td>\n      <td>xhoenQgDQsgfEPYNPwKO</td>\n      <td>AOIxUCLuCjwgydJkOLWI</td>\n      <td>desktop</td>\n      <td>Macintosh</td>\n      <td>Apple</td>\n      <td>NaN</td>\n      <td>1440x900</td>\n      <td>Chrome</td>\n      <td>Russia</td>\n      <td>Saint Petersburg</td>\n      <td>0</td>\n    </tr>\n  </tbody>\n</table>\n<p>23454 rows × 19 columns</p>\n</div>"
     },
     "execution_count": 56,
     "metadata": {},
     "output_type": "execute_result"
    }
   ],
   "source": [
    "apple_desktop = com_df[(com_df['device_os'] == 'Macintosh')]\n",
    "apple_desktop"
   ]
  },
  {
   "cell_type": "code",
   "execution_count": 58,
   "metadata": {},
   "outputs": [
    {
     "data": {
      "text/plain": "device_brand\nApple          526948\nSamsung        311641\nXiaomi         269251\nNaN            241674\nHuawei         173828\nother_brand     82107\nRealme          17926\n(not set)       16392\nOPPO            12775\nVivo            11026\nName: count, dtype: int64"
     },
     "execution_count": 58,
     "metadata": {},
     "output_type": "execute_result"
    }
   ],
   "source": [
    "com_df['device_brand'].value_counts(dropna=False).head(10)"
   ]
  },
  {
   "cell_type": "code",
   "execution_count": 59,
   "metadata": {},
   "outputs": [],
   "source": [
    "com_df.loc[(com_df['device_brand'].isna()), 'device_brand'] = 'other_brand'"
   ]
  },
  {
   "cell_type": "code",
   "execution_count": 60,
   "metadata": {},
   "outputs": [
    {
     "data": {
      "text/plain": "device_brand\nApple          526948\nother_brand    419897\nSamsung        311641\nXiaomi         269251\nHuawei         173828\nRealme          17926\nOPPO            12775\nName: count, dtype: int64"
     },
     "execution_count": 60,
     "metadata": {},
     "output_type": "execute_result"
    }
   ],
   "source": [
    "basic_brands = [\n",
    "    'Apple',\n",
    "    'Samsung',\n",
    "    'Xiaomi',\n",
    "    'Huawei',\n",
    "    'Realme',\n",
    "    'OPPO',\n",
    "    'Vivo'\n",
    "    'other_brand',\n",
    "]\n",
    "\n",
    "other_brands = [brand for brand in com_df['device_brand'].values if brand not in basic_brands]\n",
    "\n",
    "com_df['device_brand'] = com_df['device_brand'].replace(list(set(other_brands)), 'other_brand')\n",
    "com_df['device_brand'].value_counts(dropna=False)"
   ]
  },
  {
   "cell_type": "code",
   "execution_count": 61,
   "metadata": {},
   "outputs": [
    {
     "data": {
      "text/plain": "device_screen_resolution\n414x896      155140\n1920x1080    119214\n393x851      107972\n375x812      106961\n360x780       86718\n              ...  \n620x1090          1\n514x1129          1\n496x600           1\n841x421           1\n464x1123          1\nName: count, Length: 4947, dtype: int64"
     },
     "execution_count": 61,
     "metadata": {},
     "output_type": "execute_result"
    }
   ],
   "source": [
    "com_df['device_screen_resolution'].value_counts(dropna=False)"
   ]
  },
  {
   "cell_type": "code",
   "execution_count": 62,
   "metadata": {},
   "outputs": [
    {
     "data": {
      "text/plain": "0           259200\n1           328790\n2           259200\n3           308898\n4           308898\n            ...   \n1732261    2073600\n1732262     329160\n1732263     250125\n1732264     334443\n1732265    1049088\nName: screen_square, Length: 1732266, dtype: int64"
     },
     "execution_count": 62,
     "metadata": {},
     "output_type": "execute_result"
    }
   ],
   "source": [
    "# com_df['screen_square'] = com_df['device_screen_resolution'].apply(lambda x: int(x.split('x')[0]) * int(x.split('x')[1]))\n",
    "# com_df['screen_square']"
   ]
  },
  {
   "cell_type": "markdown",
   "metadata": {},
   "source": [
    "Изученине utm_"
   ]
  },
  {
   "cell_type": "code",
   "execution_count": 63,
   "metadata": {},
   "outputs": [
    {
     "data": {
      "text/plain": "utm_source\nZpYIoDJMcFzVoPFsHGJL    552555\nfDLlAcSmythWSCVMvqvL    277060\nkjsLglQLzykiRbcDiGcD    245178\nMvfHsxITijuriZxsqZqt    175831\nBHcvLfOaCWvWTykYqHVe    110963\n                         ...  \nWRHPhoRKhKxaenRCLBfo         1\ntjKUGseGMhkLEzdCqBRx         1\nVdeFdoGCqZBxFfKSHNLl         1\nRzLAoRYmCtVATSoPvWAQ         1\nnVVduuqoxTOGBvvhENWW         1\nName: count, Length: 281, dtype: int64"
     },
     "execution_count": 63,
     "metadata": {},
     "output_type": "execute_result"
    }
   ],
   "source": [
    "com_df['utm_source'].value_counts(dropna=False)"
   ]
  },
  {
   "cell_type": "code",
   "execution_count": 64,
   "metadata": {},
   "outputs": [
    {
     "data": {
      "text/plain": "utm_source\nZpYIoDJMcFzVoPFsHGJL    552555\nfDLlAcSmythWSCVMvqvL    277060\nkjsLglQLzykiRbcDiGcD    245178\nMvfHsxITijuriZxsqZqt    175831\nBHcvLfOaCWvWTykYqHVe    110963\nbByPQxmDaMXgpHeypKSM     90356\nQxAxdyPLuQMEcrdZWdWb     45267\naXQzDWsJuGXeBXexNHjc     29528\njaSOmLICuBzCFqHfBdRg     28288\nRmEBuqrriAfAVsLQQmhk     27412\nPlbkrSYoHuZBWfYjYnfw     20362\nvFcAhRxLfOWKhvxjELkx     18320\nhTjLvqNxGggkGnxSCaTm     14396\nother_source             14357\ngDBGzjFKYabGgSPZvrDH     13331\nfgymSoTvjKPEgaIJqsiH      9557\ngeDcueAOghDzHkGMmdOq      8180\nISrKoXQCxqqYvAZICvjs      7839\nnSReTmyFtbSjlPrTKoaX      5815\neLzNJHzPelJpEyBwMrKo      4578\nIZEXUFLARCUMynmHNBGo      4248\niNFgfQPqHPBuvGCYtrQE      3222\ngVRrcxiDQubJiljoTbGm      2733\nSzZERoLMmrEUEhDaYcyN      2648\noZCzWSykfixnjMPDNjSU      2585\nnmfptFmSirEqNzAzqbXA      2197\nGpAkIXsclxDGyILfNlrR      2071\nTxKUcPpthBDPieTGmVhx      2024\nghoaGAksqhKomdFrxgyJ      1859\nKgicpPxiEQfzPlPwQZJq      1674\nnrKihqcWGIzDsOqljdAv      1514\nDnEUulZAecfGPvdtZBYS      1386\nBKeImrJuRDZcHiSSTdzm      1335\nYlsczTIyBSwTLNtuDkCd      1269\nklTrhUaShgnjIbaPmqjc      1187\ndyicZQGoeASogoSafjEh      1141\nName: count, dtype: int64"
     },
     "execution_count": 64,
     "metadata": {},
     "output_type": "execute_result"
    }
   ],
   "source": [
    "other_source = [source[0] for source in com_df['utm_source'].value_counts(dropna=False).items() if source[1] < 10**3 or source[0] == np.nan]\n",
    "\n",
    "com_df['utm_source'] = com_df['utm_source'].replace(list(set(other_source)), 'other_source')\n",
    "\n",
    "com_df['utm_source'].value_counts(dropna=False)"
   ]
  },
  {
   "cell_type": "code",
   "execution_count": 65,
   "metadata": {},
   "outputs": [
    {
     "data": {
      "text/plain": "utm_medium\nbanner               525206\ncpc                  399395\n(none)               277060\ncpm                  229791\nreferral             136851\norganic               55009\nemail                 28287\npush                  27710\nstories               10472\ncpv                    7815\nblogger_channel        7731\nsmartbanner            6501\nblogger_stories        4226\ntg                     3920\ncpa                    3266\npost                   2227\noutlook                1269\napp                    1211\nsmm                    1194\nclicks                  908\nblogger_header          760\n(not set)               405\ninfo_text               335\nsms                     194\nlanding                 127\npartner                  95\nlink                     52\ncbaafe                   43\nCPM                      36\nyandex_cpc               31\nvk_smm                   25\nstatic                   17\ngoogle_cpc               15\narticle                  15\nweb_polka                11\nfb_smm                    8\nmedium                    8\nok_smm                    6\nnkp                       5\nsocial                    5\ncatalogue                 4\nmain_polka                3\nlinktest                  2\nusers_msk                 2\nreach                     2\npromo_sber                2\nlast                      1\nqrcodevideo               1\nqr                        1\ndom_click                 1\npromo_sbol                1\ntablet                    1\nlanding_interests         1\nSbol_catalog              1\nsber_app                  1\nName: count, dtype: int64"
     },
     "execution_count": 65,
     "metadata": {},
     "output_type": "execute_result"
    }
   ],
   "source": [
    "com_df['utm_medium'].value_counts(dropna=False)"
   ]
  },
  {
   "cell_type": "code",
   "execution_count": 66,
   "metadata": {},
   "outputs": [
    {
     "data": {
      "text/plain": "utm_medium\nbanner             525206\ncpc                399395\nother_medium       280185\ncpm                229791\nreferral           136851\norganic             55009\nemail               28287\npush                27710\nstories             10472\ncpv                  7815\nblogger_channel      7731\nsmartbanner          6501\nblogger_stories      4226\ntg                   3920\ncpa                  3266\npost                 2227\noutlook              1269\napp                  1211\nsmm                  1194\nName: count, dtype: int64"
     },
     "execution_count": 66,
     "metadata": {},
     "output_type": "execute_result"
    }
   ],
   "source": [
    "\n",
    "other_medium = [medium[0] for medium in com_df['utm_medium'].value_counts(dropna=False).items() if medium[1] < 10**3 or medium[0] == '(none)']\n",
    "\n",
    "com_df['utm_medium'] = com_df['utm_medium'].replace(list(set(other_medium)), 'other_medium')\n",
    "\n",
    "com_df['utm_medium'].value_counts(dropna=False)\n",
    "    "
   ]
  },
  {
   "cell_type": "code",
   "execution_count": 67,
   "metadata": {},
   "outputs": [
    {
     "data": {
      "text/plain": "                                  session_id     client_id  visit_date  \\\n0  9055434745589932991.1637753792.1637753792  2.108383e+09  2021-11-24   \n1   905544597018549464.1636867290.1636867290  2.108385e+08  2021-11-14   \n2  9055446045651783499.1640648526.1640648526  2.108385e+09  2021-12-28   \n3  9055447046360770272.1622255328.1622255328  2.108386e+09  2021-05-29   \n4  9055447046360770272.1622255345.1622255345  2.108386e+09  2021-05-29   \n\n  visit_time  visit_number            utm_source utm_medium  \\\n0   14:36:32             1  ZpYIoDJMcFzVoPFsHGJL     banner   \n1   08:21:30             1  MvfHsxITijuriZxsqZqt        cpm   \n2   02:42:06             1  ZpYIoDJMcFzVoPFsHGJL     banner   \n3   05:00:00             1  kjsLglQLzykiRbcDiGcD        cpc   \n4   05:00:00             2  kjsLglQLzykiRbcDiGcD        cpc   \n\n           utm_campaign         utm_adcontent           utm_keyword  \\\n0  LEoPHuyFvzoNfnzGgfcd  vCIpmpaGBnIQhyYNkXqp  puhZPIYqKXeFPaUviSjo   \n1  FTjNLDyTrXaWYgZymFkV  xhoenQgDQsgfEPYNPwKO  IGUCNvHlhfHpROGclCit   \n2  LEoPHuyFvzoNfnzGgfcd  vCIpmpaGBnIQhyYNkXqp  puhZPIYqKXeFPaUviSjo   \n3                   NaN  NOBKLgtuvqYWkXQHeYWM                   NaN   \n4                   NaN                   NaN                   NaN   \n\n  device_category device_os device_brand device_model  \\\n0          mobile   Android       Huawei          NaN   \n1          mobile   Android      Samsung          NaN   \n2          mobile   Android       Huawei          NaN   \n3          mobile   Android       Xiaomi          NaN   \n4          mobile   Android       Xiaomi          NaN   \n\n  device_screen_resolution    device_browser geo_country     geo_city  \\\n0                  360x720            Chrome      Russia     Zlatoust   \n1                  385x854  Samsung Internet      Russia       Moscow   \n2                  360x720            Chrome      Russia  Krasnoyarsk   \n3                  393x786            Chrome      Russia       Moscow   \n4                  393x786            Chrome      Russia       Moscow   \n\n   target_action  screen_square  \n0              0         259200  \n1              0         328790  \n2              0         259200  \n3              0         308898  \n4              0         308898  ",
      "text/html": "<div>\n<style scoped>\n    .dataframe tbody tr th:only-of-type {\n        vertical-align: middle;\n    }\n\n    .dataframe tbody tr th {\n        vertical-align: top;\n    }\n\n    .dataframe thead th {\n        text-align: right;\n    }\n</style>\n<table border=\"1\" class=\"dataframe\">\n  <thead>\n    <tr style=\"text-align: right;\">\n      <th></th>\n      <th>session_id</th>\n      <th>client_id</th>\n      <th>visit_date</th>\n      <th>visit_time</th>\n      <th>visit_number</th>\n      <th>utm_source</th>\n      <th>utm_medium</th>\n      <th>utm_campaign</th>\n      <th>utm_adcontent</th>\n      <th>utm_keyword</th>\n      <th>device_category</th>\n      <th>device_os</th>\n      <th>device_brand</th>\n      <th>device_model</th>\n      <th>device_screen_resolution</th>\n      <th>device_browser</th>\n      <th>geo_country</th>\n      <th>geo_city</th>\n      <th>target_action</th>\n      <th>screen_square</th>\n    </tr>\n  </thead>\n  <tbody>\n    <tr>\n      <th>0</th>\n      <td>9055434745589932991.1637753792.1637753792</td>\n      <td>2.108383e+09</td>\n      <td>2021-11-24</td>\n      <td>14:36:32</td>\n      <td>1</td>\n      <td>ZpYIoDJMcFzVoPFsHGJL</td>\n      <td>banner</td>\n      <td>LEoPHuyFvzoNfnzGgfcd</td>\n      <td>vCIpmpaGBnIQhyYNkXqp</td>\n      <td>puhZPIYqKXeFPaUviSjo</td>\n      <td>mobile</td>\n      <td>Android</td>\n      <td>Huawei</td>\n      <td>NaN</td>\n      <td>360x720</td>\n      <td>Chrome</td>\n      <td>Russia</td>\n      <td>Zlatoust</td>\n      <td>0</td>\n      <td>259200</td>\n    </tr>\n    <tr>\n      <th>1</th>\n      <td>905544597018549464.1636867290.1636867290</td>\n      <td>2.108385e+08</td>\n      <td>2021-11-14</td>\n      <td>08:21:30</td>\n      <td>1</td>\n      <td>MvfHsxITijuriZxsqZqt</td>\n      <td>cpm</td>\n      <td>FTjNLDyTrXaWYgZymFkV</td>\n      <td>xhoenQgDQsgfEPYNPwKO</td>\n      <td>IGUCNvHlhfHpROGclCit</td>\n      <td>mobile</td>\n      <td>Android</td>\n      <td>Samsung</td>\n      <td>NaN</td>\n      <td>385x854</td>\n      <td>Samsung Internet</td>\n      <td>Russia</td>\n      <td>Moscow</td>\n      <td>0</td>\n      <td>328790</td>\n    </tr>\n    <tr>\n      <th>2</th>\n      <td>9055446045651783499.1640648526.1640648526</td>\n      <td>2.108385e+09</td>\n      <td>2021-12-28</td>\n      <td>02:42:06</td>\n      <td>1</td>\n      <td>ZpYIoDJMcFzVoPFsHGJL</td>\n      <td>banner</td>\n      <td>LEoPHuyFvzoNfnzGgfcd</td>\n      <td>vCIpmpaGBnIQhyYNkXqp</td>\n      <td>puhZPIYqKXeFPaUviSjo</td>\n      <td>mobile</td>\n      <td>Android</td>\n      <td>Huawei</td>\n      <td>NaN</td>\n      <td>360x720</td>\n      <td>Chrome</td>\n      <td>Russia</td>\n      <td>Krasnoyarsk</td>\n      <td>0</td>\n      <td>259200</td>\n    </tr>\n    <tr>\n      <th>3</th>\n      <td>9055447046360770272.1622255328.1622255328</td>\n      <td>2.108386e+09</td>\n      <td>2021-05-29</td>\n      <td>05:00:00</td>\n      <td>1</td>\n      <td>kjsLglQLzykiRbcDiGcD</td>\n      <td>cpc</td>\n      <td>NaN</td>\n      <td>NOBKLgtuvqYWkXQHeYWM</td>\n      <td>NaN</td>\n      <td>mobile</td>\n      <td>Android</td>\n      <td>Xiaomi</td>\n      <td>NaN</td>\n      <td>393x786</td>\n      <td>Chrome</td>\n      <td>Russia</td>\n      <td>Moscow</td>\n      <td>0</td>\n      <td>308898</td>\n    </tr>\n    <tr>\n      <th>4</th>\n      <td>9055447046360770272.1622255345.1622255345</td>\n      <td>2.108386e+09</td>\n      <td>2021-05-29</td>\n      <td>05:00:00</td>\n      <td>2</td>\n      <td>kjsLglQLzykiRbcDiGcD</td>\n      <td>cpc</td>\n      <td>NaN</td>\n      <td>NaN</td>\n      <td>NaN</td>\n      <td>mobile</td>\n      <td>Android</td>\n      <td>Xiaomi</td>\n      <td>NaN</td>\n      <td>393x786</td>\n      <td>Chrome</td>\n      <td>Russia</td>\n      <td>Moscow</td>\n      <td>0</td>\n      <td>308898</td>\n    </tr>\n  </tbody>\n</table>\n</div>"
     },
     "execution_count": 67,
     "metadata": {},
     "output_type": "execute_result"
    }
   ],
   "source": [
    "com_df.head()"
   ]
  },
  {
   "cell_type": "code",
   "execution_count": 68,
   "metadata": {},
   "outputs": [
    {
     "data": {
      "text/plain": "geo_city\nMoscow              750928\nSaint Petersburg    278402\n(not set)            73297\nYekaterinburg        33555\nKrasnodar            30260\nKazan                27689\nSamara               23433\nNizhny Novgorod      20782\nUfa                  20283\nNovosibirsk          20115\nKrasnoyarsk          15283\nChelyabinsk          14923\nTula                 14774\nRostov-on-Don        13064\nVoronezh             12701\nIrkutsk              12596\nGrozny               11949\nBalashikha           11868\nVladivostok          11514\nYaroslavl             9143\nName: count, dtype: int64"
     },
     "execution_count": 68,
     "metadata": {},
     "output_type": "execute_result"
    }
   ],
   "source": [
    "com_df['geo_city'].value_counts(dropna=False).head(20)"
   ]
  },
  {
   "cell_type": "code",
   "execution_count": 69,
   "metadata": {},
   "outputs": [
    {
     "data": {
      "text/plain": "geo_city\nMoscow              750928\nSaint Petersburg    278402\nother_city          164093\nYekaterinburg        33555\nKrasnodar            30260\nKazan                27689\nSamara               23433\nNizhny Novgorod      20782\nUfa                  20283\nNovosibirsk          20115\nKrasnoyarsk          15283\nChelyabinsk          14923\nTula                 14774\nRostov-on-Don        13064\nVoronezh             12701\nIrkutsk              12596\nGrozny               11949\nBalashikha           11868\nVladivostok          11514\nYaroslavl             9143\nName: count, dtype: int64"
     },
     "execution_count": 69,
     "metadata": {},
     "output_type": "execute_result"
    }
   ],
   "source": [
    "other_city = [city[0] for city in com_df['geo_city'].value_counts(dropna=False).items() if city[1] < 10**3 or city[0] == '(not set)']\n",
    "\n",
    "com_df['geo_city'] = com_df['geo_city'].replace(list(set(other_city)), 'other_city')\n",
    "\n",
    "com_df['geo_city'].value_counts(dropna=False).head(20)"
   ]
  },
  {
   "cell_type": "code",
   "execution_count": 70,
   "metadata": {},
   "outputs": [
    {
     "data": {
      "text/plain": "geo_country\nRussia            1682423\nUkraine              8455\nUnited States        8141\nBelarus              3432\nKazakhstan           2109\nGermany              2085\nIreland              1989\nTurkey               1787\nSweden               1731\nNetherlands          1451\nUzbekistan           1422\nUnited Kingdom       1371\n(not set)            1071\nKyrgyzstan            926\nGeorgia               881\nFrance                742\nCyprus                706\nArmenia               629\nFinland               610\nSpain                 548\nName: count, dtype: int64"
     },
     "execution_count": 70,
     "metadata": {},
     "output_type": "execute_result"
    }
   ],
   "source": [
    "com_df['geo_country'].value_counts(dropna=False).head(20)"
   ]
  },
  {
   "cell_type": "code",
   "execution_count": 71,
   "metadata": {},
   "outputs": [
    {
     "data": {
      "text/plain": "geo_country\nRussia           1682423\nother_country      49843\nName: count, dtype: int64"
     },
     "execution_count": 71,
     "metadata": {},
     "output_type": "execute_result"
    }
   ],
   "source": [
    "other_country = [country[0] for country in com_df['geo_country'].value_counts(dropna=False).items() if country[1] < 10**4 or country[0] == '(not set)']\n",
    "\n",
    "com_df['geo_country'] = com_df['geo_country'].replace(other_country, 'other_country')\n",
    "\n",
    "com_df['geo_country'].value_counts(dropna=False).head()"
   ]
  },
  {
   "cell_type": "code",
   "execution_count": 72,
   "metadata": {},
   "outputs": [
    {
     "data": {
      "text/plain": "year\n2021    1732266\nName: count, dtype: int64"
     },
     "execution_count": 72,
     "metadata": {},
     "output_type": "execute_result"
    }
   ],
   "source": [
    "# com_df['year'] = com_df['visit_date'].apply(lambda x: int(x.split('-')[0]))\n",
    "#\n",
    "# com_df['month'] = com_df['visit_date'].apply(lambda x: int(x.split('-')[1]))\n",
    "#\n",
    "# com_df['day'] = com_df['visit_date'].apply(lambda x: int(x.split('-')[2]))\n",
    "#\n",
    "# com_df['year'].value_counts()\n"
   ]
  },
  {
   "cell_type": "code",
   "execution_count": 73,
   "metadata": {},
   "outputs": [
    {
     "data": {
      "text/plain": "0          14\n1           8\n2           2\n3           5\n4           5\n           ..\n1732261    10\n1732262     8\n1732263    15\n1732264    15\n1732265    19\nName: hour, Length: 1732266, dtype: int64"
     },
     "execution_count": 73,
     "metadata": {},
     "output_type": "execute_result"
    }
   ],
   "source": [
    "# com_df['hour'] = com_df['visit_time'].apply(lambda x: int(x.split(':')[0]))\n",
    "#\n",
    "# com_df['hour']"
   ]
  },
  {
   "cell_type": "code",
   "execution_count": 74,
   "metadata": {},
   "outputs": [
    {
     "data": {
      "text/plain": "                                  session_id     client_id  visit_date  \\\n0  9055434745589932991.1637753792.1637753792  2.108383e+09  2021-11-24   \n1   905544597018549464.1636867290.1636867290  2.108385e+08  2021-11-14   \n2  9055446045651783499.1640648526.1640648526  2.108385e+09  2021-12-28   \n3  9055447046360770272.1622255328.1622255328  2.108386e+09  2021-05-29   \n4  9055447046360770272.1622255345.1622255345  2.108386e+09  2021-05-29   \n\n  visit_time  visit_number            utm_source utm_medium  \\\n0   14:36:32             1  ZpYIoDJMcFzVoPFsHGJL     banner   \n1   08:21:30             1  MvfHsxITijuriZxsqZqt        cpm   \n2   02:42:06             1  ZpYIoDJMcFzVoPFsHGJL     banner   \n3   05:00:00             1  kjsLglQLzykiRbcDiGcD        cpc   \n4   05:00:00             2  kjsLglQLzykiRbcDiGcD        cpc   \n\n           utm_campaign         utm_adcontent           utm_keyword  ...  \\\n0  LEoPHuyFvzoNfnzGgfcd  vCIpmpaGBnIQhyYNkXqp  puhZPIYqKXeFPaUviSjo  ...   \n1  FTjNLDyTrXaWYgZymFkV  xhoenQgDQsgfEPYNPwKO  IGUCNvHlhfHpROGclCit  ...   \n2  LEoPHuyFvzoNfnzGgfcd  vCIpmpaGBnIQhyYNkXqp  puhZPIYqKXeFPaUviSjo  ...   \n3                   NaN  NOBKLgtuvqYWkXQHeYWM                   NaN  ...   \n4                   NaN                   NaN                   NaN  ...   \n\n  device_screen_resolution    device_browser geo_country     geo_city  \\\n0                  360x720            Chrome      Russia   other_city   \n1                  385x854  Samsung Internet      Russia       Moscow   \n2                  360x720            Chrome      Russia  Krasnoyarsk   \n3                  393x786            Chrome      Russia       Moscow   \n4                  393x786            Chrome      Russia       Moscow   \n\n  target_action screen_square  year month  day  hour  \n0             0        259200  2021    11   24    14  \n1             0        328790  2021    11   14     8  \n2             0        259200  2021    12   28     2  \n3             0        308898  2021     5   29     5  \n4             0        308898  2021     5   29     5  \n\n[5 rows x 24 columns]",
      "text/html": "<div>\n<style scoped>\n    .dataframe tbody tr th:only-of-type {\n        vertical-align: middle;\n    }\n\n    .dataframe tbody tr th {\n        vertical-align: top;\n    }\n\n    .dataframe thead th {\n        text-align: right;\n    }\n</style>\n<table border=\"1\" class=\"dataframe\">\n  <thead>\n    <tr style=\"text-align: right;\">\n      <th></th>\n      <th>session_id</th>\n      <th>client_id</th>\n      <th>visit_date</th>\n      <th>visit_time</th>\n      <th>visit_number</th>\n      <th>utm_source</th>\n      <th>utm_medium</th>\n      <th>utm_campaign</th>\n      <th>utm_adcontent</th>\n      <th>utm_keyword</th>\n      <th>...</th>\n      <th>device_screen_resolution</th>\n      <th>device_browser</th>\n      <th>geo_country</th>\n      <th>geo_city</th>\n      <th>target_action</th>\n      <th>screen_square</th>\n      <th>year</th>\n      <th>month</th>\n      <th>day</th>\n      <th>hour</th>\n    </tr>\n  </thead>\n  <tbody>\n    <tr>\n      <th>0</th>\n      <td>9055434745589932991.1637753792.1637753792</td>\n      <td>2.108383e+09</td>\n      <td>2021-11-24</td>\n      <td>14:36:32</td>\n      <td>1</td>\n      <td>ZpYIoDJMcFzVoPFsHGJL</td>\n      <td>banner</td>\n      <td>LEoPHuyFvzoNfnzGgfcd</td>\n      <td>vCIpmpaGBnIQhyYNkXqp</td>\n      <td>puhZPIYqKXeFPaUviSjo</td>\n      <td>...</td>\n      <td>360x720</td>\n      <td>Chrome</td>\n      <td>Russia</td>\n      <td>other_city</td>\n      <td>0</td>\n      <td>259200</td>\n      <td>2021</td>\n      <td>11</td>\n      <td>24</td>\n      <td>14</td>\n    </tr>\n    <tr>\n      <th>1</th>\n      <td>905544597018549464.1636867290.1636867290</td>\n      <td>2.108385e+08</td>\n      <td>2021-11-14</td>\n      <td>08:21:30</td>\n      <td>1</td>\n      <td>MvfHsxITijuriZxsqZqt</td>\n      <td>cpm</td>\n      <td>FTjNLDyTrXaWYgZymFkV</td>\n      <td>xhoenQgDQsgfEPYNPwKO</td>\n      <td>IGUCNvHlhfHpROGclCit</td>\n      <td>...</td>\n      <td>385x854</td>\n      <td>Samsung Internet</td>\n      <td>Russia</td>\n      <td>Moscow</td>\n      <td>0</td>\n      <td>328790</td>\n      <td>2021</td>\n      <td>11</td>\n      <td>14</td>\n      <td>8</td>\n    </tr>\n    <tr>\n      <th>2</th>\n      <td>9055446045651783499.1640648526.1640648526</td>\n      <td>2.108385e+09</td>\n      <td>2021-12-28</td>\n      <td>02:42:06</td>\n      <td>1</td>\n      <td>ZpYIoDJMcFzVoPFsHGJL</td>\n      <td>banner</td>\n      <td>LEoPHuyFvzoNfnzGgfcd</td>\n      <td>vCIpmpaGBnIQhyYNkXqp</td>\n      <td>puhZPIYqKXeFPaUviSjo</td>\n      <td>...</td>\n      <td>360x720</td>\n      <td>Chrome</td>\n      <td>Russia</td>\n      <td>Krasnoyarsk</td>\n      <td>0</td>\n      <td>259200</td>\n      <td>2021</td>\n      <td>12</td>\n      <td>28</td>\n      <td>2</td>\n    </tr>\n    <tr>\n      <th>3</th>\n      <td>9055447046360770272.1622255328.1622255328</td>\n      <td>2.108386e+09</td>\n      <td>2021-05-29</td>\n      <td>05:00:00</td>\n      <td>1</td>\n      <td>kjsLglQLzykiRbcDiGcD</td>\n      <td>cpc</td>\n      <td>NaN</td>\n      <td>NOBKLgtuvqYWkXQHeYWM</td>\n      <td>NaN</td>\n      <td>...</td>\n      <td>393x786</td>\n      <td>Chrome</td>\n      <td>Russia</td>\n      <td>Moscow</td>\n      <td>0</td>\n      <td>308898</td>\n      <td>2021</td>\n      <td>5</td>\n      <td>29</td>\n      <td>5</td>\n    </tr>\n    <tr>\n      <th>4</th>\n      <td>9055447046360770272.1622255345.1622255345</td>\n      <td>2.108386e+09</td>\n      <td>2021-05-29</td>\n      <td>05:00:00</td>\n      <td>2</td>\n      <td>kjsLglQLzykiRbcDiGcD</td>\n      <td>cpc</td>\n      <td>NaN</td>\n      <td>NaN</td>\n      <td>NaN</td>\n      <td>...</td>\n      <td>393x786</td>\n      <td>Chrome</td>\n      <td>Russia</td>\n      <td>Moscow</td>\n      <td>0</td>\n      <td>308898</td>\n      <td>2021</td>\n      <td>5</td>\n      <td>29</td>\n      <td>5</td>\n    </tr>\n  </tbody>\n</table>\n<p>5 rows × 24 columns</p>\n</div>"
     },
     "execution_count": 74,
     "metadata": {},
     "output_type": "execute_result"
    }
   ],
   "source": [
    "com_df.head()"
   ]
  },
  {
   "cell_type": "code",
   "execution_count": 75,
   "metadata": {},
   "outputs": [],
   "source": [
    "# com_df.drop(columns=['year','client_id', 'visit_date', 'visit_time', 'utm_campaign', 'utm_adcontent', 'utm_keyword','device_screen_resolution'], axis=1, inplace=True)\n",
    "# com_df.head(5)"
   ]
  },
  {
   "cell_type": "code",
   "execution_count": 78,
   "metadata": {},
   "outputs": [
    {
     "data": {
      "text/plain": "Empty DataFrame\nColumns: [session_id, client_id, visit_date, visit_time, visit_number, utm_source, utm_medium, utm_campaign, utm_adcontent, utm_keyword, device_category, device_os, device_brand, device_model, device_screen_resolution, device_browser, geo_country, geo_city, target_action, screen_square, year, month, day, hour]\nIndex: []\n\n[0 rows x 24 columns]",
      "text/html": "<div>\n<style scoped>\n    .dataframe tbody tr th:only-of-type {\n        vertical-align: middle;\n    }\n\n    .dataframe tbody tr th {\n        vertical-align: top;\n    }\n\n    .dataframe thead th {\n        text-align: right;\n    }\n</style>\n<table border=\"1\" class=\"dataframe\">\n  <thead>\n    <tr style=\"text-align: right;\">\n      <th></th>\n      <th>session_id</th>\n      <th>client_id</th>\n      <th>visit_date</th>\n      <th>visit_time</th>\n      <th>visit_number</th>\n      <th>utm_source</th>\n      <th>utm_medium</th>\n      <th>utm_campaign</th>\n      <th>utm_adcontent</th>\n      <th>utm_keyword</th>\n      <th>...</th>\n      <th>device_screen_resolution</th>\n      <th>device_browser</th>\n      <th>geo_country</th>\n      <th>geo_city</th>\n      <th>target_action</th>\n      <th>screen_square</th>\n      <th>year</th>\n      <th>month</th>\n      <th>day</th>\n      <th>hour</th>\n    </tr>\n  </thead>\n  <tbody>\n  </tbody>\n</table>\n<p>0 rows × 24 columns</p>\n</div>"
     },
     "execution_count": 78,
     "metadata": {},
     "output_type": "execute_result"
    }
   ],
   "source": [
    "# com_df[com_df['screen_square'].isna()]"
   ]
  },
  {
   "cell_type": "code",
   "execution_count": 79,
   "metadata": {},
   "outputs": [
    {
     "data": {
      "text/plain": "count    1.732266e+06\nmean     6.091448e+05\nstd      7.051585e+05\nmin      0.000000e+00\n25%      2.808000e+05\n50%      3.344430e+05\n75%      3.769800e+05\nmax      3.200000e+07\nName: screen_square, dtype: float64"
     },
     "execution_count": 79,
     "metadata": {},
     "output_type": "execute_result"
    }
   ],
   "source": [
    "# com_df['screen_square'].describe()"
   ]
  },
  {
   "cell_type": "markdown",
   "metadata": {},
   "source": [
    "Убираю выбросы в разрешении экрана"
   ]
  },
  {
   "cell_type": "code",
   "execution_count": 80,
   "metadata": {},
   "outputs": [],
   "source": [
    "# def calculate_outliers(data):\n",
    "#    q25 = data.screen_square.quantile(0.25)\n",
    "#    q75 = data.screen_square.quantile(0.75)\n",
    "#    iqr = q75 - q25\n",
    "#\n",
    "#    return (q25 - 1.5 * iqr, q75 + 1.5 * iqr)\n",
    "#\n",
    "# boundaries = calculate_outliers(com_df)\n",
    "# is_outlier_min = (com_df.screen_square < boundaries[0])\n",
    "# is_outlier_max = (com_df.screen_square > boundaries[1])\n",
    "#\n",
    "# is_outlier_min.sum()\n",
    "# is_outlier_max.sum()"
   ]
  },
  {
   "cell_type": "code",
   "execution_count": 81,
   "metadata": {},
   "outputs": [],
   "source": [
    "# round(is_outlier_min.sum() / len(com_df), 2)"
   ]
  },
  {
   "cell_type": "code",
   "execution_count": 82,
   "metadata": {},
   "outputs": [],
   "source": [
    "# com_df.loc[is_outlier_min, 'screen_square'] = int(boundaries[0])\n",
    "# com_df.loc[is_outlier_max, 'screen_square'] = int(boundaries[1])"
   ]
  },
  {
   "cell_type": "code",
   "execution_count": 83,
   "metadata": {},
   "outputs": [
    {
     "data": {
      "text/plain": "count    1.732266e+06\nmean     6.091448e+05\nstd      7.051585e+05\nmin      0.000000e+00\n25%      2.808000e+05\n50%      3.344430e+05\n75%      3.769800e+05\nmax      3.200000e+07\nName: screen_square, dtype: float64"
     },
     "execution_count": 83,
     "metadata": {},
     "output_type": "execute_result"
    }
   ],
   "source": [
    "# com_df['screen_square'].describe()"
   ]
  },
  {
   "cell_type": "code",
   "execution_count": 84,
   "outputs": [],
   "source": [
    "# com_df.drop(columns=['year','hour', 'screen_square', 'day'], axis=1, inplace=True)"
   ],
   "metadata": {
    "collapsed": false
   }
  },
  {
   "cell_type": "code",
   "execution_count": 85,
   "metadata": {},
   "outputs": [],
   "source": [
    "com_df.to_csv('data/clean_df.csv', index=False)"
   ]
  }
 ],
 "metadata": {
  "kernelspec": {
   "display_name": "Python 3",
   "language": "python",
   "name": "python3"
  },
  "language_info": {
   "codemirror_mode": {
    "name": "ipython",
    "version": 3
   },
   "file_extension": ".py",
   "mimetype": "text/x-python",
   "name": "python",
   "nbconvert_exporter": "python",
   "pygments_lexer": "ipython3",
   "version": "3.11.2"
  }
 },
 "nbformat": 4,
 "nbformat_minor": 2
}
